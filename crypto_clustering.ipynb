{
 "cells": [
  {
   "cell_type": "markdown",
   "metadata": {},
   "source": [
    "# Clustering Crypto"
   ]
  },
  {
   "cell_type": "code",
   "execution_count": 290,
   "metadata": {
    "tags": []
   },
   "outputs": [],
   "source": [
    "# Initial imports\n",
    "import requests\n",
    "import pandas as pd\n",
    "import matplotlib.pyplot as plt\n",
    "import hvplot.pandas\n",
    "import plotly.express as px\n",
    "from sklearn.preprocessing import StandardScaler, MinMaxScaler\n",
    "from sklearn.decomposition import PCA\n",
    "from sklearn.cluster import KMeans\n",
    "from pathlib import Path"
   ]
  },
  {
   "cell_type": "markdown",
   "metadata": {},
   "source": [
    "### Fetching Cryptocurrency Data"
   ]
  },
  {
   "cell_type": "code",
   "execution_count": 291,
   "metadata": {},
   "outputs": [],
   "source": [
    "# Use the following endpoint to fetch json data\n",
    "url = \"https://min-api.cryptocompare.com/data/all/coinlist\""
   ]
  },
  {
   "cell_type": "code",
   "execution_count": 292,
   "metadata": {},
   "outputs": [],
   "source": [
    "# Create a DataFrame \n",
    "# HINT: You will need to use the 'Data' key from the json response, then transpose the DataFrame.\n",
    "\n",
    "r = requests.get(url)\n",
    "data = r.json()"
   ]
  },
  {
   "cell_type": "code",
   "execution_count": 293,
   "metadata": {},
   "outputs": [
    {
     "data": {
      "text/html": [
       "<div>\n",
       "<style scoped>\n",
       "    .dataframe tbody tr th:only-of-type {\n",
       "        vertical-align: middle;\n",
       "    }\n",
       "\n",
       "    .dataframe tbody tr th {\n",
       "        vertical-align: top;\n",
       "    }\n",
       "\n",
       "    .dataframe thead th {\n",
       "        text-align: right;\n",
       "    }\n",
       "</style>\n",
       "<table border=\"1\" class=\"dataframe\">\n",
       "  <thead>\n",
       "    <tr style=\"text-align: right;\">\n",
       "      <th></th>\n",
       "      <th>value</th>\n",
       "      <th>CoinName</th>\n",
       "      <th>Algorithm</th>\n",
       "      <th>IsTrading</th>\n",
       "      <th>ProofType</th>\n",
       "      <th>TotalCoinsMined</th>\n",
       "      <th>TotalCoinSupply</th>\n",
       "    </tr>\n",
       "  </thead>\n",
       "  <tbody>\n",
       "    <tr>\n",
       "      <th>0</th>\n",
       "      <td>42</td>\n",
       "      <td>42 Coin</td>\n",
       "      <td>Scrypt</td>\n",
       "      <td>True</td>\n",
       "      <td>PoW/PoS</td>\n",
       "      <td>4.199995e+01</td>\n",
       "      <td>42</td>\n",
       "    </tr>\n",
       "    <tr>\n",
       "      <th>1</th>\n",
       "      <td>365</td>\n",
       "      <td>365Coin</td>\n",
       "      <td>X11</td>\n",
       "      <td>True</td>\n",
       "      <td>PoW/PoS</td>\n",
       "      <td>NaN</td>\n",
       "      <td>2300000000</td>\n",
       "    </tr>\n",
       "    <tr>\n",
       "      <th>2</th>\n",
       "      <td>404</td>\n",
       "      <td>404Coin</td>\n",
       "      <td>Scrypt</td>\n",
       "      <td>True</td>\n",
       "      <td>PoW/PoS</td>\n",
       "      <td>1.055185e+09</td>\n",
       "      <td>532000000</td>\n",
       "    </tr>\n",
       "    <tr>\n",
       "      <th>3</th>\n",
       "      <td>611</td>\n",
       "      <td>SixEleven</td>\n",
       "      <td>SHA-256</td>\n",
       "      <td>True</td>\n",
       "      <td>PoW</td>\n",
       "      <td>NaN</td>\n",
       "      <td>611000</td>\n",
       "    </tr>\n",
       "    <tr>\n",
       "      <th>4</th>\n",
       "      <td>808</td>\n",
       "      <td>808</td>\n",
       "      <td>SHA-256</td>\n",
       "      <td>True</td>\n",
       "      <td>PoW/PoS</td>\n",
       "      <td>0.000000e+00</td>\n",
       "      <td>0</td>\n",
       "    </tr>\n",
       "  </tbody>\n",
       "</table>\n",
       "</div>"
      ],
      "text/plain": [
       "  value   CoinName Algorithm  IsTrading ProofType  TotalCoinsMined  \\\n",
       "0    42    42 Coin    Scrypt       True   PoW/PoS     4.199995e+01   \n",
       "1   365    365Coin       X11       True   PoW/PoS              NaN   \n",
       "2   404    404Coin    Scrypt       True   PoW/PoS     1.055185e+09   \n",
       "3   611  SixEleven   SHA-256       True       PoW              NaN   \n",
       "4   808        808   SHA-256       True   PoW/PoS     0.000000e+00   \n",
       "\n",
       "  TotalCoinSupply  \n",
       "0              42  \n",
       "1      2300000000  \n",
       "2       532000000  \n",
       "3          611000  \n",
       "4               0  "
      ]
     },
     "execution_count": 293,
     "metadata": {},
     "output_type": "execute_result"
    }
   ],
   "source": [
    "# Alternatively, use the provided csv file:\n",
    "# file_path = Path(\"Resources/crypto_data.csv\")\n",
    "\n",
    "# Create a DataFrame\n",
    "file_path = Path(\"crypto_data.csv\")\n",
    "df_crypto = pd.read_csv(file_path)\n",
    "df_crypto.head()"
   ]
  },
  {
   "cell_type": "markdown",
   "metadata": {},
   "source": [
    "### Data Preprocessing"
   ]
  },
  {
   "cell_type": "code",
   "execution_count": 294,
   "metadata": {},
   "outputs": [],
   "source": [
    "# Keep only necessary columns:\n",
    "# 'CoinName','Algorithm','IsTrading','ProofType','TotalCoinsMined','TotalCoinSupply'\n",
    "df_crypto.drop(df_crypto.columns[df_crypto.columns.str.contains('value',case = False)],axis = 1, inplace = True)\n",
    "#df_crypto = df_crypto.drop(df_crypto.columns[[\"Unnamed:0\"]], axis=1)  # df.columns is zero-based pd.Index\n",
    "#df_crypto.drop(['Unnamed:0'], axis=1, inplace=True)\n",
    "#df_crypto = df_crypto.drop(columns=['Unnamed:0'])\n",
    "#columns = [' ']\n",
    "#df_crypto.drop(columns, inplace=True, axis=1)\n",
    "\n",
    "#df_crypto = df_crypto.drop('value', axis=1)"
   ]
  },
  {
   "cell_type": "code",
   "execution_count": 295,
   "metadata": {},
   "outputs": [
    {
     "data": {
      "text/html": [
       "<div>\n",
       "<style scoped>\n",
       "    .dataframe tbody tr th:only-of-type {\n",
       "        vertical-align: middle;\n",
       "    }\n",
       "\n",
       "    .dataframe tbody tr th {\n",
       "        vertical-align: top;\n",
       "    }\n",
       "\n",
       "    .dataframe thead th {\n",
       "        text-align: right;\n",
       "    }\n",
       "</style>\n",
       "<table border=\"1\" class=\"dataframe\">\n",
       "  <thead>\n",
       "    <tr style=\"text-align: right;\">\n",
       "      <th></th>\n",
       "      <th>CoinName</th>\n",
       "      <th>Algorithm</th>\n",
       "      <th>IsTrading</th>\n",
       "      <th>ProofType</th>\n",
       "      <th>TotalCoinsMined</th>\n",
       "      <th>TotalCoinSupply</th>\n",
       "    </tr>\n",
       "  </thead>\n",
       "  <tbody>\n",
       "    <tr>\n",
       "      <th>0</th>\n",
       "      <td>42 Coin</td>\n",
       "      <td>Scrypt</td>\n",
       "      <td>True</td>\n",
       "      <td>PoW/PoS</td>\n",
       "      <td>4.199995e+01</td>\n",
       "      <td>42</td>\n",
       "    </tr>\n",
       "    <tr>\n",
       "      <th>1</th>\n",
       "      <td>365Coin</td>\n",
       "      <td>X11</td>\n",
       "      <td>True</td>\n",
       "      <td>PoW/PoS</td>\n",
       "      <td>NaN</td>\n",
       "      <td>2300000000</td>\n",
       "    </tr>\n",
       "    <tr>\n",
       "      <th>2</th>\n",
       "      <td>404Coin</td>\n",
       "      <td>Scrypt</td>\n",
       "      <td>True</td>\n",
       "      <td>PoW/PoS</td>\n",
       "      <td>1.055185e+09</td>\n",
       "      <td>532000000</td>\n",
       "    </tr>\n",
       "    <tr>\n",
       "      <th>3</th>\n",
       "      <td>SixEleven</td>\n",
       "      <td>SHA-256</td>\n",
       "      <td>True</td>\n",
       "      <td>PoW</td>\n",
       "      <td>NaN</td>\n",
       "      <td>611000</td>\n",
       "    </tr>\n",
       "    <tr>\n",
       "      <th>4</th>\n",
       "      <td>808</td>\n",
       "      <td>SHA-256</td>\n",
       "      <td>True</td>\n",
       "      <td>PoW/PoS</td>\n",
       "      <td>0.000000e+00</td>\n",
       "      <td>0</td>\n",
       "    </tr>\n",
       "  </tbody>\n",
       "</table>\n",
       "</div>"
      ],
      "text/plain": [
       "    CoinName Algorithm  IsTrading ProofType  TotalCoinsMined TotalCoinSupply\n",
       "0    42 Coin    Scrypt       True   PoW/PoS     4.199995e+01              42\n",
       "1    365Coin       X11       True   PoW/PoS              NaN      2300000000\n",
       "2    404Coin    Scrypt       True   PoW/PoS     1.055185e+09       532000000\n",
       "3  SixEleven   SHA-256       True       PoW              NaN          611000\n",
       "4        808   SHA-256       True   PoW/PoS     0.000000e+00               0"
      ]
     },
     "execution_count": 295,
     "metadata": {},
     "output_type": "execute_result"
    }
   ],
   "source": [
    "df_crypto.head()"
   ]
  },
  {
   "cell_type": "code",
   "execution_count": 296,
   "metadata": {},
   "outputs": [],
   "source": [
    "# Keep only cryptocurrencies that are trading\n",
    "df_crypto = df_crypto.loc[df_crypto['IsTrading'] == True]"
   ]
  },
  {
   "cell_type": "code",
   "execution_count": 297,
   "metadata": {},
   "outputs": [],
   "source": [
    "# Keep only cryptocurrencies with a working algorithm\n",
    "df_crypto = df_crypto.loc[df_crypto['Algorithm'] != 'N/A']"
   ]
  },
  {
   "cell_type": "code",
   "execution_count": 298,
   "metadata": {},
   "outputs": [],
   "source": [
    "# Remove the \"IsTrading\" column\n",
    "df_crypto = df_crypto.drop (columns = 'IsTrading')"
   ]
  },
  {
   "cell_type": "code",
   "execution_count": 299,
   "metadata": {},
   "outputs": [
    {
     "data": {
      "text/plain": [
       "CoinName             0\n",
       "Algorithm            0\n",
       "ProofType            0\n",
       "TotalCoinsMined    459\n",
       "TotalCoinSupply      0\n",
       "dtype: int64"
      ]
     },
     "execution_count": 299,
     "metadata": {},
     "output_type": "execute_result"
    }
   ],
   "source": [
    "# Remove rows with at least 1 null value\n",
    "df_crypto.isnull().sum()"
   ]
  },
  {
   "cell_type": "code",
   "execution_count": 300,
   "metadata": {},
   "outputs": [],
   "source": [
    "# Remove rows with cryptocurrencies having no coins mined\n",
    "df_crypto = df_crypto.loc[df_crypto['TotalCoinsMined'] != 0]"
   ]
  },
  {
   "cell_type": "code",
   "execution_count": 301,
   "metadata": {},
   "outputs": [],
   "source": [
    "df_crypto.dropna(inplace=True)"
   ]
  },
  {
   "cell_type": "code",
   "execution_count": 302,
   "metadata": {},
   "outputs": [],
   "source": [
    "# Drop rows where there are 'N/A' text values\n",
    "df_crypto = df_crypto[df_crypto!='N/A']"
   ]
  },
  {
   "cell_type": "code",
   "execution_count": 303,
   "metadata": {},
   "outputs": [
    {
     "name": "stdout",
     "output_type": "stream",
     "text": [
      "         CoinName\n",
      "0         42 Coin\n",
      "2         404Coin\n",
      "5       EliteCoin\n",
      "7         Bitcoin\n",
      "8        Ethereum\n",
      "...           ...\n",
      "1238       ZEPHYR\n",
      "1242      Gapcoin\n",
      "1245       Beldex\n",
      "1246      Horizen\n",
      "1247  BitcoinPlus\n",
      "\n",
      "[533 rows x 1 columns]\n"
     ]
    }
   ],
   "source": [
    "# Store the 'CoinName'column in its own DataFrame prior to dropping it from crypto_df\n",
    "coinname_df = pd.DataFrame(\n",
    "    data = df_crypto, columns = ['CoinName'])\n",
    "print (coinname_df)"
   ]
  },
  {
   "cell_type": "code",
   "execution_count": 304,
   "metadata": {},
   "outputs": [
    {
     "data": {
      "text/html": [
       "<div>\n",
       "<style scoped>\n",
       "    .dataframe tbody tr th:only-of-type {\n",
       "        vertical-align: middle;\n",
       "    }\n",
       "\n",
       "    .dataframe tbody tr th {\n",
       "        vertical-align: top;\n",
       "    }\n",
       "\n",
       "    .dataframe thead th {\n",
       "        text-align: right;\n",
       "    }\n",
       "</style>\n",
       "<table border=\"1\" class=\"dataframe\">\n",
       "  <thead>\n",
       "    <tr style=\"text-align: right;\">\n",
       "      <th></th>\n",
       "      <th>Algorithm</th>\n",
       "      <th>ProofType</th>\n",
       "      <th>TotalCoinsMined</th>\n",
       "      <th>TotalCoinSupply</th>\n",
       "    </tr>\n",
       "  </thead>\n",
       "  <tbody>\n",
       "    <tr>\n",
       "      <th>0</th>\n",
       "      <td>Scrypt</td>\n",
       "      <td>PoW/PoS</td>\n",
       "      <td>4.199995e+01</td>\n",
       "      <td>42</td>\n",
       "    </tr>\n",
       "    <tr>\n",
       "      <th>2</th>\n",
       "      <td>Scrypt</td>\n",
       "      <td>PoW/PoS</td>\n",
       "      <td>1.055185e+09</td>\n",
       "      <td>532000000</td>\n",
       "    </tr>\n",
       "    <tr>\n",
       "      <th>5</th>\n",
       "      <td>X13</td>\n",
       "      <td>PoW/PoS</td>\n",
       "      <td>2.927942e+10</td>\n",
       "      <td>314159265359</td>\n",
       "    </tr>\n",
       "    <tr>\n",
       "      <th>7</th>\n",
       "      <td>SHA-256</td>\n",
       "      <td>PoW</td>\n",
       "      <td>1.792718e+07</td>\n",
       "      <td>21000000</td>\n",
       "    </tr>\n",
       "    <tr>\n",
       "      <th>8</th>\n",
       "      <td>Ethash</td>\n",
       "      <td>PoW</td>\n",
       "      <td>1.076842e+08</td>\n",
       "      <td>0</td>\n",
       "    </tr>\n",
       "  </tbody>\n",
       "</table>\n",
       "</div>"
      ],
      "text/plain": [
       "  Algorithm ProofType  TotalCoinsMined TotalCoinSupply\n",
       "0    Scrypt   PoW/PoS     4.199995e+01              42\n",
       "2    Scrypt   PoW/PoS     1.055185e+09       532000000\n",
       "5       X13   PoW/PoS     2.927942e+10    314159265359\n",
       "7   SHA-256       PoW     1.792718e+07        21000000\n",
       "8    Ethash       PoW     1.076842e+08               0"
      ]
     },
     "execution_count": 304,
     "metadata": {},
     "output_type": "execute_result"
    }
   ],
   "source": [
    "# Drop the 'CoinName' column since it's not going to be used on the clustering algorithm\n",
    "df_crypto = df_crypto.drop(columns = 'CoinName')\n",
    "df_crypto.head()"
   ]
  },
  {
   "cell_type": "code",
   "execution_count": 305,
   "metadata": {},
   "outputs": [
    {
     "data": {
      "text/plain": [
       "(533, 4)"
      ]
     },
     "execution_count": 305,
     "metadata": {},
     "output_type": "execute_result"
    }
   ],
   "source": [
    "df_crypto.shape"
   ]
  },
  {
   "cell_type": "code",
   "execution_count": 306,
   "metadata": {},
   "outputs": [
    {
     "data": {
      "text/html": [
       "<div>\n",
       "<style scoped>\n",
       "    .dataframe tbody tr th:only-of-type {\n",
       "        vertical-align: middle;\n",
       "    }\n",
       "\n",
       "    .dataframe tbody tr th {\n",
       "        vertical-align: top;\n",
       "    }\n",
       "\n",
       "    .dataframe thead th {\n",
       "        text-align: right;\n",
       "    }\n",
       "</style>\n",
       "<table border=\"1\" class=\"dataframe\">\n",
       "  <thead>\n",
       "    <tr style=\"text-align: right;\">\n",
       "      <th></th>\n",
       "      <th>TotalCoinsMined</th>\n",
       "      <th>TotalCoinSupply</th>\n",
       "      <th>Algorithm_1GB AES Pattern Search</th>\n",
       "      <th>Algorithm_536</th>\n",
       "      <th>Algorithm_Argon2d</th>\n",
       "      <th>Algorithm_BLAKE256</th>\n",
       "      <th>Algorithm_Blake</th>\n",
       "      <th>Algorithm_Blake2S</th>\n",
       "      <th>Algorithm_Blake2b</th>\n",
       "      <th>Algorithm_C11</th>\n",
       "      <th>...</th>\n",
       "      <th>ProofType_PoW/PoS</th>\n",
       "      <th>ProofType_PoW/PoS</th>\n",
       "      <th>ProofType_PoW/PoW</th>\n",
       "      <th>ProofType_PoW/nPoS</th>\n",
       "      <th>ProofType_Pos</th>\n",
       "      <th>ProofType_Proof of Authority</th>\n",
       "      <th>ProofType_Proof of Trust</th>\n",
       "      <th>ProofType_TPoS</th>\n",
       "      <th>ProofType_Zero-Knowledge Proof</th>\n",
       "      <th>ProofType_dPoW/PoW</th>\n",
       "    </tr>\n",
       "  </thead>\n",
       "  <tbody>\n",
       "    <tr>\n",
       "      <th>0</th>\n",
       "      <td>4.199995e+01</td>\n",
       "      <td>42</td>\n",
       "      <td>0</td>\n",
       "      <td>0</td>\n",
       "      <td>0</td>\n",
       "      <td>0</td>\n",
       "      <td>0</td>\n",
       "      <td>0</td>\n",
       "      <td>0</td>\n",
       "      <td>0</td>\n",
       "      <td>...</td>\n",
       "      <td>1</td>\n",
       "      <td>0</td>\n",
       "      <td>0</td>\n",
       "      <td>0</td>\n",
       "      <td>0</td>\n",
       "      <td>0</td>\n",
       "      <td>0</td>\n",
       "      <td>0</td>\n",
       "      <td>0</td>\n",
       "      <td>0</td>\n",
       "    </tr>\n",
       "    <tr>\n",
       "      <th>2</th>\n",
       "      <td>1.055185e+09</td>\n",
       "      <td>532000000</td>\n",
       "      <td>0</td>\n",
       "      <td>0</td>\n",
       "      <td>0</td>\n",
       "      <td>0</td>\n",
       "      <td>0</td>\n",
       "      <td>0</td>\n",
       "      <td>0</td>\n",
       "      <td>0</td>\n",
       "      <td>...</td>\n",
       "      <td>1</td>\n",
       "      <td>0</td>\n",
       "      <td>0</td>\n",
       "      <td>0</td>\n",
       "      <td>0</td>\n",
       "      <td>0</td>\n",
       "      <td>0</td>\n",
       "      <td>0</td>\n",
       "      <td>0</td>\n",
       "      <td>0</td>\n",
       "    </tr>\n",
       "    <tr>\n",
       "      <th>5</th>\n",
       "      <td>2.927942e+10</td>\n",
       "      <td>314159265359</td>\n",
       "      <td>0</td>\n",
       "      <td>0</td>\n",
       "      <td>0</td>\n",
       "      <td>0</td>\n",
       "      <td>0</td>\n",
       "      <td>0</td>\n",
       "      <td>0</td>\n",
       "      <td>0</td>\n",
       "      <td>...</td>\n",
       "      <td>1</td>\n",
       "      <td>0</td>\n",
       "      <td>0</td>\n",
       "      <td>0</td>\n",
       "      <td>0</td>\n",
       "      <td>0</td>\n",
       "      <td>0</td>\n",
       "      <td>0</td>\n",
       "      <td>0</td>\n",
       "      <td>0</td>\n",
       "    </tr>\n",
       "    <tr>\n",
       "      <th>7</th>\n",
       "      <td>1.792718e+07</td>\n",
       "      <td>21000000</td>\n",
       "      <td>0</td>\n",
       "      <td>0</td>\n",
       "      <td>0</td>\n",
       "      <td>0</td>\n",
       "      <td>0</td>\n",
       "      <td>0</td>\n",
       "      <td>0</td>\n",
       "      <td>0</td>\n",
       "      <td>...</td>\n",
       "      <td>0</td>\n",
       "      <td>0</td>\n",
       "      <td>0</td>\n",
       "      <td>0</td>\n",
       "      <td>0</td>\n",
       "      <td>0</td>\n",
       "      <td>0</td>\n",
       "      <td>0</td>\n",
       "      <td>0</td>\n",
       "      <td>0</td>\n",
       "    </tr>\n",
       "    <tr>\n",
       "      <th>8</th>\n",
       "      <td>1.076842e+08</td>\n",
       "      <td>0</td>\n",
       "      <td>0</td>\n",
       "      <td>0</td>\n",
       "      <td>0</td>\n",
       "      <td>0</td>\n",
       "      <td>0</td>\n",
       "      <td>0</td>\n",
       "      <td>0</td>\n",
       "      <td>0</td>\n",
       "      <td>...</td>\n",
       "      <td>0</td>\n",
       "      <td>0</td>\n",
       "      <td>0</td>\n",
       "      <td>0</td>\n",
       "      <td>0</td>\n",
       "      <td>0</td>\n",
       "      <td>0</td>\n",
       "      <td>0</td>\n",
       "      <td>0</td>\n",
       "      <td>0</td>\n",
       "    </tr>\n",
       "  </tbody>\n",
       "</table>\n",
       "<p>5 rows × 100 columns</p>\n",
       "</div>"
      ],
      "text/plain": [
       "   TotalCoinsMined TotalCoinSupply  Algorithm_1GB AES Pattern Search  \\\n",
       "0     4.199995e+01              42                                 0   \n",
       "2     1.055185e+09       532000000                                 0   \n",
       "5     2.927942e+10    314159265359                                 0   \n",
       "7     1.792718e+07        21000000                                 0   \n",
       "8     1.076842e+08               0                                 0   \n",
       "\n",
       "   Algorithm_536  Algorithm_Argon2d  Algorithm_BLAKE256  Algorithm_Blake  \\\n",
       "0              0                  0                   0                0   \n",
       "2              0                  0                   0                0   \n",
       "5              0                  0                   0                0   \n",
       "7              0                  0                   0                0   \n",
       "8              0                  0                   0                0   \n",
       "\n",
       "   Algorithm_Blake2S  Algorithm_Blake2b  Algorithm_C11  ...  \\\n",
       "0                  0                  0              0  ...   \n",
       "2                  0                  0              0  ...   \n",
       "5                  0                  0              0  ...   \n",
       "7                  0                  0              0  ...   \n",
       "8                  0                  0              0  ...   \n",
       "\n",
       "   ProofType_PoW/PoS  ProofType_PoW/PoS   ProofType_PoW/PoW  \\\n",
       "0                  1                   0                  0   \n",
       "2                  1                   0                  0   \n",
       "5                  1                   0                  0   \n",
       "7                  0                   0                  0   \n",
       "8                  0                   0                  0   \n",
       "\n",
       "   ProofType_PoW/nPoS  ProofType_Pos  ProofType_Proof of Authority  \\\n",
       "0                   0              0                             0   \n",
       "2                   0              0                             0   \n",
       "5                   0              0                             0   \n",
       "7                   0              0                             0   \n",
       "8                   0              0                             0   \n",
       "\n",
       "   ProofType_Proof of Trust  ProofType_TPoS  ProofType_Zero-Knowledge Proof  \\\n",
       "0                         0               0                               0   \n",
       "2                         0               0                               0   \n",
       "5                         0               0                               0   \n",
       "7                         0               0                               0   \n",
       "8                         0               0                               0   \n",
       "\n",
       "   ProofType_dPoW/PoW  \n",
       "0                   0  \n",
       "2                   0  \n",
       "5                   0  \n",
       "7                   0  \n",
       "8                   0  \n",
       "\n",
       "[5 rows x 100 columns]"
      ]
     },
     "execution_count": 306,
     "metadata": {},
     "output_type": "execute_result"
    }
   ],
   "source": [
    "# Create dummy variables for text features\n",
    "crypto_dummies= pd.get_dummies(df_crypto, columns=['Algorithm', 'ProofType'])\n",
    "crypto_dummies.head()"
   ]
  },
  {
   "cell_type": "code",
   "execution_count": 307,
   "metadata": {},
   "outputs": [
    {
     "data": {
      "text/plain": [
       "(533, 4)"
      ]
     },
     "execution_count": 307,
     "metadata": {},
     "output_type": "execute_result"
    }
   ],
   "source": [
    "pca_df.shape"
   ]
  },
  {
   "cell_type": "code",
   "execution_count": 308,
   "metadata": {},
   "outputs": [],
   "source": [
    "# Standardize data\n",
    "\n",
    "#scaler = StandardScaler().fit(X)\n",
    "#X = scaler.transform(X)\n",
    "\n",
    "#def (crypto_scaled) = crypto_scaled[~np.isnan(crypto_scaled).any(axis=1)]\n",
    "#np.isnan(crypto_scaled).sum()\n",
    "\n",
    "\n",
    "\n",
    "#Crete Standard Scaler Instance \n",
    "scaler = StandardScaler()\n",
    "\n",
    "#Standardize data \n",
    "X_scaled = scaler.fit_transform(crypto_dummies)\n"
   ]
  },
  {
   "cell_type": "code",
   "execution_count": 309,
   "metadata": {},
   "outputs": [],
   "source": [
    "# Use PCA to reduce dimensions to 3 principal components\n",
    "pca = PCA(n_components=3)\n",
    "\n",
    "crypto_pca = pca.fit_transform(X_scaled)"
   ]
  },
  {
   "cell_type": "code",
   "execution_count": 310,
   "metadata": {},
   "outputs": [
    {
     "data": {
      "text/html": [
       "<div>\n",
       "<style scoped>\n",
       "    .dataframe tbody tr th:only-of-type {\n",
       "        vertical-align: middle;\n",
       "    }\n",
       "\n",
       "    .dataframe tbody tr th {\n",
       "        vertical-align: top;\n",
       "    }\n",
       "\n",
       "    .dataframe thead th {\n",
       "        text-align: right;\n",
       "    }\n",
       "</style>\n",
       "<table border=\"1\" class=\"dataframe\">\n",
       "  <thead>\n",
       "    <tr style=\"text-align: right;\">\n",
       "      <th></th>\n",
       "      <th>PC 1</th>\n",
       "      <th>PC 2</th>\n",
       "      <th>PC 3</th>\n",
       "    </tr>\n",
       "  </thead>\n",
       "  <tbody>\n",
       "    <tr>\n",
       "      <th>0</th>\n",
       "      <td>-0.330289</td>\n",
       "      <td>0.902858</td>\n",
       "      <td>-0.613248</td>\n",
       "    </tr>\n",
       "    <tr>\n",
       "      <th>1</th>\n",
       "      <td>-0.313633</td>\n",
       "      <td>0.903450</td>\n",
       "      <td>-0.613653</td>\n",
       "    </tr>\n",
       "    <tr>\n",
       "      <th>2</th>\n",
       "      <td>2.301228</td>\n",
       "      <td>1.775212</td>\n",
       "      <td>-0.794766</td>\n",
       "    </tr>\n",
       "    <tr>\n",
       "      <th>3</th>\n",
       "      <td>-0.146623</td>\n",
       "      <td>-1.278454</td>\n",
       "      <td>0.202430</td>\n",
       "    </tr>\n",
       "    <tr>\n",
       "      <th>4</th>\n",
       "      <td>-0.154246</td>\n",
       "      <td>-1.990905</td>\n",
       "      <td>0.474734</td>\n",
       "    </tr>\n",
       "  </tbody>\n",
       "</table>\n",
       "</div>"
      ],
      "text/plain": [
       "       PC 1      PC 2      PC 3\n",
       "0 -0.330289  0.902858 -0.613248\n",
       "1 -0.313633  0.903450 -0.613653\n",
       "2  2.301228  1.775212 -0.794766\n",
       "3 -0.146623 -1.278454  0.202430\n",
       "4 -0.154246 -1.990905  0.474734"
      ]
     },
     "execution_count": 310,
     "metadata": {},
     "output_type": "execute_result"
    }
   ],
   "source": [
    "# Create a DataFrame with the principal components data\n",
    "pca_df = pd.DataFrame(\n",
    "    data=crypto_pca, columns=[\"PC 1\", \"PC 2\", \"PC 3\"]\n",
    ")\n",
    "pca_df.head()"
   ]
  },
  {
   "cell_type": "markdown",
   "metadata": {},
   "source": [
    "### Clustering Crytocurrencies Using K-Means\n",
    "\n",
    "#### Find the Best Value for `k` Using the Elbow Curve"
   ]
  },
  {
   "cell_type": "code",
   "execution_count": 311,
   "metadata": {},
   "outputs": [
    {
     "name": "stderr",
     "output_type": "stream",
     "text": [
      "C:\\Users\\johnm\\anaconda3\\envs\\alpacaenv\\lib\\site-packages\\sklearn\\cluster\\_kmeans.py:882: UserWarning:\n",
      "\n",
      "KMeans is known to have a memory leak on Windows with MKL, when there are less chunks than available threads. You can avoid it by setting the environment variable OMP_NUM_THREADS=3.\n",
      "\n"
     ]
    },
    {
     "data": {},
     "metadata": {},
     "output_type": "display_data"
    },
    {
     "data": {
      "application/vnd.holoviews_exec.v0+json": "",
      "text/html": [
       "<div id='1356'>\n",
       "\n",
       "\n",
       "\n",
       "\n",
       "\n",
       "  <div class=\"bk-root\" id=\"cfdc9f38-c9b1-4794-96e9-87bf6539e85d\" data-root-id=\"1356\"></div>\n",
       "</div>\n",
       "<script type=\"application/javascript\">(function(root) {\n",
       "  function embed_document(root) {\n",
       "    var docs_json = {\"0df71cde-4aaf-45bb-8ca3-37d15a71f523\":{\"defs\":[{\"extends\":null,\"module\":null,\"name\":\"ReactiveHTML1\",\"overrides\":[],\"properties\":[]},{\"extends\":null,\"module\":null,\"name\":\"FlexBox1\",\"overrides\":[],\"properties\":[{\"default\":\"flex-start\",\"kind\":null,\"name\":\"align_content\"},{\"default\":\"flex-start\",\"kind\":null,\"name\":\"align_items\"},{\"default\":\"row\",\"kind\":null,\"name\":\"flex_direction\"},{\"default\":\"wrap\",\"kind\":null,\"name\":\"flex_wrap\"},{\"default\":\"flex-start\",\"kind\":null,\"name\":\"justify_content\"}]},{\"extends\":null,\"module\":null,\"name\":\"TemplateActions1\",\"overrides\":[],\"properties\":[{\"default\":0,\"kind\":null,\"name\":\"open_modal\"},{\"default\":0,\"kind\":null,\"name\":\"close_modal\"}]},{\"extends\":null,\"module\":null,\"name\":\"MaterialTemplateActions1\",\"overrides\":[],\"properties\":[{\"default\":0,\"kind\":null,\"name\":\"open_modal\"},{\"default\":0,\"kind\":null,\"name\":\"close_modal\"}]}],\"roots\":{\"references\":[{\"attributes\":{\"axis\":{\"id\":\"1370\"},\"grid_line_color\":null,\"ticker\":null},\"id\":\"1373\",\"type\":\"Grid\"},{\"attributes\":{},\"id\":\"1416\",\"type\":\"UnionRenderers\"},{\"attributes\":{},\"id\":\"1406\",\"type\":\"BasicTickFormatter\"},{\"attributes\":{\"axis_label\":\"inertia\",\"formatter\":{\"id\":\"1406\"},\"major_label_policy\":{\"id\":\"1407\"},\"ticker\":{\"id\":\"1375\"}},\"id\":\"1374\",\"type\":\"LinearAxis\"},{\"attributes\":{\"margin\":[5,5,5,5],\"name\":\"HSpacer02167\",\"sizing_mode\":\"stretch_width\"},\"id\":\"1357\",\"type\":\"Spacer\"},{\"attributes\":{\"axis_label\":\"k\",\"formatter\":{\"id\":\"1401\"},\"major_label_policy\":{\"id\":\"1402\"},\"ticker\":{\"id\":\"1400\"}},\"id\":\"1370\",\"type\":\"LinearAxis\"},{\"attributes\":{\"below\":[{\"id\":\"1370\"}],\"center\":[{\"id\":\"1373\"},{\"id\":\"1377\"}],\"height\":300,\"left\":[{\"id\":\"1374\"}],\"margin\":[5,5,5,5],\"min_border_bottom\":10,\"min_border_left\":10,\"min_border_right\":10,\"min_border_top\":10,\"renderers\":[{\"id\":\"1397\"}],\"sizing_mode\":\"fixed\",\"title\":{\"id\":\"1362\"},\"toolbar\":{\"id\":\"1384\"},\"width\":700,\"x_range\":{\"id\":\"1358\"},\"x_scale\":{\"id\":\"1366\"},\"y_range\":{\"id\":\"1359\"},\"y_scale\":{\"id\":\"1368\"}},\"id\":\"1361\",\"subtype\":\"Figure\",\"type\":\"Plot\"},{\"attributes\":{\"children\":[{\"id\":\"1357\"},{\"id\":\"1361\"},{\"id\":\"1427\"}],\"margin\":[0,0,0,0],\"name\":\"Row02163\",\"tags\":[\"embedded\"]},\"id\":\"1356\",\"type\":\"Row\"},{\"attributes\":{\"end\":3996.6565815591075,\"reset_end\":3996.6565815591075,\"reset_start\":-235.52991027326266,\"start\":-235.52991027326266,\"tags\":[[[\"inertia\",\"inertia\",null]]]},\"id\":\"1359\",\"type\":\"Range1d\"},{\"attributes\":{\"active_multi\":null,\"tools\":[{\"id\":\"1360\"},{\"id\":\"1378\"},{\"id\":\"1379\"},{\"id\":\"1380\"},{\"id\":\"1381\"},{\"id\":\"1382\"}]},\"id\":\"1384\",\"type\":\"Toolbar\"},{\"attributes\":{},\"id\":\"1375\",\"type\":\"BasicTicker\"},{\"attributes\":{},\"id\":\"1392\",\"type\":\"Selection\"},{\"attributes\":{\"axis\":{\"id\":\"1374\"},\"dimension\":1,\"grid_line_color\":null,\"ticker\":null},\"id\":\"1377\",\"type\":\"Grid\"},{\"attributes\":{\"data_source\":{\"id\":\"1391\"},\"glyph\":{\"id\":\"1394\"},\"hover_glyph\":null,\"muted_glyph\":{\"id\":\"1396\"},\"nonselection_glyph\":{\"id\":\"1395\"},\"selection_glyph\":{\"id\":\"1399\"},\"view\":{\"id\":\"1398\"}},\"id\":\"1397\",\"type\":\"GlyphRenderer\"},{\"attributes\":{},\"id\":\"1368\",\"type\":\"LinearScale\"},{\"attributes\":{\"bottom_units\":\"screen\",\"fill_alpha\":0.5,\"fill_color\":\"lightgrey\",\"left_units\":\"screen\",\"level\":\"overlay\",\"line_alpha\":1.0,\"line_color\":\"black\",\"line_dash\":[4,4],\"line_width\":2,\"right_units\":\"screen\",\"syncable\":false,\"top_units\":\"screen\"},\"id\":\"1383\",\"type\":\"BoxAnnotation\"},{\"attributes\":{\"end\":10.0,\"reset_end\":10.0,\"reset_start\":1.0,\"start\":1.0,\"tags\":[[[\"k\",\"k\",null]]]},\"id\":\"1358\",\"type\":\"Range1d\"},{\"attributes\":{\"line_color\":\"#30a2da\",\"line_width\":2,\"x\":{\"field\":\"k\"},\"y\":{\"field\":\"inertia\"}},\"id\":\"1394\",\"type\":\"Line\"},{\"attributes\":{\"ticks\":[1,2,3,4,5,6,7,8,9,10]},\"id\":\"1400\",\"type\":\"FixedTicker\"},{\"attributes\":{\"source\":{\"id\":\"1391\"}},\"id\":\"1398\",\"type\":\"CDSView\"},{\"attributes\":{\"line_alpha\":0.1,\"line_color\":\"#30a2da\",\"line_width\":2,\"x\":{\"field\":\"k\"},\"y\":{\"field\":\"inertia\"}},\"id\":\"1395\",\"type\":\"Line\"},{\"attributes\":{},\"id\":\"1401\",\"type\":\"BasicTickFormatter\"},{\"attributes\":{\"line_alpha\":0.2,\"line_color\":\"#30a2da\",\"line_width\":2,\"x\":{\"field\":\"k\"},\"y\":{\"field\":\"inertia\"}},\"id\":\"1396\",\"type\":\"Line\"},{\"attributes\":{\"line_color\":\"#30a2da\",\"line_width\":2,\"x\":{\"field\":\"k\"},\"y\":{\"field\":\"inertia\"}},\"id\":\"1399\",\"type\":\"Line\"},{\"attributes\":{},\"id\":\"1378\",\"type\":\"SaveTool\"},{\"attributes\":{},\"id\":\"1402\",\"type\":\"AllLabels\"},{\"attributes\":{},\"id\":\"1379\",\"type\":\"PanTool\"},{\"attributes\":{\"callback\":null,\"renderers\":[{\"id\":\"1397\"}],\"tags\":[\"hv_created\"],\"tooltips\":[[\"k\",\"@{k}\"],[\"inertia\",\"@{inertia}\"]]},\"id\":\"1360\",\"type\":\"HoverTool\"},{\"attributes\":{},\"id\":\"1382\",\"type\":\"ResetTool\"},{\"attributes\":{},\"id\":\"1380\",\"type\":\"WheelZoomTool\"},{\"attributes\":{\"margin\":[5,5,5,5],\"name\":\"HSpacer02168\",\"sizing_mode\":\"stretch_width\"},\"id\":\"1427\",\"type\":\"Spacer\"},{\"attributes\":{\"overlay\":{\"id\":\"1383\"}},\"id\":\"1381\",\"type\":\"BoxZoomTool\"},{\"attributes\":{\"data\":{\"inertia\":{\"__ndarray__\":\"N/wi4fJ3rEAr45zVNlijQHfztIBql5dAd34anU5rgUDG0sW82+h1QPjfVlmWNnFAlwLU2E53a0Bn5Db3LJ9mQBOOLsaX9WFAH/yBPb9JXUA=\",\"dtype\":\"float64\",\"order\":\"little\",\"shape\":[10]},\"k\":[1,2,3,4,5,6,7,8,9,10]},\"selected\":{\"id\":\"1392\"},\"selection_policy\":{\"id\":\"1416\"}},\"id\":\"1391\",\"type\":\"ColumnDataSource\"},{\"attributes\":{},\"id\":\"1366\",\"type\":\"LinearScale\"},{\"attributes\":{},\"id\":\"1407\",\"type\":\"AllLabels\"},{\"attributes\":{\"text\":\"Elbow Curve\",\"text_color\":\"black\",\"text_font_size\":\"12pt\"},\"id\":\"1362\",\"type\":\"Title\"}],\"root_ids\":[\"1356\"]},\"title\":\"Bokeh Application\",\"version\":\"2.3.2\"}};\n",
       "    var render_items = [{\"docid\":\"0df71cde-4aaf-45bb-8ca3-37d15a71f523\",\"root_ids\":[\"1356\"],\"roots\":{\"1356\":\"cfdc9f38-c9b1-4794-96e9-87bf6539e85d\"}}];\n",
       "    root.Bokeh.embed.embed_items_notebook(docs_json, render_items);\n",
       "  }\n",
       "  if (root.Bokeh !== undefined && root.Bokeh.Panel !== undefined) {\n",
       "    embed_document(root);\n",
       "  } else {\n",
       "    var attempts = 0;\n",
       "    var timer = setInterval(function(root) {\n",
       "      if (root.Bokeh !== undefined && root.Bokeh.Panel !== undefined) {\n",
       "        clearInterval(timer);\n",
       "        embed_document(root);\n",
       "      } else if (document.readyState == \"complete\") {\n",
       "        attempts++;\n",
       "        if (attempts > 200) {\n",
       "          clearInterval(timer);\n",
       "          console.log(\"Bokeh: ERROR: Unable to run BokehJS code because BokehJS library is missing\");\n",
       "        }\n",
       "      }\n",
       "    }, 25, root)\n",
       "  }\n",
       "})(window);</script>"
      ],
      "text/plain": [
       ":Curve   [k]   (inertia)"
      ]
     },
     "execution_count": 311,
     "metadata": {
      "application/vnd.holoviews_exec.v0+json": {
       "id": "1356"
      }
     },
     "output_type": "execute_result"
    }
   ],
   "source": [
    "inertia = []\n",
    "k = list(range(1, 11))\n",
    "\n",
    "# Calculate the inertia for the range of k values\n",
    "for i in k:\n",
    "    km = KMeans(n_clusters=i, random_state=0)\n",
    "    km.fit(crypto_pca)\n",
    "    inertia.append(km.inertia_)\n",
    "\n",
    "# Create the Elbow Curve using hvPlot\n",
    "elbow_data = {\"k\": k, \"inertia\": inertia}\n",
    "df_elbow = pd.DataFrame(elbow_data)\n",
    "df_elbow.hvplot.line(x=\"k\", y=\"inertia\", xticks=k, title=\"Elbow Curve\")\n",
    "\n"
   ]
  },
  {
   "cell_type": "markdown",
   "metadata": {},
   "source": [
    "Running K-Means with `k=<your best value for k here>`"
   ]
  },
  {
   "cell_type": "code",
   "execution_count": 312,
   "metadata": {},
   "outputs": [
    {
     "data": {
      "text/html": [
       "<div>\n",
       "<style scoped>\n",
       "    .dataframe tbody tr th:only-of-type {\n",
       "        vertical-align: middle;\n",
       "    }\n",
       "\n",
       "    .dataframe tbody tr th {\n",
       "        vertical-align: top;\n",
       "    }\n",
       "\n",
       "    .dataframe thead th {\n",
       "        text-align: right;\n",
       "    }\n",
       "</style>\n",
       "<table border=\"1\" class=\"dataframe\">\n",
       "  <thead>\n",
       "    <tr style=\"text-align: right;\">\n",
       "      <th></th>\n",
       "      <th>Algorithm</th>\n",
       "      <th>ProofType</th>\n",
       "      <th>TotalCoinsMined</th>\n",
       "      <th>TotalCoinSupply</th>\n",
       "      <th>CoinName</th>\n",
       "      <th>PC 1</th>\n",
       "      <th>PC 2</th>\n",
       "      <th>PC 3</th>\n",
       "      <th>class</th>\n",
       "    </tr>\n",
       "  </thead>\n",
       "  <tbody>\n",
       "    <tr>\n",
       "      <th>513</th>\n",
       "      <td>Scrypt</td>\n",
       "      <td>PoS</td>\n",
       "      <td>1.000024e+10</td>\n",
       "      <td>10008835635</td>\n",
       "      <td>HiCoin</td>\n",
       "      <td>-0.091732</td>\n",
       "      <td>0.717175</td>\n",
       "      <td>-0.243732</td>\n",
       "      <td>0</td>\n",
       "    </tr>\n",
       "    <tr>\n",
       "      <th>514</th>\n",
       "      <td>Scrypt</td>\n",
       "      <td>PoW/PoS</td>\n",
       "      <td>2.520056e+08</td>\n",
       "      <td>300000000</td>\n",
       "      <td>WhiteCoin</td>\n",
       "      <td>-0.325087</td>\n",
       "      <td>0.902964</td>\n",
       "      <td>-0.613354</td>\n",
       "      <td>0</td>\n",
       "    </tr>\n",
       "    <tr>\n",
       "      <th>515</th>\n",
       "      <td>NeoScrypt</td>\n",
       "      <td>PoW/PoS</td>\n",
       "      <td>1.120385e+06</td>\n",
       "      <td>60168145</td>\n",
       "      <td>FriendshipCoin</td>\n",
       "      <td>-0.353594</td>\n",
       "      <td>0.601100</td>\n",
       "      <td>-0.406845</td>\n",
       "      <td>0</td>\n",
       "    </tr>\n",
       "    <tr>\n",
       "      <th>516</th>\n",
       "      <td>SHA3-256</td>\n",
       "      <td>DPoC</td>\n",
       "      <td>-5.917978e+09</td>\n",
       "      <td>5000000000</td>\n",
       "      <td>Fiii</td>\n",
       "      <td>-0.587077</td>\n",
       "      <td>5.568662</td>\n",
       "      <td>11.368540</td>\n",
       "      <td>3</td>\n",
       "    </tr>\n",
       "    <tr>\n",
       "      <th>517</th>\n",
       "      <td>Multiple</td>\n",
       "      <td>PoW</td>\n",
       "      <td>3.332922e+06</td>\n",
       "      <td>2800000</td>\n",
       "      <td>JoinCoin</td>\n",
       "      <td>-0.128714</td>\n",
       "      <td>-1.761817</td>\n",
       "      <td>0.474153</td>\n",
       "      <td>1</td>\n",
       "    </tr>\n",
       "    <tr>\n",
       "      <th>518</th>\n",
       "      <td>X13</td>\n",
       "      <td>PoW/PoS</td>\n",
       "      <td>1.407778e+05</td>\n",
       "      <td>120000</td>\n",
       "      <td>Triangles Coin</td>\n",
       "      <td>-0.280491</td>\n",
       "      <td>1.819868</td>\n",
       "      <td>-0.768136</td>\n",
       "      <td>0</td>\n",
       "    </tr>\n",
       "    <tr>\n",
       "      <th>519</th>\n",
       "      <td>Equihash+Scrypt</td>\n",
       "      <td>PoW</td>\n",
       "      <td>1.000000e+08</td>\n",
       "      <td>2100000000</td>\n",
       "      <td>Vollar</td>\n",
       "      <td>-0.124518</td>\n",
       "      <td>-2.167368</td>\n",
       "      <td>0.483302</td>\n",
       "      <td>1</td>\n",
       "    </tr>\n",
       "    <tr>\n",
       "      <th>520</th>\n",
       "      <td>DPoS</td>\n",
       "      <td>DPoS</td>\n",
       "      <td>1.020545e+09</td>\n",
       "      <td>0</td>\n",
       "      <td>EOS</td>\n",
       "      <td>3.783357</td>\n",
       "      <td>0.801654</td>\n",
       "      <td>0.010785</td>\n",
       "      <td>0</td>\n",
       "    </tr>\n",
       "    <tr>\n",
       "      <th>521</th>\n",
       "      <td>Ethash</td>\n",
       "      <td>PoW</td>\n",
       "      <td>2.448794e+07</td>\n",
       "      <td>24487944</td>\n",
       "      <td>Reality Clash</td>\n",
       "      <td>-0.155089</td>\n",
       "      <td>-1.990965</td>\n",
       "      <td>0.474763</td>\n",
       "      <td>1</td>\n",
       "    </tr>\n",
       "    <tr>\n",
       "      <th>522</th>\n",
       "      <td>DPoS</td>\n",
       "      <td>DPoS</td>\n",
       "      <td>1.122382e+09</td>\n",
       "      <td>0</td>\n",
       "      <td>Oxycoin</td>\n",
       "      <td>3.784601</td>\n",
       "      <td>0.801721</td>\n",
       "      <td>0.010749</td>\n",
       "      <td>0</td>\n",
       "    </tr>\n",
       "    <tr>\n",
       "      <th>523</th>\n",
       "      <td>SHA-256</td>\n",
       "      <td>PoS</td>\n",
       "      <td>1.000000e+09</td>\n",
       "      <td>1000000000</td>\n",
       "      <td>TigerCash</td>\n",
       "      <td>-0.247551</td>\n",
       "      <td>0.622591</td>\n",
       "      <td>-0.086596</td>\n",
       "      <td>0</td>\n",
       "    </tr>\n",
       "    <tr>\n",
       "      <th>524</th>\n",
       "      <td>Leased POS</td>\n",
       "      <td>LPoS</td>\n",
       "      <td>1.000000e+08</td>\n",
       "      <td>100000000</td>\n",
       "      <td>Waves</td>\n",
       "      <td>-0.395337</td>\n",
       "      <td>2.367610</td>\n",
       "      <td>15.595758</td>\n",
       "      <td>3</td>\n",
       "    </tr>\n",
       "    <tr>\n",
       "      <th>525</th>\n",
       "      <td>PoS</td>\n",
       "      <td>PoS</td>\n",
       "      <td>9.283138e+06</td>\n",
       "      <td>8634140</td>\n",
       "      <td>Particl</td>\n",
       "      <td>-0.357906</td>\n",
       "      <td>1.656807</td>\n",
       "      <td>-0.118183</td>\n",
       "      <td>0</td>\n",
       "    </tr>\n",
       "    <tr>\n",
       "      <th>526</th>\n",
       "      <td>TRC10</td>\n",
       "      <td>DPoS</td>\n",
       "      <td>9.899887e+11</td>\n",
       "      <td>990000000000</td>\n",
       "      <td>BitTorrent</td>\n",
       "      <td>34.076819</td>\n",
       "      <td>1.942496</td>\n",
       "      <td>-0.820551</td>\n",
       "      <td>2</td>\n",
       "    </tr>\n",
       "    <tr>\n",
       "      <th>527</th>\n",
       "      <td>PoS</td>\n",
       "      <td>PoS/LPoS</td>\n",
       "      <td>1.000000e+09</td>\n",
       "      <td>1000000000</td>\n",
       "      <td>Nxt</td>\n",
       "      <td>-0.401299</td>\n",
       "      <td>2.298057</td>\n",
       "      <td>-0.231026</td>\n",
       "      <td>0</td>\n",
       "    </tr>\n",
       "    <tr>\n",
       "      <th>528</th>\n",
       "      <td>SHA-256</td>\n",
       "      <td>DPoS</td>\n",
       "      <td>2.000000e+09</td>\n",
       "      <td>2000000000</td>\n",
       "      <td>ZEPHYR</td>\n",
       "      <td>2.495789</td>\n",
       "      <td>0.334983</td>\n",
       "      <td>-0.033215</td>\n",
       "      <td>0</td>\n",
       "    </tr>\n",
       "    <tr>\n",
       "      <th>529</th>\n",
       "      <td>Scrypt</td>\n",
       "      <td>PoW/PoS</td>\n",
       "      <td>1.493105e+07</td>\n",
       "      <td>250000000</td>\n",
       "      <td>Gapcoin</td>\n",
       "      <td>-0.328337</td>\n",
       "      <td>0.902817</td>\n",
       "      <td>-0.613267</td>\n",
       "      <td>0</td>\n",
       "    </tr>\n",
       "    <tr>\n",
       "      <th>530</th>\n",
       "      <td>CryptoNight</td>\n",
       "      <td>PoW</td>\n",
       "      <td>9.802226e+08</td>\n",
       "      <td>1400222610</td>\n",
       "      <td>Beldex</td>\n",
       "      <td>0.316787</td>\n",
       "      <td>-2.204968</td>\n",
       "      <td>0.483517</td>\n",
       "      <td>1</td>\n",
       "    </tr>\n",
       "    <tr>\n",
       "      <th>531</th>\n",
       "      <td>Equihash</td>\n",
       "      <td>PoW</td>\n",
       "      <td>7.296538e+06</td>\n",
       "      <td>21000000</td>\n",
       "      <td>Horizen</td>\n",
       "      <td>-0.145287</td>\n",
       "      <td>-1.928247</td>\n",
       "      <td>0.340054</td>\n",
       "      <td>1</td>\n",
       "    </tr>\n",
       "    <tr>\n",
       "      <th>532</th>\n",
       "      <td>Scrypt</td>\n",
       "      <td>PoS</td>\n",
       "      <td>1.283270e+05</td>\n",
       "      <td>1000000</td>\n",
       "      <td>BitcoinPlus</td>\n",
       "      <td>-0.284739</td>\n",
       "      <td>0.712571</td>\n",
       "      <td>-0.239647</td>\n",
       "      <td>0</td>\n",
       "    </tr>\n",
       "  </tbody>\n",
       "</table>\n",
       "</div>"
      ],
      "text/plain": [
       "           Algorithm ProofType  TotalCoinsMined TotalCoinSupply  \\\n",
       "513           Scrypt       PoS     1.000024e+10     10008835635   \n",
       "514           Scrypt   PoW/PoS     2.520056e+08       300000000   \n",
       "515        NeoScrypt   PoW/PoS     1.120385e+06        60168145   \n",
       "516         SHA3-256      DPoC    -5.917978e+09      5000000000   \n",
       "517         Multiple       PoW     3.332922e+06         2800000   \n",
       "518              X13   PoW/PoS     1.407778e+05          120000   \n",
       "519  Equihash+Scrypt       PoW     1.000000e+08      2100000000   \n",
       "520             DPoS      DPoS     1.020545e+09               0   \n",
       "521           Ethash       PoW     2.448794e+07        24487944   \n",
       "522             DPoS      DPoS     1.122382e+09               0   \n",
       "523          SHA-256       PoS     1.000000e+09      1000000000   \n",
       "524       Leased POS      LPoS     1.000000e+08       100000000   \n",
       "525              PoS       PoS     9.283138e+06         8634140   \n",
       "526            TRC10      DPoS     9.899887e+11    990000000000   \n",
       "527              PoS  PoS/LPoS     1.000000e+09      1000000000   \n",
       "528          SHA-256      DPoS     2.000000e+09      2000000000   \n",
       "529           Scrypt   PoW/PoS     1.493105e+07       250000000   \n",
       "530      CryptoNight       PoW     9.802226e+08      1400222610   \n",
       "531         Equihash       PoW     7.296538e+06        21000000   \n",
       "532           Scrypt       PoS     1.283270e+05         1000000   \n",
       "\n",
       "           CoinName       PC 1      PC 2       PC 3  class  \n",
       "513          HiCoin  -0.091732  0.717175  -0.243732      0  \n",
       "514       WhiteCoin  -0.325087  0.902964  -0.613354      0  \n",
       "515  FriendshipCoin  -0.353594  0.601100  -0.406845      0  \n",
       "516            Fiii  -0.587077  5.568662  11.368540      3  \n",
       "517        JoinCoin  -0.128714 -1.761817   0.474153      1  \n",
       "518  Triangles Coin  -0.280491  1.819868  -0.768136      0  \n",
       "519          Vollar  -0.124518 -2.167368   0.483302      1  \n",
       "520             EOS   3.783357  0.801654   0.010785      0  \n",
       "521   Reality Clash  -0.155089 -1.990965   0.474763      1  \n",
       "522         Oxycoin   3.784601  0.801721   0.010749      0  \n",
       "523       TigerCash  -0.247551  0.622591  -0.086596      0  \n",
       "524           Waves  -0.395337  2.367610  15.595758      3  \n",
       "525         Particl  -0.357906  1.656807  -0.118183      0  \n",
       "526      BitTorrent  34.076819  1.942496  -0.820551      2  \n",
       "527             Nxt  -0.401299  2.298057  -0.231026      0  \n",
       "528          ZEPHYR   2.495789  0.334983  -0.033215      0  \n",
       "529         Gapcoin  -0.328337  0.902817  -0.613267      0  \n",
       "530          Beldex   0.316787 -2.204968   0.483517      1  \n",
       "531         Horizen  -0.145287 -1.928247   0.340054      1  \n",
       "532     BitcoinPlus  -0.284739  0.712571  -0.239647      0  "
      ]
     },
     "execution_count": 312,
     "metadata": {},
     "output_type": "execute_result"
    }
   ],
   "source": [
    "# Initialize the K-Means model\n",
    "model = KMeans(n_clusters=4, random_state=0)\n",
    "# Fit the model\n",
    "model.fit(pca_df)\n",
    "# Predict clusters\n",
    "predictions = model.predict(pca_df)\n",
    "\n",
    "# Create a new DataFrame including predicted clusters and cryptocurrencies features\n",
    "\n",
    "pca_df['class'] = model.labels_\n",
    "\n",
    "df_merged = pd.concat([df_crypto.reset_index(drop=True),coinname_df.reset_index(drop=True)], axis=1)\n",
    "df_merged = df_merged.join(pca_df)\n",
    "\n",
    "df_merged.tail(20)\n",
    "# Fit the model\n",
    "\n",
    "# Predict clusters\n",
    "\n",
    "# Create a new DataFrame including predicted clusters and cryptocurrencies features\n"
   ]
  },
  {
   "cell_type": "markdown",
   "metadata": {},
   "source": [
    "### Visualizing Results\n",
    "\n",
    "#### 3D-Scatter with Clusters"
   ]
  },
  {
   "cell_type": "code",
   "execution_count": 313,
   "metadata": {},
   "outputs": [
    {
     "data": {
      "application/vnd.plotly.v1+json": {
       "config": {
        "plotlyServerURL": "https://plot.ly"
       },
       "data": [
        {
         "customdata": [
          [
           "Scrypt"
          ],
          [
           "Scrypt"
          ],
          [
           "X13"
          ],
          [
           "X11"
          ],
          [
           "SHA-512"
          ],
          [
           "SHA-256"
          ],
          [
           "SHA-256"
          ],
          [
           "X15"
          ],
          [
           "Scrypt"
          ],
          [
           "Scrypt"
          ],
          [
           "Scrypt"
          ],
          [
           "Scrypt"
          ],
          [
           "Scrypt"
          ],
          [
           "Scrypt"
          ],
          [
           "Groestl"
          ],
          [
           "PoS"
          ],
          [
           "Scrypt"
          ],
          [
           "Scrypt"
          ],
          [
           "X11"
          ],
          [
           "X11"
          ],
          [
           "SHA3"
          ],
          [
           "Scrypt"
          ],
          [
           "SHA-256"
          ],
          [
           "Scrypt"
          ],
          [
           "X13"
          ],
          [
           "X13"
          ],
          [
           "NeoScrypt"
          ],
          [
           "Scrypt"
          ],
          [
           "Scrypt"
          ],
          [
           "Scrypt"
          ],
          [
           "X11"
          ],
          [
           "X11"
          ],
          [
           "Multiple"
          ],
          [
           "PHI1612"
          ],
          [
           "X11"
          ],
          [
           "Scrypt"
          ],
          [
           "Scrypt"
          ],
          [
           "Scrypt"
          ],
          [
           "X11"
          ],
          [
           "Multiple"
          ],
          [
           "X13"
          ],
          [
           "Scrypt"
          ],
          [
           "Shabal256"
          ],
          [
           "Counterparty"
          ],
          [
           "SHA-256"
          ],
          [
           "Groestl"
          ],
          [
           "Scrypt"
          ],
          [
           "X13"
          ],
          [
           "Scrypt"
          ],
          [
           "Scrypt"
          ],
          [
           "X13"
          ],
          [
           "X11"
          ],
          [
           "Scrypt"
          ],
          [
           "X11"
          ],
          [
           "SHA3"
          ],
          [
           "QUAIT"
          ],
          [
           "X11"
          ],
          [
           "Scrypt"
          ],
          [
           "X13"
          ],
          [
           "SHA-256"
          ],
          [
           "X15"
          ],
          [
           "BLAKE256"
          ],
          [
           "SHA-256"
          ],
          [
           "X11"
          ],
          [
           "SHA-256"
          ],
          [
           "NIST5"
          ],
          [
           "Scrypt"
          ],
          [
           "Scrypt"
          ],
          [
           "X11"
          ],
          [
           "Scrypt"
          ],
          [
           "SHA-256"
          ],
          [
           "Scrypt"
          ],
          [
           "PoS"
          ],
          [
           "X11"
          ],
          [
           "SHA-256"
          ],
          [
           "SHA-256"
          ],
          [
           "NIST5"
          ],
          [
           "X11"
          ],
          [
           "POS 3.0"
          ],
          [
           "Scrypt"
          ],
          [
           "Scrypt"
          ],
          [
           "Scrypt"
          ],
          [
           "X13"
          ],
          [
           "X11"
          ],
          [
           "X11"
          ],
          [
           "Scrypt"
          ],
          [
           "SHA-256"
          ],
          [
           "X11"
          ],
          [
           "Scrypt"
          ],
          [
           "Scrypt"
          ],
          [
           "Scrypt"
          ],
          [
           "Scrypt"
          ],
          [
           "SHA-256D"
          ],
          [
           "PoS"
          ],
          [
           "Scrypt"
          ],
          [
           "X11"
          ],
          [
           "PoS"
          ],
          [
           "X13"
          ],
          [
           "X14"
          ],
          [
           "PoS"
          ],
          [
           "SHA-256D"
          ],
          [
           "DPoS"
          ],
          [
           "X11"
          ],
          [
           "X13"
          ],
          [
           "X11"
          ],
          [
           "PoS"
          ],
          [
           "Scrypt"
          ],
          [
           "Scrypt"
          ],
          [
           "PoS"
          ],
          [
           "X11"
          ],
          [
           "SHA-256"
          ],
          [
           "Scrypt"
          ],
          [
           "X11"
          ],
          [
           "Scrypt"
          ],
          [
           "Scrypt"
          ],
          [
           "X11"
          ],
          [
           "Scrypt"
          ],
          [
           "Scrypt"
          ],
          [
           "Scrypt"
          ],
          [
           "Scrypt"
          ],
          [
           "Quark"
          ],
          [
           "QuBit"
          ],
          [
           "Scrypt"
          ],
          [
           "SHA-256"
          ],
          [
           "X11"
          ],
          [
           "Scrypt"
          ],
          [
           "Scrypt"
          ],
          [
           "Scrypt"
          ],
          [
           "Scrypt"
          ],
          [
           "X13"
          ],
          [
           "Scrypt"
          ],
          [
           "Scrypt"
          ],
          [
           "X11"
          ],
          [
           "Blake2S"
          ],
          [
           "X11"
          ],
          [
           "PoS"
          ],
          [
           "X11"
          ],
          [
           "PoS"
          ],
          [
           "X11"
          ],
          [
           "Scrypt"
          ],
          [
           "Scrypt"
          ],
          [
           "Scrypt"
          ],
          [
           "SHA-256"
          ],
          [
           "X11"
          ],
          [
           "Scrypt"
          ],
          [
           "PoS"
          ],
          [
           "Scrypt"
          ],
          [
           "X15"
          ],
          [
           "SHA-256"
          ],
          [
           "POS 3.0"
          ],
          [
           "536"
          ],
          [
           "NIST5"
          ],
          [
           "NIST5"
          ],
          [
           "Skein"
          ],
          [
           "X13"
          ],
          [
           "Scrypt"
          ],
          [
           "X13"
          ],
          [
           "SkunkHash v2 Raptor"
          ],
          [
           "Skein"
          ],
          [
           "X11"
          ],
          [
           "Scrypt"
          ],
          [
           "VeChainThor Authority"
          ],
          [
           "PoS"
          ],
          [
           "Scrypt"
          ],
          [
           "Scrypt"
          ],
          [
           "SHA-512"
          ],
          [
           "Ouroboros"
          ],
          [
           "X11"
          ],
          [
           "NeoScrypt"
          ],
          [
           "Scrypt"
          ],
          [
           "Lyra2REv2"
          ],
          [
           "Scrypt"
          ],
          [
           "SHA-256"
          ],
          [
           "NIST5"
          ],
          [
           "PHI1612"
          ],
          [
           "Scrypt"
          ],
          [
           "Quark"
          ],
          [
           "POS 2.0"
          ],
          [
           "Scrypt"
          ],
          [
           "SHA-256"
          ],
          [
           "X11"
          ],
          [
           "DPoS"
          ],
          [
           "NIST5"
          ],
          [
           "X13"
          ],
          [
           "Scrypt"
          ],
          [
           "NIST5"
          ],
          [
           "Quark"
          ],
          [
           "Scrypt"
          ],
          [
           "Scrypt"
          ],
          [
           "X11"
          ],
          [
           "Quark"
          ],
          [
           "Scrypt"
          ],
          [
           "Scrypt"
          ],
          [
           "X11"
          ],
          [
           "POS 3.0"
          ],
          [
           "Ethash"
          ],
          [
           "Scrypt"
          ],
          [
           "Scrypt"
          ],
          [
           "X13"
          ],
          [
           "C11"
          ],
          [
           "X11"
          ],
          [
           "XEVAN"
          ],
          [
           "Scrypt"
          ],
          [
           "VBFT"
          ],
          [
           "NIST5"
          ],
          [
           "Scrypt"
          ],
          [
           "Scrypt"
          ],
          [
           "Scrypt"
          ],
          [
           "Green Protocol"
          ],
          [
           "PoS"
          ],
          [
           "Scrypt"
          ],
          [
           "Semux BFT consensus"
          ],
          [
           "Quark"
          ],
          [
           "PoS"
          ],
          [
           "X16R"
          ],
          [
           "Scrypt"
          ],
          [
           "XEVAN"
          ],
          [
           "Scrypt"
          ],
          [
           "Scrypt"
          ],
          [
           "Scrypt"
          ],
          [
           "SHA-256D"
          ],
          [
           "Scrypt"
          ],
          [
           "X15"
          ],
          [
           "Scrypt"
          ],
          [
           "Quark"
          ],
          [
           "SHA-256"
          ],
          [
           "DPoS"
          ],
          [
           "X16R"
          ],
          [
           "Quark"
          ],
          [
           "Quark"
          ],
          [
           "Scrypt"
          ],
          [
           "Lyra2REv2"
          ],
          [
           "Quark"
          ],
          [
           "Scrypt"
          ],
          [
           "X11"
          ],
          [
           "X11"
          ],
          [
           "Scrypt"
          ],
          [
           "PoS"
          ],
          [
           "Keccak"
          ],
          [
           "X11"
          ],
          [
           "Scrypt"
          ],
          [
           "SHA-512"
          ],
          [
           "XEVAN"
          ],
          [
           "XEVAN"
          ],
          [
           "X11"
          ],
          [
           "Quark"
          ],
          [
           "Equihash"
          ],
          [
           "Scrypt"
          ],
          [
           "Quark"
          ],
          [
           "Quark"
          ],
          [
           "Scrypt"
          ],
          [
           "X11"
          ],
          [
           "Scrypt"
          ],
          [
           "XEVAN"
          ],
          [
           "SHA-256D"
          ],
          [
           "X11"
          ],
          [
           "X11"
          ],
          [
           "DPoS"
          ],
          [
           "Scrypt"
          ],
          [
           "X11"
          ],
          [
           "Scrypt"
          ],
          [
           "Scrypt"
          ],
          [
           "SHA-256"
          ],
          [
           "Scrypt"
          ],
          [
           "X11"
          ],
          [
           "Scrypt"
          ],
          [
           "SHA-256"
          ],
          [
           "X11"
          ],
          [
           "Scrypt"
          ],
          [
           "Scrypt"
          ],
          [
           "X11"
          ],
          [
           "Scrypt"
          ],
          [
           "PoS"
          ],
          [
           "X11"
          ],
          [
           "SHA-256"
          ],
          [
           "DPoS"
          ],
          [
           "Scrypt"
          ],
          [
           "Scrypt"
          ],
          [
           "NeoScrypt"
          ],
          [
           "X13"
          ],
          [
           "DPoS"
          ],
          [
           "DPoS"
          ],
          [
           "SHA-256"
          ],
          [
           "PoS"
          ],
          [
           "PoS"
          ],
          [
           "SHA-256"
          ],
          [
           "Scrypt"
          ],
          [
           "Scrypt"
          ]
         ],
         "hovertemplate": "<b>%{hovertext}</b><br><br>class=%{marker.color}<br>PC 1=%{x}<br>PC 2=%{y}<br>PC 3=%{z}<br>Algorithm=%{customdata[0]}<extra></extra>",
         "hovertext": [
          "42 Coin",
          "404Coin",
          "EliteCoin",
          "Dash",
          "Bitshares",
          "BitcoinDark",
          "PayCoin",
          "KoboCoin",
          "Aurora Coin",
          "BlueCoin",
          "EnergyCoin",
          "BitBar",
          "CryptoBullion",
          "CasinoCoin",
          "Diamond",
          "Exclusive Coin",
          "FlutterCoin",
          "HoboNickels",
          "HyperStake",
          "IOCoin",
          "MaxCoin",
          "MintCoin",
          "MazaCoin",
          "Nautilus Coin",
          "NavCoin",
          "OpalCoin",
          "Orbitcoin",
          "PotCoin",
          "PhoenixCoin",
          "Reddcoin",
          "SuperCoin",
          "SyncCoin",
          "TeslaCoin",
          "TittieCoin",
          "TorCoin",
          "UnitaryStatus Dollar",
          "UltraCoin",
          "VeriCoin",
          "X11 Coin",
          "Crypti",
          "StealthCoin",
          "ZCC Coin",
          "BurstCoin",
          "StorjCoin",
          "Neutron",
          "FairCoin",
          "RubyCoin",
          "Kore",
          "Dnotes",
          "8BIT Coin",
          "Sativa Coin",
          "Ucoin",
          "Vtorrent",
          "IslaCoin",
          "Nexus",
          "Droidz",
          "Squall Coin",
          "Diggits",
          "Paycon",
          "Emercoin",
          "EverGreenCoin",
          "Decred",
          "EDRCoin",
          "Hitcoin",
          "DubaiCoin",
          "PWR Coin",
          "BillaryCoin",
          "GPU Coin",
          "EuropeCoin",
          "ZeitCoin",
          "SwingCoin",
          "SafeExchangeCoin",
          "Nebuchadnezzar",
          "Ratecoin",
          "Revenu",
          "Clockcoin",
          "VIP Tokens",
          "BitSend",
          "Let it Ride",
          "PutinCoin",
          "iBankCoin",
          "Frankywillcoin",
          "MudraCoin",
          "Lutetium Coin",
          "GoldBlocks",
          "CarterCoin",
          "BitTokens",
          "MustangCoin",
          "ZoneCoin",
          "RootCoin",
          "BitCurrency",
          "Swiscoin",
          "BuzzCoin",
          "Opair",
          "PesoBit",
          "Halloween Coin",
          "CoffeeCoin",
          "RoyalCoin",
          "GanjaCoin V2",
          "TeamUP",
          "LanaCoin",
          "ARK",
          "InsaneCoin",
          "EmberCoin",
          "XenixCoin",
          "FreeCoin",
          "PLNCoin",
          "AquariusCoin",
          "Creatio",
          "Eternity",
          "Eurocoin",
          "BitcoinFast",
          "Stakenet",
          "BitConnect Coin",
          "MoneyCoin",
          "Enigma",
          "Russiacoin",
          "PandaCoin",
          "GameUnits",
          "GAKHcoin",
          "Allsafe",
          "LiteCreed",
          "Klingon Empire Darsek",
          "Internet of People",
          "KushCoin",
          "Printerium",
          "Impeach",
          "Zilbercoin",
          "FirstCoin",
          "FindCoin",
          "OpenChat",
          "RenosCoin",
          "VirtacoinPlus",
          "TajCoin",
          "Impact",
          "Atmos",
          "HappyCoin",
          "MacronCoin",
          "Condensate",
          "Independent Money System",
          "ArgusCoin",
          "LomoCoin",
          "ProCurrency",
          "GoldReserve",
          "GrowthCoin",
          "Phreak",
          "Degas Coin",
          "HTML5 Coin",
          "Ultimate Secure Cash",
          "QTUM",
          "Espers",
          "Denarius",
          "Virta Unique Coin",
          "Bitcoin Planet",
          "BritCoin",
          "Linda",
          "DeepOnion",
          "Signatum",
          "Cream",
          "Monoeci",
          "Draftcoin",
          "Vechain",
          "Stakecoin",
          "CoinonatX",
          "Ethereum Dark",
          "Obsidian",
          "Cardano",
          "Regalcoin",
          "TrezarCoin",
          "TerraNovaCoin",
          "Rupee",
          "WomenCoin",
          "Theresa May Coin",
          "NamoCoin",
          "LUXCoin",
          "Xios",
          "Bitcloud 2.0",
          "KekCoin",
          "BlackholeCoin",
          "Infinity Economics",
          "Magnet",
          "Lamden Tau",
          "Electra",
          "Bitcoin Diamond",
          "Cash & Back Coin",
          "Bulwark",
          "Kalkulus",
          "GermanCoin",
          "LiteCoin Ultra",
          "PhantomX",
          "Digiwage",
          "Trollcoin",
          "Litecoin Plus",
          "Monkey Project",
          "TokenPay",
          "1717 Masonic Commemorative Token",
          "My Big Coin",
          "Unified Society USDEX",
          "Tokyo Coin",
          "Stipend",
          "Pushi",
          "Ellerium",
          "Velox",
          "Ontology",
          "Bitspace",
          "Briacoin",
          "Ignition",
          "MedicCoin",
          "Bitcoin Green",
          "Deviant Coin",
          "Abjcoin",
          "Semux",
          "Carebit",
          "Zealium",
          "Proton",
          "iDealCash",
          "Bitcoin Incognito",
          "HollyWoodCoin",
          "Swisscoin",
          "Xt3ch",
          "TheVig",
          "EmaratCoin",
          "Dekado",
          "Lynx",
          "Poseidon Quark",
          "BitcoinWSpectrum",
          "Muse",
          "Trivechain",
          "Dystem",
          "Giant",
          "Peony Coin",
          "Absolute Coin",
          "Vitae",
          "TPCash",
          "ARENON",
          "EUNO",
          "MMOCoin",
          "Ketan",
          "XDNA",
          "PAXEX",
          "ThunderStake",
          "Kcash",
          "Bettex coin",
          "BitMoney",
          "Junson Ming Chan Coin",
          "HerbCoin",
          "PirateCash",
          "Oduwa",
          "Galilel",
          "Crypto Sports",
          "Credit",
          "Dash Platinum",
          "Nasdacoin",
          "Beetle Coin",
          "Titan Coin",
          "Award",
          "Insane Coin",
          "ALAX",
          "LiteDoge",
          "TruckCoin",
          "OrangeCoin",
          "BitstarCoin",
          "NeosCoin",
          "HyperCoin",
          "PinkCoin",
          "AudioCoin",
          "IncaKoin",
          "Piggy Coin",
          "Genstake",
          "XiaoMiCoin",
          "CapriCoin",
          " ClubCoin",
          "Radium",
          "Creditbit ",
          "OKCash",
          "Lisk",
          "HiCoin",
          "WhiteCoin",
          "FriendshipCoin",
          "Triangles Coin",
          "EOS",
          "Oxycoin",
          "TigerCash",
          "Particl",
          "Nxt",
          "ZEPHYR",
          "Gapcoin",
          "BitcoinPlus"
         ],
         "legendgroup": "0",
         "marker": {
          "color": [
           0,
           0,
           0,
           0,
           0,
           0,
           0,
           0,
           0,
           0,
           0,
           0,
           0,
           0,
           0,
           0,
           0,
           0,
           0,
           0,
           0,
           0,
           0,
           0,
           0,
           0,
           0,
           0,
           0,
           0,
           0,
           0,
           0,
           0,
           0,
           0,
           0,
           0,
           0,
           0,
           0,
           0,
           0,
           0,
           0,
           0,
           0,
           0,
           0,
           0,
           0,
           0,
           0,
           0,
           0,
           0,
           0,
           0,
           0,
           0,
           0,
           0,
           0,
           0,
           0,
           0,
           0,
           0,
           0,
           0,
           0,
           0,
           0,
           0,
           0,
           0,
           0,
           0,
           0,
           0,
           0,
           0,
           0,
           0,
           0,
           0,
           0,
           0,
           0,
           0,
           0,
           0,
           0,
           0,
           0,
           0,
           0,
           0,
           0,
           0,
           0,
           0,
           0,
           0,
           0,
           0,
           0,
           0,
           0,
           0,
           0,
           0,
           0,
           0,
           0,
           0,
           0,
           0,
           0,
           0,
           0,
           0,
           0,
           0,
           0,
           0,
           0,
           0,
           0,
           0,
           0,
           0,
           0,
           0,
           0,
           0,
           0,
           0,
           0,
           0,
           0,
           0,
           0,
           0,
           0,
           0,
           0,
           0,
           0,
           0,
           0,
           0,
           0,
           0,
           0,
           0,
           0,
           0,
           0,
           0,
           0,
           0,
           0,
           0,
           0,
           0,
           0,
           0,
           0,
           0,
           0,
           0,
           0,
           0,
           0,
           0,
           0,
           0,
           0,
           0,
           0,
           0,
           0,
           0,
           0,
           0,
           0,
           0,
           0,
           0,
           0,
           0,
           0,
           0,
           0,
           0,
           0,
           0,
           0,
           0,
           0,
           0,
           0,
           0,
           0,
           0,
           0,
           0,
           0,
           0,
           0,
           0,
           0,
           0,
           0,
           0,
           0,
           0,
           0,
           0,
           0,
           0,
           0,
           0,
           0,
           0,
           0,
           0,
           0,
           0,
           0,
           0,
           0,
           0,
           0,
           0,
           0,
           0,
           0,
           0,
           0,
           0,
           0,
           0,
           0,
           0,
           0,
           0,
           0,
           0,
           0,
           0,
           0,
           0,
           0,
           0,
           0,
           0,
           0,
           0,
           0,
           0,
           0,
           0,
           0,
           0,
           0,
           0,
           0,
           0,
           0,
           0,
           0,
           0,
           0,
           0,
           0,
           0,
           0,
           0,
           0,
           0,
           0,
           0,
           0,
           0,
           0,
           0
          ],
          "coloraxis": "coloraxis",
          "symbol": "circle"
         },
         "mode": "markers",
         "name": "0",
         "scene": "scene",
         "showlegend": true,
         "type": "scatter3d",
         "x": [
          -0.3302889407391344,
          -0.3136330264601115,
          2.301228113392869,
          -0.3925680946314716,
          -0.2690686351162147,
          -0.3122154069423135,
          -0.2666104608297622,
          -0.23811847635781985,
          -0.32994869968251916,
          -0.3225268809850513,
          -0.3287856601721659,
          -0.3302848817202157,
          -0.33026916876073525,
          0.6531206228414342,
          -0.36669667825759866,
          -0.358011373952559,
          -0.2677773709226826,
          -0.32834896842719513,
          -0.32678868127570293,
          -0.3924628011268242,
          -0.43486511166965797,
          -0.024630242932636277,
          -0.2755465114357876,
          -0.28443533438333624,
          -0.2796864817315092,
          -0.28030862928595657,
          -0.35396792311031106,
          -0.32459546840456976,
          -0.3286917067671986,
          0.02781721065558853,
          -0.3466733262531114,
          -0.3928341421873173,
          -0.24694106622197298,
          -0.3060998304639704,
          -0.39274587883804546,
          -0.3055375866359531,
          -0.3289673507667879,
          -0.27458772767239625,
          -0.39271031866324435,
          -0.24740787608228207,
          -0.2800895143249317,
          -0.32140176344640164,
          -0.03949079999079359,
          -0.3426914233146979,
          -0.31142760548002096,
          -0.36611825959726907,
          -0.2844154529355219,
          -0.28038411453095247,
          -0.27907442918280567,
          -0.3302710110455805,
          -0.2803362870444172,
          -0.3471183034318534,
          -0.33000559545787644,
          -0.39281567289813385,
          -0.4647359417076733,
          -0.43177566030001174,
          -0.3724173152226838,
          -0.2828180310985008,
          -0.2798583247271474,
          -0.3047815041029003,
          -0.24055682345833174,
          -0.08743382768772943,
          -0.31218632376579125,
          -0.07055003701136643,
          -0.31224991035597294,
          -0.2352550593474801,
          -0.32988168228588627,
          -0.2826881582475348,
          -0.389988545669436,
          0.867736940941154,
          -0.3120502535086952,
          -0.07724201462325254,
          -0.35769485560835784,
          -0.3906595447546229,
          -0.3107955357345866,
          -0.30846667018292884,
          -0.3566025074025305,
          -0.39155221809021484,
          -0.3427962973931289,
          -0.3061977729031913,
          -0.32991979682029204,
          -0.32835944586252774,
          -0.23347540141735743,
          -0.3346159622168749,
          -0.39229007247339986,
          -0.3291245052078759,
          -0.3122309570107379,
          -0.39280489206417585,
          -0.33010873405763963,
          -0.3302652447135849,
          -0.28267578423844236,
          -0.22839268602462345,
          0.030861830284182552,
          -0.3566525149683556,
          -0.3298794397625471,
          -0.378981876228808,
          -0.35598092009818644,
          -0.23490411825770513,
          -0.4007857915227208,
          -0.35573219190389777,
          -0.2835225834270786,
          3.7730972732917594,
          -0.3923977140383739,
          0.8517109291856807,
          -0.39275981387045955,
          -0.35711600690226086,
          -0.32980734262035416,
          -0.32996168403241644,
          -0.35769485560835784,
          -0.39233525786155443,
          -0.31209363470981416,
          -0.32980802940329174,
          -0.34360820133432346,
          -0.32995536125574587,
          -0.3255493384372087,
          -0.39278881500937934,
          -0.3291671683716954,
          0.3584849649258564,
          -0.33015448498481015,
          -0.3302249635437733,
          -0.35078033739190406,
          -0.34505126392127716,
          -0.32645649401491394,
          -0.3122073730407996,
          -0.39269881393808054,
          -0.3300029446074523,
          -0.33012990226233624,
          -0.2843224587379962,
          -0.2754390553615365,
          -0.23467210165955427,
          -0.3109939846796142,
          -0.2840634330730127,
          -0.3919654338506442,
          -0.4282022578331751,
          -0.3907040178463542,
          -0.35594238136654377,
          -0.39186332917804745,
          -0.3503454087845942,
          -0.38780825464992513,
          -0.33007318803568864,
          -0.3300724434555878,
          -0.3232034397129939,
          0.2653372939753444,
          -0.39234122978678654,
          -0.2669834928470427,
          -0.3577292349032392,
          -0.32928469585044245,
          0.8929099970331456,
          -0.26530266117966517,
          -0.34157535763875246,
          0.5697050458824323,
          -0.35813729678786027,
          -0.3566406463497875,
          -0.4114979610818728,
          -0.2800215892710514,
          0.1341696832989071,
          -0.2800922563786862,
          -0.33010294330754086,
          -0.4110028955869983,
          -0.3926133173105879,
          -0.28439632094172923,
          4.347200124823224,
          -0.3575958020684807,
          -0.3297086595629815,
          -0.3302079027306645,
          -0.32709594563785205,
          0.6787435841450589,
          -0.39255430567660243,
          -0.3489711655967211,
          -0.33016362436637936,
          -0.31480800683698695,
          0.43865563956167025,
          -0.31055450605118373,
          -0.3429161784155476,
          -0.387215259341687,
          -0.33011401462556444,
          -0.3947653858946702,
          -0.33208152613360836,
          -0.3299843718202223,
          -0.09319087131524317,
          -0.39134811356585825,
          3.777949485132205,
          0.20103437839863625,
          -0.27676512864521496,
          -0.3274466225608211,
          -0.31235959665525564,
          -0.35066629672396166,
          0.08367750126214038,
          -0.32912418470333543,
          -0.3919283654916298,
          -0.3498320005738204,
          -0.3166978113967509,
          -0.33023003026446407,
          -0.3470902445415975,
          -0.3430781107684885,
          -0.2753858955617541,
          -0.248004229664984,
          -0.32577774281725086,
          -0.22647561181384596,
          -0.36823266575721736,
          -0.39263069756493924,
          -0.32880982795216046,
          -0.2835573298210337,
          -0.29931964147602524,
          -0.3577366504002142,
          -0.33025737342552347,
          -0.33023910390890643,
          -0.277942638202691,
          -0.3399012393990328,
          -0.35719053324802896,
          -0.3299558638305003,
          3.966722079545921,
          -0.3934335469504609,
          -0.3573791127592841,
          -0.32351710703004416,
          -0.2768760560290742,
          -0.3085450086851379,
          -0.2840906370776597,
          -0.13348038147650138,
          -0.2843428287026011,
          -0.34876577832837635,
          -0.3294304243583571,
          -0.19435978199300755,
          2.247857431382428,
          -0.3463802219753166,
          -0.26542949345007816,
          1.047195859284783,
          -0.3683954730683642,
          -0.3507798261337628,
          -0.3964476477224527,
          -0.1652346263665556,
          -0.36027796694604936,
          -0.34950018411949024,
          -0.32314353700557374,
          -0.34666799429828815,
          -0.3921043073194303,
          -0.28159048803344816,
          -0.3564801458322757,
          -0.33412047002347434,
          -0.34652978277422747,
          -0.18991191290708026,
          -0.31697509538360025,
          -0.28326141683909867,
          0.4758953997959029,
          -0.13706384453933773,
          -0.3957427780782687,
          -0.26447250408050993,
          -0.3299597581914885,
          -0.3961985428499508,
          -0.3508967238479391,
          0.5758031305889802,
          -0.3471445426346436,
          -0.32944328504296205,
          -0.32326987485392195,
          -0.3035332144269768,
          -0.3896724512976508,
          -0.39233134508599526,
          3.79018555655098,
          0.10461867777032903,
          -0.38987098442482615,
          -0.32882985446048435,
          -0.3296534871840592,
          -0.26664316184055387,
          -0.33017129102102044,
          -0.383964161507449,
          -0.24397510415853516,
          -0.09189797474449257,
          -0.37971734168781757,
          -0.32944981686980424,
          -0.32251823062339247,
          -0.3889018710906165,
          -0.3278904389633945,
          -0.3579703615318738,
          -0.38814700371264166,
          -0.31073135124831563,
          3.773488740886046,
          -0.0917324182687469,
          -0.32508673353391293,
          -0.353594313924934,
          -0.2804912035997056,
          3.7833571254079508,
          3.784601130965788,
          -0.24755052615231654,
          -0.35790623151643697,
          -0.401299218055826,
          2.4957894406700567,
          -0.32833670190354597,
          -0.28473887980495144
         ],
         "y": [
          0.9028576705533315,
          0.9034504155999415,
          1.775212016663602,
          1.2570378738107635,
          1.3712281728698184,
          0.8124131213700513,
          0.6221358408126102,
          1.7432664003156448,
          0.9028663016084798,
          0.9032799998505363,
          0.9029394632218255,
          0.9028575967899447,
          0.9028581570861025,
          0.6544828375404254,
          0.8782587885774221,
          1.6568059718870793,
          0.02600102860447459,
          0.9028925104770551,
          1.0678656405096996,
          1.257043602770681,
          2.4580835237815064,
          0.7267241691732418,
          0.8129956472589844,
          0.7125787869240058,
          1.819911842724057,
          1.8198779920281918,
          0.6011128873927822,
          0.9029199540483205,
          0.9028868263089816,
          0.9223420233361507,
          1.0667837282451387,
          1.2570363617555207,
          0.1388064543614998,
          1.6235427752075344,
          1.257035271962348,
          0.9032615391263383,
          0.9028706501269198,
          0.1027657643584346,
          1.2570398585048748,
          0.13883998291415967,
          1.8198899139490483,
          0.9027519427320386,
          1.680086673464835,
          1.540808025541901,
          0.8124288785913623,
          0.8782928410296125,
          0.7125894031176758,
          1.8198668136292753,
          0.7125853681302092,
          0.9028586461225537,
          1.8198705944439653,
          1.0667477318064893,
          0.902861301751746,
          1.2570373672483526,
          3.3698705300470952,
          1.970392285404937,
          1.0312481083207419,
          0.7126173905219493,
          1.8198730291377399,
          0.8122412857153446,
          1.7433244804449108,
          0.9885779325554342,
          0.8124147037692045,
          1.2589264298186786,
          0.812418020711318,
          1.479011326038001,
          0.9028550797664363,
          0.712553123646229,
          1.2569649083742795,
          0.7169392234510414,
          0.8124115003405109,
          0.637049728830905,
          1.6568114079882927,
          1.2571104853992974,
          0.8123720937088448,
          0.8123206831272505,
          1.4723558454857617,
          1.2570242020049123,
          1.5550061752123927,
          0.902989909115198,
          0.9028516310034543,
          0.9029037258882597,
          1.6295440886555945,
          1.067052609488529,
          1.2570365011632954,
          0.9028679921841013,
          0.8124128645737667,
          1.2570361860050403,
          0.9028551007648554,
          0.90285895986541,
          0.7126840575056109,
          -0.0033768013480469502,
          1.947278941397911,
          1.6568363003490065,
          0.9028799512941597,
          1.2569061450962404,
          1.6568928768256934,
          1.6295827345488163,
          1.927378322322546,
          1.6567526093787537,
          1.9375358545424015,
          0.8010217937800241,
          1.2570424299292697,
          1.8809696516801084,
          1.2570381358406237,
          1.656825224594572,
          0.9028611634339863,
          0.902850726916745,
          1.6568114079882927,
          1.257028149910671,
          0.8124209254764652,
          0.9028643906451743,
          0.7450725111071677,
          0.902859320773207,
          0.9027321326488708,
          1.2570358822002285,
          0.9028338501027218,
          0.7284090512782524,
          0.9028573256758449,
          0.902859197632367,
          1.4118968552885502,
          0.5102377989021017,
          0.9027715547694142,
          0.812414147764206,
          1.2570382134079687,
          0.9028614459830155,
          0.902853399025846,
          0.712562052802324,
          0.09563947068835657,
          1.6295882725796578,
          0.903318224076634,
          0.712588269718574,
          1.2570247008604774,
          1.934668657012362,
          1.257087441049163,
          1.6568535535401299,
          1.257030256317851,
          1.6569873630570862,
          1.2570151809744405,
          0.9028569098063488,
          0.9028525968325884,
          0.9026539145473859,
          0.6068906231597128,
          1.2570396104641273,
          0.7123593179350297,
          1.6568036446890795,
          0.902850437190127,
          1.7519765931860356,
          0.6220964589349014,
          1.555033419123129,
          1.8579361900365543,
          1.4723194803951674,
          1.4723360921434698,
          1.8225456739071915,
          1.8198759314889514,
          0.8986648947940364,
          1.8198786285424602,
          1.5247380462385605,
          1.8225726101402135,
          1.2570427749123851,
          0.7125801872372906,
          6.13803323591056,
          1.65679228365224,
          0.9028608096929007,
          0.9028596048588751,
          1.37013880968349,
          1.4789595054097147,
          1.2570356776893525,
          0.6011512700504137,
          0.9028552177248577,
          0.7143393777710196,
          0.9299636562758798,
          0.8124575266644611,
          1.4724464166098297,
          1.8132135226683908,
          0.902854813452147,
          1.6021588559477986,
          1.4838782016507297,
          0.9028655276519546,
          0.6262754011919818,
          1.2570323608457852,
          0.8010648220791936,
          1.4850713633147372,
          1.8199470443234511,
          0.9028885719329284,
          1.2820355615301373,
          1.4119001138060352,
          0.8959176437834154,
          0.9028326531750019,
          1.2570561814351935,
          1.4118865799741502,
          0.9030668095099396,
          0.9028585187671256,
          1.0667486692006807,
          1.5549958507364152,
          -0.09038324738776705,
          -0.06377051387666526,
          0.9029664107032436,
          1.6295713787654278,
          0.878926906099498,
          1.257032699798251,
          1.6240844488410797,
          0.7125630231183903,
          1.202638835894644,
          1.4723177083730252,
          0.9028576203153542,
          0.9028574358011475,
          0.7126469482360496,
          1.2838818943219346,
          1.6567987772415376,
          0.9028581148801472,
          0.7802456286089995,
          1.6022313205499978,
          1.6567932309302087,
          0.6071034469824984,
          0.9027456020365432,
          1.3983109058552645,
          0.712591755037148,
          0.9075553166689068,
          0.712567426499481,
          1.9383501734596624,
          0.9028548829412455,
          1.5530362794154884,
          0.1377149092159275,
          1.4117620740046966,
          0.6221483805818208,
          1.0890524247651554,
          0.7974037332355315,
          1.411893347461059,
          1.6021821445092996,
          0.7091270171015724,
          0.9046128066320164,
          1.4119164194019131,
          0.9026571738197493,
          1.0667516082768402,
          1.2570466085400502,
          0.7125898965842811,
          1.6567655375748591,
          0.77455169044789,
          1.0667326109518611,
          0.8998885708394775,
          1.2517533079160543,
          1.4338043868834178,
          1.8083000075920153,
          1.078188461359159,
          1.6021917106153998,
          -0.0276673830446109,
          0.9028632064573079,
          1.6021875160935917,
          1.4118914832842597,
          0.9080799220576871,
          1.066746480928573,
          0.9028541831986847,
          1.6241265939341396,
          1.9379238084099357,
          1.256960893021375,
          1.2570460410263564,
          0.8014359427278012,
          0.9058961532223848,
          1.2571975860794258,
          0.9028192038104094,
          0.9028602735187942,
          0.6221290527390727,
          0.9028640718325783,
          1.257224335903869,
          0.9013665791874608,
          0.8243014699484993,
          1.2571607659004902,
          0.9028944877203933,
          0.9030447608613439,
          1.257127745968499,
          0.9028938878402842,
          1.6568028998825126,
          1.157069510222689,
          0.8124449582468731,
          0.8010225168003373,
          0.7171752299673153,
          0.9029639374861743,
          0.6010999812892208,
          1.8198679875503503,
          0.8016536857851633,
          0.801721371422585,
          0.6225909728575217,
          1.6568066047521413,
          2.298056509256924,
          0.33498289364779216,
          0.902816572255253,
          0.7125712163708707
         ],
         "z": [
          -0.6132484680257865,
          -0.6136525567994673,
          -0.7947660089460835,
          -0.6049036871215534,
          -0.2310724792337976,
          -0.45979015683752855,
          -0.08619195965859501,
          -0.7256441824865411,
          -0.6132558055969248,
          -0.6134753102387533,
          -0.6132924006341548,
          -0.6132485089560163,
          -0.613248890460152,
          -0.31489102797507573,
          -0.5229174335236828,
          -0.11818092997535753,
          -0.2539416261060956,
          -0.6132865149591317,
          -0.2318970208534075,
          -0.6049067642701034,
          -0.8636881282798932,
          -0.24724873179194537,
          -0.46048926623865966,
          -0.23965354719906695,
          -0.7681598458711016,
          -0.7681416639286197,
          -0.4068430838734921,
          -0.6133495896509124,
          -0.613279917364567,
          -0.6237139362326602,
          -0.23131590232507176,
          -0.6048993306203364,
          0.18549622973632357,
          -0.24758103670423687,
          -0.6049003562461809,
          -0.6137231767425703,
          -0.6132715510142527,
          -0.17610484432942883,
          -0.6049020947652659,
          0.18549433220887376,
          -0.7681480674507262,
          -0.6133527931638122,
          -0.2620983570167199,
          -0.1761569371606067,
          -0.45980603161971034,
          -0.5229350181551999,
          -0.23965664256471653,
          -0.768137593134456,
          -0.23973503221015366,
          -0.6132489920183811,
          -0.7681393016642788,
          -0.23129979013461718,
          -0.6132536406913689,
          -0.6048998705312172,
          -0.8337280779616714,
          -0.848108342424202,
          -0.18994090651939458,
          -0.2396877865911275,
          -0.7681470539450515,
          -0.45985542952740016,
          -0.7256232257076323,
          -0.5340269491890958,
          -0.459791006778413,
          -0.610192099683962,
          -0.4597909355706515,
          -0.6963165366658024,
          -0.6132538432328797,
          -0.2396727707146716,
          -0.60492281901751,
          -0.25794329643434594,
          -0.4597921861967136,
          -0.2994287627985015,
          -0.11818707210013589,
          -0.6049512274136657,
          -0.45980045956880455,
          -0.45982154651988455,
          -0.6927562340464538,
          -0.6049151940186583,
          -0.06903935914010652,
          -0.613641723915591,
          -0.6132523667597894,
          -0.6132893167226036,
          -0.3945468067597711,
          -0.23156617606805555,
          -0.6049074610306266,
          -0.6132685122370589,
          -0.4597898577928285,
          -0.6048997194013784,
          -0.6132504711207495,
          -0.6132491605364696,
          -0.23970748348816226,
          -0.2559514861060287,
          -0.9061551827318319,
          -0.11820914247449425,
          -0.6132604354878518,
          -0.6050710590430035,
          -0.11823405303913927,
          -0.3945357443414262,
          -0.8133859108133678,
          -0.11820076308412278,
          -0.8989090031614508,
          0.011104748111025,
          -0.6049074232223541,
          -0.8010922652947288,
          -0.6049009041830955,
          -0.11819932671433096,
          -0.6132565534486688,
          -0.6132515052229598,
          -0.11818707210013589,
          -0.6049045865303174,
          -0.45979402636454303,
          -0.6132573942830244,
          -0.2544041766323469,
          -0.6132538655756512,
          -0.6132858691997174,
          -0.6048998784489273,
          -0.6132588739329656,
          -0.2533923219134267,
          -0.6132503772578733,
          -0.6132498224657849,
          -0.2219824598056591,
          -0.3861958041517214,
          -0.6132827702895229,
          -0.4597905470222272,
          -0.6049018320808349,
          -0.6132537181611102,
          -0.6132497074527141,
          -0.23965081337922123,
          -0.2906762551663957,
          -0.39454065628796253,
          -0.6136569551484528,
          -0.2396615803650203,
          -0.604909178524672,
          -0.8608790853238995,
          -0.6049444887784358,
          -0.1182242563638451,
          -0.6049121624812446,
          -0.11834280464425322,
          -0.6049685107272654,
          -0.6132514769717787,
          -0.6132503506697099,
          -0.613300140101021,
          -0.09008494758555916,
          -0.6049075199650057,
          -0.23985528652455845,
          -0.11818451340234748,
          -0.6132614997770213,
          -0.7447664724680148,
          -0.08620102921098977,
          -0.06906470650607055,
          -0.912389259084342,
          -0.6927238124601159,
          -0.6927504575136244,
          -0.9254175877901174,
          -0.7681453905838107,
          -0.619052129744569,
          -0.7681450505739835,
          -0.08858666716391958,
          -0.9254320558247305,
          -0.6049043068578105,
          -0.2396544968457343,
          4.020958264178922,
          -0.11818350233520446,
          -0.6132579281843688,
          -0.6132501836546074,
          -0.22992198090538724,
          -0.11824318283748113,
          -0.604903313106388,
          -0.4069275381713917,
          -0.6132496854095083,
          -0.04551987419109415,
          -0.6318355267209448,
          -0.459826574763913,
          -0.6929837181331276,
          -0.6204910262059862,
          -0.6132503167988664,
          -0.5956007253006315,
          -0.08023831105080327,
          -0.6132550708330529,
          -0.08986341798645979,
          -0.6049203818781856,
          0.011021218985380818,
          -0.7044049295217122,
          -0.7682125873215098,
          -0.6132988997281511,
          -0.31912643459630563,
          -0.2219850155952773,
          -0.6175765216785964,
          -0.6132591977202388,
          -0.6049180317312439,
          -0.22199385766575225,
          -0.6135058035501995,
          -0.6132495680684175,
          -0.23130045474320565,
          -0.0690324441725523,
          0.18614774774279316,
          -0.12890428984190408,
          -0.6133442531235708,
          -0.39465813317888904,
          -0.5385411053973597,
          -0.604901391388832,
          -0.5029610337120083,
          -0.2396624514126166,
          0.004713706033165237,
          -0.692729305222587,
          -0.6132489243766471,
          -0.6132491474977658,
          -0.23976810821978292,
          -0.0063231752070347725,
          -0.11819124359403042,
          -0.6132535400920494,
          0.04942436845001244,
          -0.5956396476091822,
          -0.1181869756392012,
          -0.05415146636737367,
          -0.6140134908666358,
          -0.08800422763304973,
          -0.2396620947917266,
          -0.6174150368349139,
          -0.23965192745609964,
          -0.8981531823345682,
          -0.6132605042954751,
          -0.35203095676248924,
          -0.34548277093811436,
          -0.2220123731509689,
          -0.08621283474711768,
          -0.042647073495462484,
          -0.42776653909395657,
          -0.22198154235857692,
          -0.5955818412193776,
          -0.24051652176307736,
          -0.41911906370351704,
          -0.2220066627922025,
          -0.6133018907268539,
          -0.2313075112555937,
          -0.6049128899217644,
          -0.23969879721715273,
          -0.1181930457381874,
          -0.4962230515496013,
          -0.2313045575037903,
          -0.6145537494938064,
          -0.4150461959278588,
          -0.1293612620258038,
          -0.04293230013525079,
          -0.2374416316844394,
          -0.5955948496327401,
          0.05142352706115439,
          -0.6132548248638612,
          -0.5955869634793693,
          -0.2219793117701391,
          -0.628104768427168,
          -0.2312990699268202,
          -0.6132601284485782,
          -0.5030545608487148,
          -0.8987136302863913,
          -0.6049264623830062,
          -0.604909362820872,
          0.010741325116103496,
          -0.6205194876479395,
          -0.6049859275382177,
          -0.6132600294674607,
          -0.6132586075403584,
          -0.08618968310488175,
          -0.6132519062848407,
          -0.6050808523734086,
          -0.6141392659441594,
          -0.46620271367215765,
          -0.6051272644713458,
          -0.6132706600252068,
          -0.6134134038184567,
          -0.6049819265814768,
          -0.6132936993247505,
          -0.11818072995976009,
          -0.28725656419555123,
          -0.4598206295636455,
          0.011098733923306549,
          -0.24373235160244683,
          -0.613353880446829,
          -0.40684523824775887,
          -0.7681363096403809,
          0.010785484449626319,
          0.010749129026643926,
          -0.086595520871368,
          -0.11818266098043047,
          -0.23102646896716242,
          -0.0332145488300207,
          -0.6132666716946126,
          -0.2396470351826489
         ]
        },
        {
         "customdata": [
          [
           "SHA-256"
          ],
          [
           "Ethash"
          ],
          [
           "Scrypt"
          ],
          [
           "CryptoNight-V7"
          ],
          [
           "Ethash"
          ],
          [
           "Equihash"
          ],
          [
           "Multiple"
          ],
          [
           "Scrypt"
          ],
          [
           "X11"
          ],
          [
           "Scrypt"
          ],
          [
           "Multiple"
          ],
          [
           "Scrypt"
          ],
          [
           "SHA-256"
          ],
          [
           "Scrypt"
          ],
          [
           "Scrypt"
          ],
          [
           "Quark"
          ],
          [
           "Groestl"
          ],
          [
           "Scrypt"
          ],
          [
           "Scrypt"
          ],
          [
           "Scrypt"
          ],
          [
           "X11"
          ],
          [
           "Multiple"
          ],
          [
           "SHA-256"
          ],
          [
           "Scrypt"
          ],
          [
           "Scrypt"
          ],
          [
           "Scrypt"
          ],
          [
           "Scrypt"
          ],
          [
           "Scrypt"
          ],
          [
           "NeoScrypt"
          ],
          [
           "Scrypt"
          ],
          [
           "Scrypt"
          ],
          [
           "Scrypt"
          ],
          [
           "Scrypt"
          ],
          [
           "SHA-256"
          ],
          [
           "Scrypt"
          ],
          [
           "Scrypt"
          ],
          [
           "Scrypt"
          ],
          [
           "Scrypt"
          ],
          [
           "HybridScryptHash256"
          ],
          [
           "Scrypt"
          ],
          [
           "Scrypt"
          ],
          [
           "SHA-256"
          ],
          [
           "Scrypt"
          ],
          [
           "Scrypt"
          ],
          [
           "Scrypt"
          ],
          [
           "Scrypt"
          ],
          [
           "SHA-256"
          ],
          [
           "SHA-256"
          ],
          [
           "SHA-256"
          ],
          [
           "SHA-256"
          ],
          [
           "SHA-256"
          ],
          [
           "X11"
          ],
          [
           "Scrypt"
          ],
          [
           "Lyra2REv2"
          ],
          [
           "Scrypt"
          ],
          [
           "SHA-256"
          ],
          [
           "CryptoNight"
          ],
          [
           "CryptoNight"
          ],
          [
           "Scrypt"
          ],
          [
           "Scrypt"
          ],
          [
           "Scrypt"
          ],
          [
           "Scrypt"
          ],
          [
           "Scrypt"
          ],
          [
           "Scrypt"
          ],
          [
           "Stanford Folding"
          ],
          [
           "Multiple"
          ],
          [
           "QuBit"
          ],
          [
           "Scrypt"
          ],
          [
           "Scrypt"
          ],
          [
           "M7 POW"
          ],
          [
           "Scrypt"
          ],
          [
           "SHA-256"
          ],
          [
           "Scrypt"
          ],
          [
           "X11"
          ],
          [
           "Lyra2RE"
          ],
          [
           "SHA-256"
          ],
          [
           "X11"
          ],
          [
           "Scrypt"
          ],
          [
           "Scrypt"
          ],
          [
           "Ethash"
          ],
          [
           "Blake2b"
          ],
          [
           "X11"
          ],
          [
           "SHA-256"
          ],
          [
           "Scrypt"
          ],
          [
           "1GB AES Pattern Search"
          ],
          [
           "Scrypt"
          ],
          [
           "SHA-256"
          ],
          [
           "X11"
          ],
          [
           "Dagger"
          ],
          [
           "Scrypt"
          ],
          [
           "X11GOST"
          ],
          [
           "Scrypt"
          ],
          [
           "X11"
          ],
          [
           "Scrypt"
          ],
          [
           "X11"
          ],
          [
           "Equihash"
          ],
          [
           "CryptoNight"
          ],
          [
           "SHA-256"
          ],
          [
           "Multiple"
          ],
          [
           "Scrypt"
          ],
          [
           "SHA-256"
          ],
          [
           "Scrypt"
          ],
          [
           "Lyra2Z"
          ],
          [
           "Ethash"
          ],
          [
           "Equihash"
          ],
          [
           "Scrypt"
          ],
          [
           "X11"
          ],
          [
           "X11"
          ],
          [
           "CryptoNight"
          ],
          [
           "Scrypt"
          ],
          [
           "CryptoNight"
          ],
          [
           "Lyra2RE"
          ],
          [
           "X11"
          ],
          [
           "CryptoNight-V7"
          ],
          [
           "Scrypt"
          ],
          [
           "X11"
          ],
          [
           "Equihash"
          ],
          [
           "Scrypt"
          ],
          [
           "Lyra2RE"
          ],
          [
           "Dagger-Hashimoto"
          ],
          [
           "Scrypt"
          ],
          [
           "NIST5"
          ],
          [
           "Scrypt"
          ],
          [
           "SHA-256"
          ],
          [
           "Scrypt"
          ],
          [
           "CryptoNight-V7"
          ],
          [
           "Argon2d"
          ],
          [
           "Blake2b"
          ],
          [
           "Cloverhash"
          ],
          [
           "CryptoNight"
          ],
          [
           "X11"
          ],
          [
           "Scrypt"
          ],
          [
           "Scrypt"
          ],
          [
           "X11"
          ],
          [
           "X11"
          ],
          [
           "CryptoNight"
          ],
          [
           "Time Travel"
          ],
          [
           "Scrypt"
          ],
          [
           "Keccak"
          ],
          [
           "X11"
          ],
          [
           "SHA-256"
          ],
          [
           "Scrypt"
          ],
          [
           "Scrypt"
          ],
          [
           "Scrypt"
          ],
          [
           "Scrypt"
          ],
          [
           "Scrypt"
          ],
          [
           "Scrypt"
          ],
          [
           "CryptoNight"
          ],
          [
           "Equihash"
          ],
          [
           "X11"
          ],
          [
           "NeoScrypt"
          ],
          [
           "Equihash"
          ],
          [
           "Dagger"
          ],
          [
           "Scrypt"
          ],
          [
           "X11"
          ],
          [
           "NeoScrypt"
          ],
          [
           "Ethash"
          ],
          [
           "NeoScrypt"
          ],
          [
           "Multiple"
          ],
          [
           "CryptoNight"
          ],
          [
           "CryptoNight"
          ],
          [
           "Ethash"
          ],
          [
           "X11"
          ],
          [
           "CryptoNight-V7"
          ],
          [
           "Scrypt"
          ],
          [
           "BLAKE256"
          ],
          [
           "X11"
          ],
          [
           "NeoScrypt"
          ],
          [
           "NeoScrypt"
          ],
          [
           "Scrypt"
          ],
          [
           "X11"
          ],
          [
           "SHA-256"
          ],
          [
           "C11"
          ],
          [
           "CryptoNight"
          ],
          [
           "SkunkHash"
          ],
          [
           "CryptoNight"
          ],
          [
           "Scrypt"
          ],
          [
           "Dagger"
          ],
          [
           "Lyra2REv2"
          ],
          [
           "Scrypt"
          ],
          [
           "Scrypt"
          ],
          [
           "X11"
          ],
          [
           "Ethash"
          ],
          [
           "CryptoNight"
          ],
          [
           "Scrypt"
          ],
          [
           "IMesh"
          ],
          [
           "Equihash"
          ],
          [
           "Lyra2Z"
          ],
          [
           "X11"
          ],
          [
           "CryptoNight"
          ],
          [
           "NIST5"
          ],
          [
           "Lyra2RE"
          ],
          [
           "Tribus"
          ],
          [
           "Lyra2Z"
          ],
          [
           "CryptoNight"
          ],
          [
           "CryptoNight Heavy"
          ],
          [
           "CryptoNight"
          ],
          [
           "Jump Consistent Hash"
          ],
          [
           "CryptoNight"
          ],
          [
           "X16R"
          ],
          [
           "HMQ1725"
          ],
          [
           "X11"
          ],
          [
           "Scrypt"
          ],
          [
           "CryptoNight-V7"
          ],
          [
           "Cryptonight-GPU"
          ],
          [
           "XEVAN"
          ],
          [
           "CryptoNight Heavy"
          ],
          [
           "SHA-256"
          ],
          [
           "X11"
          ],
          [
           "X16R"
          ],
          [
           "Equihash"
          ],
          [
           "Lyra2Z"
          ],
          [
           "SHA-256"
          ],
          [
           "CryptoNight"
          ],
          [
           "Blake"
          ],
          [
           "Blake"
          ],
          [
           "Exosis"
          ],
          [
           "Scrypt"
          ],
          [
           "Equihash"
          ],
          [
           "Equihash"
          ],
          [
           "QuBit"
          ],
          [
           "SHA-256"
          ],
          [
           "X13"
          ],
          [
           "SHA-256"
          ],
          [
           "Scrypt"
          ],
          [
           "NeoScrypt"
          ],
          [
           "Blake"
          ],
          [
           "Scrypt"
          ],
          [
           "SHA-256"
          ],
          [
           "Scrypt"
          ],
          [
           "Groestl"
          ],
          [
           "Scrypt"
          ],
          [
           "Scrypt"
          ],
          [
           "Multiple"
          ],
          [
           "Equihash+Scrypt"
          ],
          [
           "Ethash"
          ],
          [
           "CryptoNight"
          ],
          [
           "Equihash"
          ]
         ],
         "hovertemplate": "<b>%{hovertext}</b><br><br>class=%{marker.color}<br>PC 1=%{x}<br>PC 2=%{y}<br>PC 3=%{z}<br>Algorithm=%{customdata[0]}<extra></extra>",
         "hovertext": [
          "Bitcoin",
          "Ethereum",
          "Litecoin",
          "Monero",
          "Ethereum Classic",
          "ZCash",
          "DigiByte",
          "ProsperCoin",
          "Spreadcoin",
          "Argentum",
          "MyriadCoin",
          "MoonCoin",
          "ZetaCoin",
          "SexCoin",
          "Quatloo",
          "QuarkCoin",
          "Riecoin",
          "Digitalcoin ",
          "Catcoin",
          "CannaCoin",
          "CryptCoin",
          "Verge",
          "DevCoin",
          "EarthCoin",
          "E-Gulden",
          "Einsteinium",
          "Emerald",
          "Franko",
          "FeatherCoin",
          "GrandCoin",
          "GlobalCoin",
          "GoldCoin",
          "Infinite Coin",
          "IXcoin",
          "KrugerCoin",
          "LuckyCoin",
          "Litebar ",
          "MegaCoin",
          "MediterraneanCoin",
          "MinCoin",
          "NobleCoin",
          "Namecoin",
          "NyanCoin",
          "RonPaulCoin",
          "StableCoin",
          "SmartCoin",
          "SysCoin",
          "TigerCoin",
          "TerraCoin",
          "UnbreakableCoin",
          "Unobtanium",
          "UroCoin",
          "ViaCoin",
          "Vertcoin",
          "WorldCoin",
          "JouleCoin",
          "ByteCoin",
          "DigitalNote ",
          "MonaCoin",
          "Gulden",
          "PesetaCoin",
          "Wild Beast Coin",
          "Flo",
          "ArtByte",
          "Folding Coin",
          "Unitus",
          "CypherPunkCoin",
          "OmniCron",
          "GreenCoin",
          "Cryptonite",
          "MasterCoin",
          "SoonCoin",
          "1Credit",
          "MarsCoin ",
          "Crypto",
          "Anarchists Prime",
          "BowsCoin",
          "Song Coin",
          "BitZeny",
          "Expanse",
          "Siacoin",
          "MindCoin",
          "I0coin",
          "Revolution VR",
          "HOdlcoin",
          "Gamecredits",
          "CarpeDiemCoin",
          "Adzcoin",
          "SoilCoin",
          "YoCoin",
          "SibCoin",
          "Francs",
          "BolivarCoin",
          "Omni",
          "PizzaCoin",
          "Komodo",
          "Karbo",
          "ZayedCoin",
          "Circuits of Value",
          "DopeCoin",
          "DollarCoin",
          "Shilling",
          "ZCoin",
          "Elementrem",
          "ZClassic",
          "KiloCoin",
          "ArtexCoin",
          "Kurrent",
          "Cannabis Industry Coin",
          "OsmiumCoin",
          "Bikercoins",
          "HexxCoin",
          "PacCoin",
          "Citadel",
          "BeaverCoin",
          "VaultCoin",
          "Zero",
          "Canada eCoin",
          "Zoin",
          "DubaiCoin",
          "EB3coin",
          "Coinonat",
          "BenjiRolls",
          "ILCoin",
          "EquiTrader",
          "Quantum Resistant Ledger",
          "Dynamic",
          "Nano",
          "ChanCoin",
          "Dinastycoin",
          "DigitalPrice",
          "Unify",
          "SocialCoin",
          "ArcticCoin",
          "DAS",
          "LeviarCoin",
          "Bitcore",
          "gCn Coin",
          "SmartCash",
          "Onix",
          "Bitcoin Cash",
          "Sojourn Coin",
          "NewYorkCoin",
          "FrazCoin",
          "Kronecoin",
          "AdCoin",
          "Linx",
          "Sumokoin",
          "BitcoinZ",
          "Elements",
          "VIVO Coin",
          "Bitcoin Gold",
          "Pirl",
          "eBoost",
          "Pura",
          "Innova",
          "Ellaism",
          "GoByte",
          "SHIELD",
          "UltraNote",
          "BitCoal",
          "DaxxCoin",
          "AC3",
          "Lethean",
          "PopularCoin",
          "Photon",
          "Sucre",
          "SparksPay",
          "GunCoin",
          "IrishCoin",
          "Pioneer Coin",
          "UnitedBitcoin",
          "Interzone",
          "TurtleCoin",
          "MUNcoin",
          "Niobio Cash",
          "ShareChain",
          "Travelflex",
          "KREDS",
          "BitFlip",
          "LottoCoin",
          "Crypto Improvement Fund",
          "Callisto Network",
          "BitTube",
          "Poseidon",
          "Aidos Kuneen",
          "Bitrolium",
          "Alpenschillling",
          "FuturoCoin",
          "Monero Classic",
          "Jumpcoin",
          "Infinex",
          "KEYCO",
          "GINcoin",
          "PlatinCoin",
          "Loki",
          "Newton Coin",
          "MassGrid",
          "PluraCoin",
          "Motion",
          "PlusOneCoin",
          "Axe",
          "HexCoin",
          "Webchain",
          "Ryo",
          "Urals Coin",
          "Qwertycoin",
          "Project Pai",
          "Azart",
          "Xchange",
          "CrypticCoin",
          "Actinium",
          "Bitcoin SV",
          "FREDEnergy",
          "Universal Molecule",
          "Lithium",
          "Exosis",
          "Block-Logic",
          "Beam",
          "Bithereum",
          "SLICE",
          "BLAST",
          "Bitcoin Rhodium",
          "GlobalToken",
          "SolarCoin",
          "UFO Coin",
          "BlakeCoin",
          "Crypto Escudo",
          "Crown Coin",
          "SmileyCoin",
          "Groestlcoin",
          "Bata",
          "Pakcoin",
          "JoinCoin",
          "Vollar",
          "Reality Clash",
          "Beldex",
          "Horizen"
         ],
         "legendgroup": "1",
         "marker": {
          "color": [
           1,
           1,
           1,
           1,
           1,
           1,
           1,
           1,
           1,
           1,
           1,
           1,
           1,
           1,
           1,
           1,
           1,
           1,
           1,
           1,
           1,
           1,
           1,
           1,
           1,
           1,
           1,
           1,
           1,
           1,
           1,
           1,
           1,
           1,
           1,
           1,
           1,
           1,
           1,
           1,
           1,
           1,
           1,
           1,
           1,
           1,
           1,
           1,
           1,
           1,
           1,
           1,
           1,
           1,
           1,
           1,
           1,
           1,
           1,
           1,
           1,
           1,
           1,
           1,
           1,
           1,
           1,
           1,
           1,
           1,
           1,
           1,
           1,
           1,
           1,
           1,
           1,
           1,
           1,
           1,
           1,
           1,
           1,
           1,
           1,
           1,
           1,
           1,
           1,
           1,
           1,
           1,
           1,
           1,
           1,
           1,
           1,
           1,
           1,
           1,
           1,
           1,
           1,
           1,
           1,
           1,
           1,
           1,
           1,
           1,
           1,
           1,
           1,
           1,
           1,
           1,
           1,
           1,
           1,
           1,
           1,
           1,
           1,
           1,
           1,
           1,
           1,
           1,
           1,
           1,
           1,
           1,
           1,
           1,
           1,
           1,
           1,
           1,
           1,
           1,
           1,
           1,
           1,
           1,
           1,
           1,
           1,
           1,
           1,
           1,
           1,
           1,
           1,
           1,
           1,
           1,
           1,
           1,
           1,
           1,
           1,
           1,
           1,
           1,
           1,
           1,
           1,
           1,
           1,
           1,
           1,
           1,
           1,
           1,
           1,
           1,
           1,
           1,
           1,
           1,
           1,
           1,
           1,
           1,
           1,
           1,
           1,
           1,
           1,
           1,
           1,
           1,
           1,
           1,
           1,
           1,
           1,
           1,
           1,
           1,
           1,
           1,
           1,
           1,
           1,
           1,
           1,
           1,
           1,
           1,
           1,
           1,
           1,
           1,
           1,
           1,
           1,
           1,
           1,
           1,
           1,
           1,
           1,
           1,
           1,
           1,
           1,
           1,
           1,
           1,
           1,
           1,
           1,
           1,
           1,
           1,
           1,
           1
          ],
          "coloraxis": "coloraxis",
          "symbol": "diamond"
         },
         "mode": "markers",
         "name": "1",
         "scene": "scene",
         "showlegend": true,
         "type": "scatter3d",
         "x": [
          -0.14662262094265677,
          -0.15424648778021413,
          -0.16352759357643246,
          -0.14944864352576806,
          -0.1526904858423656,
          -0.14528639666889875,
          0.15922643346190166,
          -0.16467319208509273,
          -0.22715975645118228,
          -0.16429014063290057,
          -0.09399246414322035,
          2.553594995726414,
          -0.14370908645944397,
          -0.16154738771103627,
          -0.16409450350341256,
          -0.22624055736053864,
          -0.20017150019027385,
          -0.16414281149450086,
          -0.16465545940430043,
          -0.1647418387397778,
          -0.22724907451642767,
          0.18301332298951417,
          0.23101023197443984,
          0.08385062488087605,
          -0.16448822197088783,
          -0.16009633016836908,
          -0.1644276176857673,
          -0.1647988206492856,
          -0.18370964821457256,
          -0.14403517298689222,
          -0.16359453568740223,
          -0.1638719829028799,
          1.583178890632193,
          -0.1465839932075413,
          -0.16116328580048228,
          -0.16451465276680893,
          -0.16486927514511282,
          -0.16412893981065,
          -0.155933208161693,
          -0.16475062694344061,
          -0.029798580104618087,
          -0.14666159805509768,
          -0.15841790517266918,
          -0.16473016733389073,
          -0.162826671926178,
          -0.1642172156341245,
          -0.13382230392306083,
          -0.1461256359881857,
          -0.14641277542928402,
          -0.14639609834128314,
          -0.14698605465099568,
          -0.2274227966371588,
          -0.16444669527262654,
          -0.19419609659138526,
          -0.161552237978896,
          -0.14619290800138918,
          3.84929743262479,
          0.4500616151684275,
          -0.16331510027579366,
          -0.1479290859041111,
          -0.16203455490849966,
          -0.1648714956198661,
          -0.161899547593117,
          -0.1481316398978401,
          -0.1288749682943917,
          -0.12797883246100053,
          -0.1805042437714865,
          -0.1647445891404362,
          -0.03778047626586637,
          -0.13267251749088443,
          -0.16488036971209857,
          -0.14668937355751474,
          0.48641300812879473,
          -0.22681031993326461,
          -0.15007983186962434,
          -0.1464295451777712,
          -0.22709509162967856,
          -0.16300614723951026,
          -0.16219880032515238,
          -0.15531401839251938,
          0.3615340532793252,
          -0.22713044147842043,
          -0.14658511547736489,
          -0.1608403815707106,
          -0.1419076355448738,
          -0.16344456614647088,
          0.2716766720065734,
          -0.2262918275112535,
          -0.15533430182371982,
          -0.16369272257262035,
          -0.1505422847170822,
          -0.1646704685186127,
          -0.22709376745448048,
          -0.16488042817581783,
          -0.22724372772525575,
          -0.23122604923143023,
          0.2950661691856595,
          -0.1468450817498729,
          -0.10806339241073275,
          -0.1620491134801249,
          -0.14680372240959805,
          -0.1645441134056866,
          -0.16341789678573976,
          -0.1550562764218448,
          -0.14530801218364678,
          -0.09170049176705694,
          -0.2138322238213579,
          -0.22507383703591505,
          0.295060435693646,
          -0.16486218598245694,
          0.29519110677440447,
          -0.15061974199413877,
          0.4870613991587378,
          -0.14821508087069163,
          -0.16483048111958196,
          -0.2199869740806527,
          -0.14532035053451114,
          -0.162964739681954,
          -0.1503382399714955,
          -0.13549255601367252,
          -0.13579177694353745,
          -0.1923971719636951,
          -0.16439317564203176,
          -0.11319476625204876,
          -0.16421557778625323,
          -0.14807211499443487,
          -0.13952314142243377,
          -0.03874357113736286,
          -0.15329797680197219,
          0.3311622674836418,
          -0.2263003628464295,
          -0.16453434726751343,
          -0.16429824067913137,
          -0.22669465882714304,
          -0.22727170403197008,
          0.29545510149989246,
          -0.16801338470945007,
          3.2427962742924,
          -0.10859982829146349,
          -0.2181541022936413,
          -0.14662178521924052,
          -0.09055275777256866,
          1.5820146346496615,
          -0.16463219429767975,
          -0.16408444604055925,
          -0.1637855849138808,
          -0.16377251676662918,
          0.29563838769377565,
          0.0668040792118994,
          -0.18167773210691554,
          -0.18839530175214758,
          -0.1451664483338405,
          -0.1540946103274933,
          -0.16296294896378463,
          -0.22281939635724848,
          -0.1882408849204884,
          -0.1534238546287926,
          -0.18834096538829295,
          -0.11821721801959072,
          1.1321866151717428,
          0.29504328228515453,
          -0.07840498435713858,
          -0.2225627702063327,
          -0.1371929217249152,
          -0.08107040287884275,
          1.0823952468093243,
          -0.22724571249608735,
          -0.1883928071357029,
          -0.1814354372760578,
          -0.16388364024764435,
          -0.2271711537289212,
          -0.14660117664988043,
          -0.20280201399084627,
          8.023426869964792,
          -0.14783417390251247,
          0.2989145567023522,
          0.028057246185645566,
          -0.15359735943660247,
          -0.1797642186718144,
          -0.16445711063480256,
          0.142433838048267,
          -0.22131672800502375,
          -0.10652112433499825,
          0.3029570584824169,
          -0.16469393530605356,
          -0.1521017969705777,
          -0.14415804723611236,
          -0.1612040488016769,
          -0.22634113245606,
          0.29522573568570115,
          -0.1924563862733608,
          -0.1504651364877015,
          -0.1652198410348429,
          -0.16350217019150742,
          0.29914848969894037,
          0.5732571601010339,
          2.1019441291424186,
          -0.15616246424344113,
          0.30882097901519423,
          -0.20377872579201659,
          -0.16524561396680398,
          -0.22722788465302352,
          -0.16471852530925118,
          -0.13707950467056348,
          -0.16499301210179063,
          -0.1621762889330822,
          3.093994375017325,
          -0.10647086932332128,
          -0.22719928794293753,
          -0.20320718339046964,
          -0.039987586707817574,
          -0.16290062016624832,
          -0.146621822782096,
          0.37490844987539684,
          -0.1472161038943101,
          -0.14760738816654748,
          -0.16856672944347348,
          -0.16361177254773612,
          -0.14322884423149454,
          -0.14499936694210935,
          -0.17971616409988725,
          -0.1458983988844384,
          -0.11506799126129266,
          -0.1447673439108556,
          0.5302749929744704,
          -0.11359907879890552,
          -0.09813849467906259,
          -0.14828221564365468,
          -0.14641214592364205,
          0.5504624601285765,
          -0.1997327179554967,
          -0.16479520572890105,
          -0.16275263795273348,
          -0.1287136922641498,
          -0.12451842652645384,
          -0.15508941734211912,
          0.31678651812956893,
          -0.14528745354412398
         ],
         "y": [
          -1.278454281025148,
          -1.9909047507739275,
          -1.1879962393671786,
          -2.2302443691948066,
          -1.9909438371567731,
          -1.9282466188353453,
          -1.7585236147720715,
          -1.1880214464628722,
          -0.8338389750116327,
          -1.1880259436378597,
          -1.7611049030939756,
          -1.2663909045037447,
          -1.2783834386551156,
          -1.1879863169931713,
          -1.1880365130010548,
          -0.4885773008327472,
          -1.212605390173813,
          -1.1880085969764171,
          -1.1880204816377598,
          -1.1880205497938199,
          -0.8338426562086938,
          -1.7546100601021142,
          -1.2702698733959932,
          -1.1824422323672468,
          -1.1880113823437812,
          -1.187936707181769,
          -1.18801456691436,
          -1.188022528059094,
          -1.4896970322125827,
          -1.187723297271607,
          -1.1879916318117327,
          -1.1880080508904018,
          -1.146297666227167,
          -1.2784521793119683,
          -1.187974505304334,
          -1.1880122311542824,
          -1.188020535994468,
          -1.188004208761698,
          -2.1251973357174614,
          -1.1880191776342448,
          -1.1895097323945782,
          -1.278456401747745,
          -1.1878673104707185,
          -1.1880245464538712,
          -1.188055922122345,
          -1.1880144331211882,
          -1.2782687236974595,
          -1.2784425685351284,
          -1.2784552382063321,
          -1.2784767232322192,
          -1.2784618278091398,
          -0.8338415013965632,
          -1.1880103014479142,
          -1.1862471363696896,
          -1.1879956679719412,
          -1.2784450431665582,
          -2.1206424540139617,
          -2.202783799805121,
          -1.1879971231966544,
          -1.1880880149097934,
          -1.1879635519175213,
          -1.1880214099015745,
          -1.1879524431414301,
          -1.1876983293520087,
          -2.167437255944225,
          -1.7617755338816754,
          -1.5806406367508838,
          -1.1880149430212075,
          -1.1869976522105066,
          -2.2101041726695443,
          -1.1880207091658574,
          -1.2784579129970914,
          -1.2067970601318492,
          -0.8338276229323591,
          -2.171543590361698,
          -1.2784630805025676,
          -0.8338360459094667,
          -1.1880422577331775,
          -1.1880217599843486,
          -1.9909727970118902,
          -2.023936485820561,
          -0.8338350229040731,
          -1.278452240374033,
          -1.1879242782246908,
          -2.2099666983521002,
          -1.187991721891765,
          -1.268426286039319,
          -0.833829465033943,
          -2.152666712982232,
          -1.18805492998088,
          -2.081084178452738,
          -1.188020709001037,
          -0.8338383309583495,
          -1.1880207105613345,
          -0.8338464902116994,
          -1.1147432925355034,
          -2.205330165664435,
          -1.2784597474078405,
          -1.7613990750260573,
          -1.1879841519016296,
          -1.2784580287704397,
          -1.1880197268322104,
          -2.080542706197663,
          -1.9909642531611054,
          -1.9282477949232517,
          -1.189931409697368,
          -0.8333966830945401,
          -0.8338480503365856,
          -2.2053369596358747,
          -1.1880209542155862,
          -2.2053322069929266,
          -2.1715400914918623,
          -0.853894233819681,
          -2.230286267463146,
          -1.188019609674517,
          -0.8340261966313265,
          -1.9282461091494247,
          -1.1879750431917673,
          -2.1715312571423158,
          -2.1223322596479828,
          -1.1887947467801958,
          -0.6185630355660853,
          -1.1880147674229125,
          -1.2780963009538244,
          -1.1880266009086382,
          -2.2302313468407435,
          -2.0955960029791445,
          -2.0459158841215723,
          -2.146425204036439,
          -2.204538852922837,
          -0.8338393578227115,
          -1.1880128765578568,
          -1.1880328663721729,
          -0.8338372402785276,
          -0.8338444178145238,
          -2.205334932139179,
          -1.9990393312276975,
          -1.120465414293065,
          -1.3157863568529204,
          -0.8339853985287037,
          -1.278454235553908,
          -1.1901635992042356,
          -1.092972776904348,
          -1.1880186265223664,
          -1.1880265373941812,
          -1.1880197049156622,
          -1.1880189938851762,
          -2.205345518760226,
          -1.9290692781276084,
          -0.8324132317863799,
          -1.489769890261208,
          -1.9282400925144085,
          -2.152673691360005,
          -1.1879749457598068,
          -0.8337972789402471,
          -1.4897720954631772,
          -1.9910249885256739,
          -1.489769762366249,
          -1.7616333308951142,
          -2.2098653245790456,
          -2.2053328841130373,
          -1.9926709988138824,
          -0.8339011708820405,
          -2.230166510913922,
          -1.186406661953607,
          -1.1006724283577345,
          -0.8338435339764997,
          -1.4897662188857845,
          -1.4896699346409092,
          -1.1880038261822623,
          -0.8338413629534343,
          -1.2784526227987072,
          -1.2119520635948497,
          -2.3741026730385006,
          -2.1293161345477265,
          -2.2053128804456708,
          -1.1834154590422616,
          -2.152613456120109,
          -1.1860606085828431,
          -1.188020885802013,
          -1.1821463091953612,
          -0.8338039107256926,
          -1.9921383226150204,
          -2.2054842082344877,
          -1.1880225750897695,
          -1.9385034242479389,
          -1.928214100414326,
          -2.0805864237549923,
          -0.8338415760740675,
          -2.205326433644254,
          -0.6185501984846312,
          -2.171541272877236,
          -1.9911594564431705,
          -2.080540868377937,
          -2.2054557209584496,
          -2.0690312988211486,
          -2.2154395062978964,
          -1.9899310244713142,
          -2.205165155641391,
          -1.2934817302320614,
          -2.231419189656409,
          -0.8338432711026129,
          -1.1880245643207967,
          -2.230602601080101,
          -2.1431824343102175,
          -0.46681530716517894,
          -2.040494422399069,
          -1.277494747881907,
          -0.8338440722683277,
          -1.2934965517076777,
          -1.9269834788606104,
          -2.0805514500302356,
          -1.2784542375976822,
          -2.205741434617049,
          -2.204351658535374,
          -2.204325870272967,
          -2.1190550089264755,
          -1.1880220333658438,
          -1.9282771550569504,
          -1.9282368272745811,
          -1.5806566851951755,
          -1.278440215300801,
          -0.27101039728855253,
          -1.2784399597497806,
          -1.2080051265626919,
          -1.4880414562607356,
          -2.205744348016533,
          -1.187706522093007,
          -1.278455203955287,
          -1.1785626524463084,
          -1.2125938910377263,
          -1.188018656770068,
          -1.188011823335225,
          -1.7618171671546725,
          -2.1673678772554936,
          -1.990965044205504,
          -2.204967596001044,
          -1.9282466763393264
         ],
         "z": [
          0.20242963532594813,
          0.4747341164248856,
          0.04895038236666123,
          0.45281985835174865,
          0.47472127665997144,
          0.3400541779449428,
          0.4690008697667093,
          0.04897407181664866,
          0.057321340036577115,
          0.04896955945129161,
          0.47344849881254364,
          0.029203671678703604,
          0.2023676113235109,
          0.048918307945524604,
          0.048969436386784276,
          0.06654083853362697,
          0.13928763815221387,
          0.04896279326012289,
          0.04897355358816741,
          0.04897485655112052,
          0.05732363951500912,
          0.4676149657853173,
          0.1946536051416875,
          0.04380570141822874,
          0.04896866616013947,
          0.04888363918592478,
          0.04896860440968197,
          0.048976225911176334,
          0.2552921450695818,
          0.04858843293099984,
          0.04895016314265521,
          0.04895862037232988,
          0.01196979370767549,
          0.20242850645024427,
          0.04890947912697756,
          0.04896928318850751,
          0.04897674867147312,
          0.04896142968287521,
          0.4582422485947585,
          0.04897462543195719,
          0.047360138100838896,
          0.20243077441202353,
          0.0488403700578918,
          0.04897573688900836,
          0.048955694369132975,
          0.04896543916056204,
          0.20219028275581985,
          0.20241915340539127,
          0.20242676605787424,
          0.20243218380470346,
          0.20243703197958507,
          0.05732591928967038,
          0.048967763359841814,
          0.24309148565792565,
          0.04892084605446213,
          0.2024208067394807,
          0.40872978802028975,
          0.48095880626318815,
          0.048947454366137046,
          0.04874253929635576,
          0.048919551703345554,
          0.04897701216242275,
          0.04891461381196017,
          0.04864278815416772,
          0.4888068557274975,
          0.4741309368435702,
          0.2760424545423503,
          0.04897341889891942,
          0.0468164146299211,
          0.43381260009653516,
          0.04897695938279142,
          0.20243158613680445,
          0.044239770142264295,
          0.05731314810869547,
          0.46251970040560847,
          0.2024290836263003,
          0.05731960563846425,
          0.048954760816177584,
          0.0489373451443322,
          0.4747679416795364,
          0.4078789778047487,
          0.0573198617293399,
          0.20242853924800303,
          0.048891430132222975,
          0.40703121598644554,
          0.04894795593270258,
          0.19356247203009422,
          0.05730592073506849,
          0.43476363453877753,
          0.04896831620479698,
          0.46223996599281647,
          0.04897383682376151,
          0.057320188532351525,
          0.04897696062050742,
          0.057324571044182135,
          -0.03657555400862468,
          0.48393604191492273,
          0.2024343862249784,
          0.4737353960130677,
          0.04892520072039493,
          0.20243331773487425,
          0.04897169814110213,
          0.5201508127401814,
          0.4747618543715236,
          0.3400548096472509,
          0.048392199366912046,
          0.057006440813307926,
          0.05729270290966058,
          0.4839379188519029,
          0.048976753501731536,
          0.48393472164896195,
          0.46252680948359326,
          0.05198529159489265,
          0.4528125567577162,
          0.04897592728611186,
          0.05726400925430028,
          0.3400545486369861,
          0.04893641961982475,
          0.46252029211045825,
          0.5397447485924534,
          0.0487483561722995,
          -0.030502226513530135,
          0.04896814492197669,
          0.20183795523773365,
          0.04896862357487872,
          0.4527959468089363,
          0.5299123890471706,
          0.41962976484569303,
          0.5752604881518962,
          0.4831903941291038,
          0.05730865654475847,
          0.04896974636629275,
          0.04897150554960266,
          0.05731396371985135,
          0.057324440709219784,
          0.4839315130824523,
          0.37205712278801983,
          -0.019531123851212112,
          0.164965649826966,
          0.057225984324127295,
          0.20242961090236028,
          0.048436356459219704,
          -0.0020752454442912885,
          0.048972718279328344,
          0.04896665609369539,
          0.048960408399795985,
          0.04896002648990976,
          0.4839315783030436,
          0.3371160386372779,
          0.05626875979471916,
          0.2553810628861799,
          0.34005067251650717,
          0.43474703301283596,
          0.048936367287006656,
          0.05724577660257102,
          0.25537934729866824,
          0.4747535868497549,
          0.25538022084454837,
          0.4739482213966015,
          0.4726789080153027,
          0.48393709926796763,
          0.4740716680382201,
          0.057269356446556445,
          0.45261700866708754,
          0.047304550199723294,
          0.11282727078125285,
          0.05732382097819468,
          0.25538005759395654,
          0.25525116770519035,
          0.04895767968648244,
          0.05732213931033048,
          0.2024288790255348,
          0.1236841491183811,
          0.41347517566866276,
          0.411082325756324,
          0.4838742345343756,
          0.04489234103326065,
          0.43472375115430656,
          0.24282760586959745,
          0.04897070951041095,
          0.042856172257696584,
          0.057225171600881676,
          0.47434945457842465,
          0.48385927880741586,
          0.048974678026618694,
          0.47888550610651054,
          0.3400288170175428,
          0.5201294080694006,
          0.057309848015643365,
          0.48393268400965533,
          -0.030504730913608117,
          0.4625248210976566,
          0.4747412292676746,
          0.5201515817483285,
          0.4839084231302549,
          0.4998871378394121,
          0.4597226507560909,
          0.42643616016832014,
          0.4836879087440249,
          0.23447253564280918,
          0.46087096250524745,
          0.05732348644631322,
          0.04897556841254453,
          0.45273032322588336,
          0.39915055613748457,
          0.1592518080860017,
          0.45486285825188083,
          0.20157929358354804,
          0.05732327231438687,
          0.23446794189469652,
          0.3381546362211788,
          0.5201454235152151,
          0.2024296120001152,
          0.48285675461974403,
          0.42435221819423413,
          0.4243512383385128,
          0.4198781882216779,
          0.0489584367838721,
          0.3400316222826896,
          0.34004732591390574,
          0.2760349631247049,
          0.2024151524249985,
          -0.10591109868761046,
          0.20239825932267588,
          0.04390585432684697,
          0.2538125781963788,
          0.4239894012446221,
          0.04864718865294024,
          0.20242674766089577,
          0.03584123945006699,
          0.1392780783261361,
          0.04897515123376453,
          0.04894296369646031,
          0.47415284785814293,
          0.48330241566241006,
          0.4747625559869583,
          0.4835173137736941,
          0.3400542088315788
         ]
        },
        {
         "customdata": [
          [
           "Proof-of-BibleHash"
          ],
          [
           "SHA-256 + Hive"
          ],
          [
           "Proof-of-Authority"
          ],
          [
           "ECC 256K1"
          ],
          [
           "SHA3-256"
          ],
          [
           "Leased POS"
          ]
         ],
         "hovertemplate": "<b>%{hovertext}</b><br><br>class=%{marker.color}<br>PC 1=%{x}<br>PC 2=%{y}<br>PC 3=%{z}<br>Algorithm=%{customdata[0]}<extra></extra>",
         "hovertext": [
          "BiblePay",
          "LitecoinCash",
          "Poa Network",
          "Acute Angle Cloud",
          "Fiii",
          "Waves"
         ],
         "legendgroup": "3",
         "marker": {
          "color": [
           3,
           3,
           3,
           3,
           3,
           3
          ],
          "coloraxis": "coloraxis",
          "symbol": "square"
         },
         "mode": "markers",
         "name": "3",
         "scene": "scene",
         "showlegend": true,
         "type": "scatter3d",
         "x": [
          -0.19717074060412584,
          -0.3763806478837241,
          -0.3816748412016787,
          -0.3303986011363096,
          -0.5870772871420471,
          -0.3953367041668719
         ],
         "y": [
          3.670818249660895,
          4.3855491185127695,
          2.3368475213917477,
          1.9442742913658615,
          5.568662172190355,
          2.3676098640298435
         ],
         "z": [
          9.296647185270077,
          6.902884670710865,
          13.63717917787571,
          16.351887498149594,
          11.368539734935185,
          15.595757528881915
         ]
        },
        {
         "customdata": [
          [
           "TRC10"
          ]
         ],
         "hovertemplate": "<b>%{hovertext}</b><br><br>class=%{marker.color}<br>PC 1=%{x}<br>PC 2=%{y}<br>PC 3=%{z}<br>Algorithm=%{customdata[0]}<extra></extra>",
         "hovertext": [
          "BitTorrent"
         ],
         "legendgroup": "2",
         "marker": {
          "color": [
           2
          ],
          "coloraxis": "coloraxis",
          "symbol": "x"
         },
         "mode": "markers",
         "name": "2",
         "scene": "scene",
         "showlegend": true,
         "type": "scatter3d",
         "x": [
          34.076818513259404
         ],
         "y": [
          1.9424959049690216
         ],
         "z": [
          -0.8205513399814741
         ]
        }
       ],
       "layout": {
        "autosize": true,
        "coloraxis": {
         "colorbar": {
          "title": {
           "text": "class"
          }
         },
         "colorscale": [
          [
           0,
           "#0d0887"
          ],
          [
           0.1111111111111111,
           "#46039f"
          ],
          [
           0.2222222222222222,
           "#7201a8"
          ],
          [
           0.3333333333333333,
           "#9c179e"
          ],
          [
           0.4444444444444444,
           "#bd3786"
          ],
          [
           0.5555555555555556,
           "#d8576b"
          ],
          [
           0.6666666666666666,
           "#ed7953"
          ],
          [
           0.7777777777777778,
           "#fb9f3a"
          ],
          [
           0.8888888888888888,
           "#fdca26"
          ],
          [
           1,
           "#f0f921"
          ]
         ]
        },
        "legend": {
         "title": {
          "text": "class"
         },
         "tracegroupgap": 0,
         "x": 0,
         "y": 1
        },
        "margin": {
         "t": 60
        },
        "scene": {
         "aspectmode": "auto",
         "aspectratio": {
          "x": 1,
          "y": 1,
          "z": 1
         },
         "domain": {
          "x": [
           0,
           1
          ],
          "y": [
           0,
           1
          ]
         },
         "xaxis": {
          "title": {
           "text": "PC 1"
          },
          "type": "linear"
         },
         "yaxis": {
          "title": {
           "text": "PC 2"
          },
          "type": "linear"
         },
         "zaxis": {
          "title": {
           "text": "PC 3"
          },
          "type": "linear"
         }
        },
        "template": {
         "data": {
          "bar": [
           {
            "error_x": {
             "color": "#2a3f5f"
            },
            "error_y": {
             "color": "#2a3f5f"
            },
            "marker": {
             "line": {
              "color": "#E5ECF6",
              "width": 0.5
             },
             "pattern": {
              "fillmode": "overlay",
              "size": 10,
              "solidity": 0.2
             }
            },
            "type": "bar"
           }
          ],
          "barpolar": [
           {
            "marker": {
             "line": {
              "color": "#E5ECF6",
              "width": 0.5
             },
             "pattern": {
              "fillmode": "overlay",
              "size": 10,
              "solidity": 0.2
             }
            },
            "type": "barpolar"
           }
          ],
          "carpet": [
           {
            "aaxis": {
             "endlinecolor": "#2a3f5f",
             "gridcolor": "white",
             "linecolor": "white",
             "minorgridcolor": "white",
             "startlinecolor": "#2a3f5f"
            },
            "baxis": {
             "endlinecolor": "#2a3f5f",
             "gridcolor": "white",
             "linecolor": "white",
             "minorgridcolor": "white",
             "startlinecolor": "#2a3f5f"
            },
            "type": "carpet"
           }
          ],
          "choropleth": [
           {
            "colorbar": {
             "outlinewidth": 0,
             "ticks": ""
            },
            "type": "choropleth"
           }
          ],
          "contour": [
           {
            "colorbar": {
             "outlinewidth": 0,
             "ticks": ""
            },
            "colorscale": [
             [
              0,
              "#0d0887"
             ],
             [
              0.1111111111111111,
              "#46039f"
             ],
             [
              0.2222222222222222,
              "#7201a8"
             ],
             [
              0.3333333333333333,
              "#9c179e"
             ],
             [
              0.4444444444444444,
              "#bd3786"
             ],
             [
              0.5555555555555556,
              "#d8576b"
             ],
             [
              0.6666666666666666,
              "#ed7953"
             ],
             [
              0.7777777777777778,
              "#fb9f3a"
             ],
             [
              0.8888888888888888,
              "#fdca26"
             ],
             [
              1,
              "#f0f921"
             ]
            ],
            "type": "contour"
           }
          ],
          "contourcarpet": [
           {
            "colorbar": {
             "outlinewidth": 0,
             "ticks": ""
            },
            "type": "contourcarpet"
           }
          ],
          "heatmap": [
           {
            "colorbar": {
             "outlinewidth": 0,
             "ticks": ""
            },
            "colorscale": [
             [
              0,
              "#0d0887"
             ],
             [
              0.1111111111111111,
              "#46039f"
             ],
             [
              0.2222222222222222,
              "#7201a8"
             ],
             [
              0.3333333333333333,
              "#9c179e"
             ],
             [
              0.4444444444444444,
              "#bd3786"
             ],
             [
              0.5555555555555556,
              "#d8576b"
             ],
             [
              0.6666666666666666,
              "#ed7953"
             ],
             [
              0.7777777777777778,
              "#fb9f3a"
             ],
             [
              0.8888888888888888,
              "#fdca26"
             ],
             [
              1,
              "#f0f921"
             ]
            ],
            "type": "heatmap"
           }
          ],
          "heatmapgl": [
           {
            "colorbar": {
             "outlinewidth": 0,
             "ticks": ""
            },
            "colorscale": [
             [
              0,
              "#0d0887"
             ],
             [
              0.1111111111111111,
              "#46039f"
             ],
             [
              0.2222222222222222,
              "#7201a8"
             ],
             [
              0.3333333333333333,
              "#9c179e"
             ],
             [
              0.4444444444444444,
              "#bd3786"
             ],
             [
              0.5555555555555556,
              "#d8576b"
             ],
             [
              0.6666666666666666,
              "#ed7953"
             ],
             [
              0.7777777777777778,
              "#fb9f3a"
             ],
             [
              0.8888888888888888,
              "#fdca26"
             ],
             [
              1,
              "#f0f921"
             ]
            ],
            "type": "heatmapgl"
           }
          ],
          "histogram": [
           {
            "marker": {
             "pattern": {
              "fillmode": "overlay",
              "size": 10,
              "solidity": 0.2
             }
            },
            "type": "histogram"
           }
          ],
          "histogram2d": [
           {
            "colorbar": {
             "outlinewidth": 0,
             "ticks": ""
            },
            "colorscale": [
             [
              0,
              "#0d0887"
             ],
             [
              0.1111111111111111,
              "#46039f"
             ],
             [
              0.2222222222222222,
              "#7201a8"
             ],
             [
              0.3333333333333333,
              "#9c179e"
             ],
             [
              0.4444444444444444,
              "#bd3786"
             ],
             [
              0.5555555555555556,
              "#d8576b"
             ],
             [
              0.6666666666666666,
              "#ed7953"
             ],
             [
              0.7777777777777778,
              "#fb9f3a"
             ],
             [
              0.8888888888888888,
              "#fdca26"
             ],
             [
              1,
              "#f0f921"
             ]
            ],
            "type": "histogram2d"
           }
          ],
          "histogram2dcontour": [
           {
            "colorbar": {
             "outlinewidth": 0,
             "ticks": ""
            },
            "colorscale": [
             [
              0,
              "#0d0887"
             ],
             [
              0.1111111111111111,
              "#46039f"
             ],
             [
              0.2222222222222222,
              "#7201a8"
             ],
             [
              0.3333333333333333,
              "#9c179e"
             ],
             [
              0.4444444444444444,
              "#bd3786"
             ],
             [
              0.5555555555555556,
              "#d8576b"
             ],
             [
              0.6666666666666666,
              "#ed7953"
             ],
             [
              0.7777777777777778,
              "#fb9f3a"
             ],
             [
              0.8888888888888888,
              "#fdca26"
             ],
             [
              1,
              "#f0f921"
             ]
            ],
            "type": "histogram2dcontour"
           }
          ],
          "mesh3d": [
           {
            "colorbar": {
             "outlinewidth": 0,
             "ticks": ""
            },
            "type": "mesh3d"
           }
          ],
          "parcoords": [
           {
            "line": {
             "colorbar": {
              "outlinewidth": 0,
              "ticks": ""
             }
            },
            "type": "parcoords"
           }
          ],
          "pie": [
           {
            "automargin": true,
            "type": "pie"
           }
          ],
          "scatter": [
           {
            "marker": {
             "colorbar": {
              "outlinewidth": 0,
              "ticks": ""
             }
            },
            "type": "scatter"
           }
          ],
          "scatter3d": [
           {
            "line": {
             "colorbar": {
              "outlinewidth": 0,
              "ticks": ""
             }
            },
            "marker": {
             "colorbar": {
              "outlinewidth": 0,
              "ticks": ""
             }
            },
            "type": "scatter3d"
           }
          ],
          "scattercarpet": [
           {
            "marker": {
             "colorbar": {
              "outlinewidth": 0,
              "ticks": ""
             }
            },
            "type": "scattercarpet"
           }
          ],
          "scattergeo": [
           {
            "marker": {
             "colorbar": {
              "outlinewidth": 0,
              "ticks": ""
             }
            },
            "type": "scattergeo"
           }
          ],
          "scattergl": [
           {
            "marker": {
             "colorbar": {
              "outlinewidth": 0,
              "ticks": ""
             }
            },
            "type": "scattergl"
           }
          ],
          "scattermapbox": [
           {
            "marker": {
             "colorbar": {
              "outlinewidth": 0,
              "ticks": ""
             }
            },
            "type": "scattermapbox"
           }
          ],
          "scatterpolar": [
           {
            "marker": {
             "colorbar": {
              "outlinewidth": 0,
              "ticks": ""
             }
            },
            "type": "scatterpolar"
           }
          ],
          "scatterpolargl": [
           {
            "marker": {
             "colorbar": {
              "outlinewidth": 0,
              "ticks": ""
             }
            },
            "type": "scatterpolargl"
           }
          ],
          "scatterternary": [
           {
            "marker": {
             "colorbar": {
              "outlinewidth": 0,
              "ticks": ""
             }
            },
            "type": "scatterternary"
           }
          ],
          "surface": [
           {
            "colorbar": {
             "outlinewidth": 0,
             "ticks": ""
            },
            "colorscale": [
             [
              0,
              "#0d0887"
             ],
             [
              0.1111111111111111,
              "#46039f"
             ],
             [
              0.2222222222222222,
              "#7201a8"
             ],
             [
              0.3333333333333333,
              "#9c179e"
             ],
             [
              0.4444444444444444,
              "#bd3786"
             ],
             [
              0.5555555555555556,
              "#d8576b"
             ],
             [
              0.6666666666666666,
              "#ed7953"
             ],
             [
              0.7777777777777778,
              "#fb9f3a"
             ],
             [
              0.8888888888888888,
              "#fdca26"
             ],
             [
              1,
              "#f0f921"
             ]
            ],
            "type": "surface"
           }
          ],
          "table": [
           {
            "cells": {
             "fill": {
              "color": "#EBF0F8"
             },
             "line": {
              "color": "white"
             }
            },
            "header": {
             "fill": {
              "color": "#C8D4E3"
             },
             "line": {
              "color": "white"
             }
            },
            "type": "table"
           }
          ]
         },
         "layout": {
          "annotationdefaults": {
           "arrowcolor": "#2a3f5f",
           "arrowhead": 0,
           "arrowwidth": 1
          },
          "autotypenumbers": "strict",
          "coloraxis": {
           "colorbar": {
            "outlinewidth": 0,
            "ticks": ""
           }
          },
          "colorscale": {
           "diverging": [
            [
             0,
             "#8e0152"
            ],
            [
             0.1,
             "#c51b7d"
            ],
            [
             0.2,
             "#de77ae"
            ],
            [
             0.3,
             "#f1b6da"
            ],
            [
             0.4,
             "#fde0ef"
            ],
            [
             0.5,
             "#f7f7f7"
            ],
            [
             0.6,
             "#e6f5d0"
            ],
            [
             0.7,
             "#b8e186"
            ],
            [
             0.8,
             "#7fbc41"
            ],
            [
             0.9,
             "#4d9221"
            ],
            [
             1,
             "#276419"
            ]
           ],
           "sequential": [
            [
             0,
             "#0d0887"
            ],
            [
             0.1111111111111111,
             "#46039f"
            ],
            [
             0.2222222222222222,
             "#7201a8"
            ],
            [
             0.3333333333333333,
             "#9c179e"
            ],
            [
             0.4444444444444444,
             "#bd3786"
            ],
            [
             0.5555555555555556,
             "#d8576b"
            ],
            [
             0.6666666666666666,
             "#ed7953"
            ],
            [
             0.7777777777777778,
             "#fb9f3a"
            ],
            [
             0.8888888888888888,
             "#fdca26"
            ],
            [
             1,
             "#f0f921"
            ]
           ],
           "sequentialminus": [
            [
             0,
             "#0d0887"
            ],
            [
             0.1111111111111111,
             "#46039f"
            ],
            [
             0.2222222222222222,
             "#7201a8"
            ],
            [
             0.3333333333333333,
             "#9c179e"
            ],
            [
             0.4444444444444444,
             "#bd3786"
            ],
            [
             0.5555555555555556,
             "#d8576b"
            ],
            [
             0.6666666666666666,
             "#ed7953"
            ],
            [
             0.7777777777777778,
             "#fb9f3a"
            ],
            [
             0.8888888888888888,
             "#fdca26"
            ],
            [
             1,
             "#f0f921"
            ]
           ]
          },
          "colorway": [
           "#636efa",
           "#EF553B",
           "#00cc96",
           "#ab63fa",
           "#FFA15A",
           "#19d3f3",
           "#FF6692",
           "#B6E880",
           "#FF97FF",
           "#FECB52"
          ],
          "font": {
           "color": "#2a3f5f"
          },
          "geo": {
           "bgcolor": "white",
           "lakecolor": "white",
           "landcolor": "#E5ECF6",
           "showlakes": true,
           "showland": true,
           "subunitcolor": "white"
          },
          "hoverlabel": {
           "align": "left"
          },
          "hovermode": "closest",
          "mapbox": {
           "style": "light"
          },
          "paper_bgcolor": "white",
          "plot_bgcolor": "#E5ECF6",
          "polar": {
           "angularaxis": {
            "gridcolor": "white",
            "linecolor": "white",
            "ticks": ""
           },
           "bgcolor": "#E5ECF6",
           "radialaxis": {
            "gridcolor": "white",
            "linecolor": "white",
            "ticks": ""
           }
          },
          "scene": {
           "xaxis": {
            "backgroundcolor": "#E5ECF6",
            "gridcolor": "white",
            "gridwidth": 2,
            "linecolor": "white",
            "showbackground": true,
            "ticks": "",
            "zerolinecolor": "white"
           },
           "yaxis": {
            "backgroundcolor": "#E5ECF6",
            "gridcolor": "white",
            "gridwidth": 2,
            "linecolor": "white",
            "showbackground": true,
            "ticks": "",
            "zerolinecolor": "white"
           },
           "zaxis": {
            "backgroundcolor": "#E5ECF6",
            "gridcolor": "white",
            "gridwidth": 2,
            "linecolor": "white",
            "showbackground": true,
            "ticks": "",
            "zerolinecolor": "white"
           }
          },
          "shapedefaults": {
           "line": {
            "color": "#2a3f5f"
           }
          },
          "ternary": {
           "aaxis": {
            "gridcolor": "white",
            "linecolor": "white",
            "ticks": ""
           },
           "baxis": {
            "gridcolor": "white",
            "linecolor": "white",
            "ticks": ""
           },
           "bgcolor": "#E5ECF6",
           "caxis": {
            "gridcolor": "white",
            "linecolor": "white",
            "ticks": ""
           }
          },
          "title": {
           "x": 0.05
          },
          "xaxis": {
           "automargin": true,
           "gridcolor": "white",
           "linecolor": "white",
           "ticks": "",
           "title": {
            "standoff": 15
           },
           "zerolinecolor": "white",
           "zerolinewidth": 2
          },
          "yaxis": {
           "automargin": true,
           "gridcolor": "white",
           "linecolor": "white",
           "ticks": "",
           "title": {
            "standoff": 15
           },
           "zerolinecolor": "white",
           "zerolinewidth": 2
          }
         }
        }
       }
      },
      "image/png": "[encoded data removed]",
      "text/html": [
       "<div>                            <div id=\"51959adf-ef05-4b90-9d99-2e7f2d48e782\" class=\"plotly-graph-div\" style=\"height:525px; width:100%;\"></div>            <script type=\"text/javascript\">                require([\"plotly\"], function(Plotly) {                    window.PLOTLYENV=window.PLOTLYENV || {};                                    if (document.getElementById(\"51959adf-ef05-4b90-9d99-2e7f2d48e782\")) {                    Plotly.newPlot(                        \"51959adf-ef05-4b90-9d99-2e7f2d48e782\",                        [{\"customdata\":[[\"Scrypt\"],[\"Scrypt\"],[\"X13\"],[\"X11\"],[\"SHA-512\"],[\"SHA-256\"],[\"SHA-256\"],[\"X15\"],[\"Scrypt\"],[\"Scrypt\"],[\"Scrypt\"],[\"Scrypt\"],[\"Scrypt\"],[\"Scrypt\"],[\"Groestl\"],[\"PoS\"],[\"Scrypt\"],[\"Scrypt\"],[\"X11\"],[\"X11\"],[\"SHA3\"],[\"Scrypt\"],[\"SHA-256\"],[\"Scrypt\"],[\"X13\"],[\"X13\"],[\"NeoScrypt\"],[\"Scrypt\"],[\"Scrypt\"],[\"Scrypt\"],[\"X11\"],[\"X11\"],[\"Multiple\"],[\"PHI1612\"],[\"X11\"],[\"Scrypt\"],[\"Scrypt\"],[\"Scrypt\"],[\"X11\"],[\"Multiple\"],[\"X13\"],[\"Scrypt\"],[\"Shabal256\"],[\"Counterparty\"],[\"SHA-256\"],[\"Groestl\"],[\"Scrypt\"],[\"X13\"],[\"Scrypt\"],[\"Scrypt\"],[\"X13\"],[\"X11\"],[\"Scrypt\"],[\"X11\"],[\"SHA3\"],[\"QUAIT\"],[\"X11\"],[\"Scrypt\"],[\"X13\"],[\"SHA-256\"],[\"X15\"],[\"BLAKE256\"],[\"SHA-256\"],[\"X11\"],[\"SHA-256\"],[\"NIST5\"],[\"Scrypt\"],[\"Scrypt\"],[\"X11\"],[\"Scrypt\"],[\"SHA-256\"],[\"Scrypt\"],[\"PoS\"],[\"X11\"],[\"SHA-256\"],[\"SHA-256\"],[\"NIST5\"],[\"X11\"],[\"POS 3.0\"],[\"Scrypt\"],[\"Scrypt\"],[\"Scrypt\"],[\"X13\"],[\"X11\"],[\"X11\"],[\"Scrypt\"],[\"SHA-256\"],[\"X11\"],[\"Scrypt\"],[\"Scrypt\"],[\"Scrypt\"],[\"Scrypt\"],[\"SHA-256D\"],[\"PoS\"],[\"Scrypt\"],[\"X11\"],[\"PoS\"],[\"X13\"],[\"X14\"],[\"PoS\"],[\"SHA-256D\"],[\"DPoS\"],[\"X11\"],[\"X13\"],[\"X11\"],[\"PoS\"],[\"Scrypt\"],[\"Scrypt\"],[\"PoS\"],[\"X11\"],[\"SHA-256\"],[\"Scrypt\"],[\"X11\"],[\"Scrypt\"],[\"Scrypt\"],[\"X11\"],[\"Scrypt\"],[\"Scrypt\"],[\"Scrypt\"],[\"Scrypt\"],[\"Quark\"],[\"QuBit\"],[\"Scrypt\"],[\"SHA-256\"],[\"X11\"],[\"Scrypt\"],[\"Scrypt\"],[\"Scrypt\"],[\"Scrypt\"],[\"X13\"],[\"Scrypt\"],[\"Scrypt\"],[\"X11\"],[\"Blake2S\"],[\"X11\"],[\"PoS\"],[\"X11\"],[\"PoS\"],[\"X11\"],[\"Scrypt\"],[\"Scrypt\"],[\"Scrypt\"],[\"SHA-256\"],[\"X11\"],[\"Scrypt\"],[\"PoS\"],[\"Scrypt\"],[\"X15\"],[\"SHA-256\"],[\"POS 3.0\"],[\"536\"],[\"NIST5\"],[\"NIST5\"],[\"Skein\"],[\"X13\"],[\"Scrypt\"],[\"X13\"],[\"SkunkHash v2 Raptor\"],[\"Skein\"],[\"X11\"],[\"Scrypt\"],[\"VeChainThor Authority\"],[\"PoS\"],[\"Scrypt\"],[\"Scrypt\"],[\"SHA-512\"],[\"Ouroboros\"],[\"X11\"],[\"NeoScrypt\"],[\"Scrypt\"],[\"Lyra2REv2\"],[\"Scrypt\"],[\"SHA-256\"],[\"NIST5\"],[\"PHI1612\"],[\"Scrypt\"],[\"Quark\"],[\"POS 2.0\"],[\"Scrypt\"],[\"SHA-256\"],[\"X11\"],[\"DPoS\"],[\"NIST5\"],[\"X13\"],[\"Scrypt\"],[\"NIST5\"],[\"Quark\"],[\"Scrypt\"],[\"Scrypt\"],[\"X11\"],[\"Quark\"],[\"Scrypt\"],[\"Scrypt\"],[\"X11\"],[\"POS 3.0\"],[\"Ethash\"],[\"Scrypt\"],[\"Scrypt\"],[\"X13\"],[\"C11\"],[\"X11\"],[\"XEVAN\"],[\"Scrypt\"],[\"VBFT\"],[\"NIST5\"],[\"Scrypt\"],[\"Scrypt\"],[\"Scrypt\"],[\"Green Protocol\"],[\"PoS\"],[\"Scrypt\"],[\"Semux BFT consensus\"],[\"Quark\"],[\"PoS\"],[\"X16R\"],[\"Scrypt\"],[\"XEVAN\"],[\"Scrypt\"],[\"Scrypt\"],[\"Scrypt\"],[\"SHA-256D\"],[\"Scrypt\"],[\"X15\"],[\"Scrypt\"],[\"Quark\"],[\"SHA-256\"],[\"DPoS\"],[\"X16R\"],[\"Quark\"],[\"Quark\"],[\"Scrypt\"],[\"Lyra2REv2\"],[\"Quark\"],[\"Scrypt\"],[\"X11\"],[\"X11\"],[\"Scrypt\"],[\"PoS\"],[\"Keccak\"],[\"X11\"],[\"Scrypt\"],[\"SHA-512\"],[\"XEVAN\"],[\"XEVAN\"],[\"X11\"],[\"Quark\"],[\"Equihash\"],[\"Scrypt\"],[\"Quark\"],[\"Quark\"],[\"Scrypt\"],[\"X11\"],[\"Scrypt\"],[\"XEVAN\"],[\"SHA-256D\"],[\"X11\"],[\"X11\"],[\"DPoS\"],[\"Scrypt\"],[\"X11\"],[\"Scrypt\"],[\"Scrypt\"],[\"SHA-256\"],[\"Scrypt\"],[\"X11\"],[\"Scrypt\"],[\"SHA-256\"],[\"X11\"],[\"Scrypt\"],[\"Scrypt\"],[\"X11\"],[\"Scrypt\"],[\"PoS\"],[\"X11\"],[\"SHA-256\"],[\"DPoS\"],[\"Scrypt\"],[\"Scrypt\"],[\"NeoScrypt\"],[\"X13\"],[\"DPoS\"],[\"DPoS\"],[\"SHA-256\"],[\"PoS\"],[\"PoS\"],[\"SHA-256\"],[\"Scrypt\"],[\"Scrypt\"]],\"hovertemplate\":\"<b>%{hovertext}</b><br><br>class=%{marker.color}<br>PC 1=%{x}<br>PC 2=%{y}<br>PC 3=%{z}<br>Algorithm=%{customdata[0]}<extra></extra>\",\"hovertext\":[\"42 Coin\",\"404Coin\",\"EliteCoin\",\"Dash\",\"Bitshares\",\"BitcoinDark\",\"PayCoin\",\"KoboCoin\",\"Aurora Coin\",\"BlueCoin\",\"EnergyCoin\",\"BitBar\",\"CryptoBullion\",\"CasinoCoin\",\"Diamond\",\"Exclusive Coin\",\"FlutterCoin\",\"HoboNickels\",\"HyperStake\",\"IOCoin\",\"MaxCoin\",\"MintCoin\",\"MazaCoin\",\"Nautilus Coin\",\"NavCoin\",\"OpalCoin\",\"Orbitcoin\",\"PotCoin\",\"PhoenixCoin\",\"Reddcoin\",\"SuperCoin\",\"SyncCoin\",\"TeslaCoin\",\"TittieCoin\",\"TorCoin\",\"UnitaryStatus Dollar\",\"UltraCoin\",\"VeriCoin\",\"X11 Coin\",\"Crypti\",\"StealthCoin\",\"ZCC Coin\",\"BurstCoin\",\"StorjCoin\",\"Neutron\",\"FairCoin\",\"RubyCoin\",\"Kore\",\"Dnotes\",\"8BIT Coin\",\"Sativa Coin\",\"Ucoin\",\"Vtorrent\",\"IslaCoin\",\"Nexus\",\"Droidz\",\"Squall Coin\",\"Diggits\",\"Paycon\",\"Emercoin\",\"EverGreenCoin\",\"Decred\",\"EDRCoin\",\"Hitcoin\",\"DubaiCoin\",\"PWR Coin\",\"BillaryCoin\",\"GPU Coin\",\"EuropeCoin\",\"ZeitCoin\",\"SwingCoin\",\"SafeExchangeCoin\",\"Nebuchadnezzar\",\"Ratecoin\",\"Revenu\",\"Clockcoin\",\"VIP Tokens\",\"BitSend\",\"Let it Ride\",\"PutinCoin\",\"iBankCoin\",\"Frankywillcoin\",\"MudraCoin\",\"Lutetium Coin\",\"GoldBlocks\",\"CarterCoin\",\"BitTokens\",\"MustangCoin\",\"ZoneCoin\",\"RootCoin\",\"BitCurrency\",\"Swiscoin\",\"BuzzCoin\",\"Opair\",\"PesoBit\",\"Halloween Coin\",\"CoffeeCoin\",\"RoyalCoin\",\"GanjaCoin V2\",\"TeamUP\",\"LanaCoin\",\"ARK\",\"InsaneCoin\",\"EmberCoin\",\"XenixCoin\",\"FreeCoin\",\"PLNCoin\",\"AquariusCoin\",\"Creatio\",\"Eternity\",\"Eurocoin\",\"BitcoinFast\",\"Stakenet\",\"BitConnect Coin\",\"MoneyCoin\",\"Enigma\",\"Russiacoin\",\"PandaCoin\",\"GameUnits\",\"GAKHcoin\",\"Allsafe\",\"LiteCreed\",\"Klingon Empire Darsek\",\"Internet of People\",\"KushCoin\",\"Printerium\",\"Impeach\",\"Zilbercoin\",\"FirstCoin\",\"FindCoin\",\"OpenChat\",\"RenosCoin\",\"VirtacoinPlus\",\"TajCoin\",\"Impact\",\"Atmos\",\"HappyCoin\",\"MacronCoin\",\"Condensate\",\"Independent Money System\",\"ArgusCoin\",\"LomoCoin\",\"ProCurrency\",\"GoldReserve\",\"GrowthCoin\",\"Phreak\",\"Degas Coin\",\"HTML5 Coin\",\"Ultimate Secure Cash\",\"QTUM\",\"Espers\",\"Denarius\",\"Virta Unique Coin\",\"Bitcoin Planet\",\"BritCoin\",\"Linda\",\"DeepOnion\",\"Signatum\",\"Cream\",\"Monoeci\",\"Draftcoin\",\"Vechain\",\"Stakecoin\",\"CoinonatX\",\"Ethereum Dark\",\"Obsidian\",\"Cardano\",\"Regalcoin\",\"TrezarCoin\",\"TerraNovaCoin\",\"Rupee\",\"WomenCoin\",\"Theresa May Coin\",\"NamoCoin\",\"LUXCoin\",\"Xios\",\"Bitcloud 2.0\",\"KekCoin\",\"BlackholeCoin\",\"Infinity Economics\",\"Magnet\",\"Lamden Tau\",\"Electra\",\"Bitcoin Diamond\",\"Cash & Back Coin\",\"Bulwark\",\"Kalkulus\",\"GermanCoin\",\"LiteCoin Ultra\",\"PhantomX\",\"Digiwage\",\"Trollcoin\",\"Litecoin Plus\",\"Monkey Project\",\"TokenPay\",\"1717 Masonic Commemorative Token\",\"My Big Coin\",\"Unified Society USDEX\",\"Tokyo Coin\",\"Stipend\",\"Pushi\",\"Ellerium\",\"Velox\",\"Ontology\",\"Bitspace\",\"Briacoin\",\"Ignition\",\"MedicCoin\",\"Bitcoin Green\",\"Deviant Coin\",\"Abjcoin\",\"Semux\",\"Carebit\",\"Zealium\",\"Proton\",\"iDealCash\",\"Bitcoin Incognito\",\"HollyWoodCoin\",\"Swisscoin\",\"Xt3ch\",\"TheVig\",\"EmaratCoin\",\"Dekado\",\"Lynx\",\"Poseidon Quark\",\"BitcoinWSpectrum\",\"Muse\",\"Trivechain\",\"Dystem\",\"Giant\",\"Peony Coin\",\"Absolute Coin\",\"Vitae\",\"TPCash\",\"ARENON\",\"EUNO\",\"MMOCoin\",\"Ketan\",\"XDNA\",\"PAXEX\",\"ThunderStake\",\"Kcash\",\"Bettex coin\",\"BitMoney\",\"Junson Ming Chan Coin\",\"HerbCoin\",\"PirateCash\",\"Oduwa\",\"Galilel\",\"Crypto Sports\",\"Credit\",\"Dash Platinum\",\"Nasdacoin\",\"Beetle Coin\",\"Titan Coin\",\"Award\",\"Insane Coin\",\"ALAX\",\"LiteDoge\",\"TruckCoin\",\"OrangeCoin\",\"BitstarCoin\",\"NeosCoin\",\"HyperCoin\",\"PinkCoin\",\"AudioCoin\",\"IncaKoin\",\"Piggy Coin\",\"Genstake\",\"XiaoMiCoin\",\"CapriCoin\",\" ClubCoin\",\"Radium\",\"Creditbit \",\"OKCash\",\"Lisk\",\"HiCoin\",\"WhiteCoin\",\"FriendshipCoin\",\"Triangles Coin\",\"EOS\",\"Oxycoin\",\"TigerCash\",\"Particl\",\"Nxt\",\"ZEPHYR\",\"Gapcoin\",\"BitcoinPlus\"],\"legendgroup\":\"0\",\"marker\":{\"color\":[0,0,0,0,0,0,0,0,0,0,0,0,0,0,0,0,0,0,0,0,0,0,0,0,0,0,0,0,0,0,0,0,0,0,0,0,0,0,0,0,0,0,0,0,0,0,0,0,0,0,0,0,0,0,0,0,0,0,0,0,0,0,0,0,0,0,0,0,0,0,0,0,0,0,0,0,0,0,0,0,0,0,0,0,0,0,0,0,0,0,0,0,0,0,0,0,0,0,0,0,0,0,0,0,0,0,0,0,0,0,0,0,0,0,0,0,0,0,0,0,0,0,0,0,0,0,0,0,0,0,0,0,0,0,0,0,0,0,0,0,0,0,0,0,0,0,0,0,0,0,0,0,0,0,0,0,0,0,0,0,0,0,0,0,0,0,0,0,0,0,0,0,0,0,0,0,0,0,0,0,0,0,0,0,0,0,0,0,0,0,0,0,0,0,0,0,0,0,0,0,0,0,0,0,0,0,0,0,0,0,0,0,0,0,0,0,0,0,0,0,0,0,0,0,0,0,0,0,0,0,0,0,0,0,0,0,0,0,0,0,0,0,0,0,0,0,0,0,0,0,0,0,0,0,0,0,0,0,0,0,0,0,0,0,0,0,0,0,0,0,0,0,0,0,0,0,0,0,0,0,0,0,0,0,0,0,0,0],\"coloraxis\":\"coloraxis\",\"symbol\":\"circle\"},\"mode\":\"markers\",\"name\":\"0\",\"scene\":\"scene\",\"showlegend\":true,\"type\":\"scatter3d\",\"x\":[-0.3302889407391344,-0.3136330264601115,2.301228113392869,-0.3925680946314716,-0.2690686351162147,-0.3122154069423135,-0.2666104608297622,-0.23811847635781985,-0.32994869968251916,-0.3225268809850513,-0.3287856601721659,-0.3302848817202157,-0.33026916876073525,0.6531206228414342,-0.36669667825759866,-0.358011373952559,-0.2677773709226826,-0.32834896842719513,-0.32678868127570293,-0.3924628011268242,-0.43486511166965797,-0.024630242932636277,-0.2755465114357876,-0.28443533438333624,-0.2796864817315092,-0.28030862928595657,-0.35396792311031106,-0.32459546840456976,-0.3286917067671986,0.02781721065558853,-0.3466733262531114,-0.3928341421873173,-0.24694106622197298,-0.3060998304639704,-0.39274587883804546,-0.3055375866359531,-0.3289673507667879,-0.27458772767239625,-0.39271031866324435,-0.24740787608228207,-0.2800895143249317,-0.32140176344640164,-0.03949079999079359,-0.3426914233146979,-0.31142760548002096,-0.36611825959726907,-0.2844154529355219,-0.28038411453095247,-0.27907442918280567,-0.3302710110455805,-0.2803362870444172,-0.3471183034318534,-0.33000559545787644,-0.39281567289813385,-0.4647359417076733,-0.43177566030001174,-0.3724173152226838,-0.2828180310985008,-0.2798583247271474,-0.3047815041029003,-0.24055682345833174,-0.08743382768772943,-0.31218632376579125,-0.07055003701136643,-0.31224991035597294,-0.2352550593474801,-0.32988168228588627,-0.2826881582475348,-0.389988545669436,0.867736940941154,-0.3120502535086952,-0.07724201462325254,-0.35769485560835784,-0.3906595447546229,-0.3107955357345866,-0.30846667018292884,-0.3566025074025305,-0.39155221809021484,-0.3427962973931289,-0.3061977729031913,-0.32991979682029204,-0.32835944586252774,-0.23347540141735743,-0.3346159622168749,-0.39229007247339986,-0.3291245052078759,-0.3122309570107379,-0.39280489206417585,-0.33010873405763963,-0.3302652447135849,-0.28267578423844236,-0.22839268602462345,0.030861830284182552,-0.3566525149683556,-0.3298794397625471,-0.378981876228808,-0.35598092009818644,-0.23490411825770513,-0.4007857915227208,-0.35573219190389777,-0.2835225834270786,3.7730972732917594,-0.3923977140383739,0.8517109291856807,-0.39275981387045955,-0.35711600690226086,-0.32980734262035416,-0.32996168403241644,-0.35769485560835784,-0.39233525786155443,-0.31209363470981416,-0.32980802940329174,-0.34360820133432346,-0.32995536125574587,-0.3255493384372087,-0.39278881500937934,-0.3291671683716954,0.3584849649258564,-0.33015448498481015,-0.3302249635437733,-0.35078033739190406,-0.34505126392127716,-0.32645649401491394,-0.3122073730407996,-0.39269881393808054,-0.3300029446074523,-0.33012990226233624,-0.2843224587379962,-0.2754390553615365,-0.23467210165955427,-0.3109939846796142,-0.2840634330730127,-0.3919654338506442,-0.4282022578331751,-0.3907040178463542,-0.35594238136654377,-0.39186332917804745,-0.3503454087845942,-0.38780825464992513,-0.33007318803568864,-0.3300724434555878,-0.3232034397129939,0.2653372939753444,-0.39234122978678654,-0.2669834928470427,-0.3577292349032392,-0.32928469585044245,0.8929099970331456,-0.26530266117966517,-0.34157535763875246,0.5697050458824323,-0.35813729678786027,-0.3566406463497875,-0.4114979610818728,-0.2800215892710514,0.1341696832989071,-0.2800922563786862,-0.33010294330754086,-0.4110028955869983,-0.3926133173105879,-0.28439632094172923,4.347200124823224,-0.3575958020684807,-0.3297086595629815,-0.3302079027306645,-0.32709594563785205,0.6787435841450589,-0.39255430567660243,-0.3489711655967211,-0.33016362436637936,-0.31480800683698695,0.43865563956167025,-0.31055450605118373,-0.3429161784155476,-0.387215259341687,-0.33011401462556444,-0.3947653858946702,-0.33208152613360836,-0.3299843718202223,-0.09319087131524317,-0.39134811356585825,3.777949485132205,0.20103437839863625,-0.27676512864521496,-0.3274466225608211,-0.31235959665525564,-0.35066629672396166,0.08367750126214038,-0.32912418470333543,-0.3919283654916298,-0.3498320005738204,-0.3166978113967509,-0.33023003026446407,-0.3470902445415975,-0.3430781107684885,-0.2753858955617541,-0.248004229664984,-0.32577774281725086,-0.22647561181384596,-0.36823266575721736,-0.39263069756493924,-0.32880982795216046,-0.2835573298210337,-0.29931964147602524,-0.3577366504002142,-0.33025737342552347,-0.33023910390890643,-0.277942638202691,-0.3399012393990328,-0.35719053324802896,-0.3299558638305003,3.966722079545921,-0.3934335469504609,-0.3573791127592841,-0.32351710703004416,-0.2768760560290742,-0.3085450086851379,-0.2840906370776597,-0.13348038147650138,-0.2843428287026011,-0.34876577832837635,-0.3294304243583571,-0.19435978199300755,2.247857431382428,-0.3463802219753166,-0.26542949345007816,1.047195859284783,-0.3683954730683642,-0.3507798261337628,-0.3964476477224527,-0.1652346263665556,-0.36027796694604936,-0.34950018411949024,-0.32314353700557374,-0.34666799429828815,-0.3921043073194303,-0.28159048803344816,-0.3564801458322757,-0.33412047002347434,-0.34652978277422747,-0.18991191290708026,-0.31697509538360025,-0.28326141683909867,0.4758953997959029,-0.13706384453933773,-0.3957427780782687,-0.26447250408050993,-0.3299597581914885,-0.3961985428499508,-0.3508967238479391,0.5758031305889802,-0.3471445426346436,-0.32944328504296205,-0.32326987485392195,-0.3035332144269768,-0.3896724512976508,-0.39233134508599526,3.79018555655098,0.10461867777032903,-0.38987098442482615,-0.32882985446048435,-0.3296534871840592,-0.26664316184055387,-0.33017129102102044,-0.383964161507449,-0.24397510415853516,-0.09189797474449257,-0.37971734168781757,-0.32944981686980424,-0.32251823062339247,-0.3889018710906165,-0.3278904389633945,-0.3579703615318738,-0.38814700371264166,-0.31073135124831563,3.773488740886046,-0.0917324182687469,-0.32508673353391293,-0.353594313924934,-0.2804912035997056,3.7833571254079508,3.784601130965788,-0.24755052615231654,-0.35790623151643697,-0.401299218055826,2.4957894406700567,-0.32833670190354597,-0.28473887980495144],\"y\":[0.9028576705533315,0.9034504155999415,1.775212016663602,1.2570378738107635,1.3712281728698184,0.8124131213700513,0.6221358408126102,1.7432664003156448,0.9028663016084798,0.9032799998505363,0.9029394632218255,0.9028575967899447,0.9028581570861025,0.6544828375404254,0.8782587885774221,1.6568059718870793,0.02600102860447459,0.9028925104770551,1.0678656405096996,1.257043602770681,2.4580835237815064,0.7267241691732418,0.8129956472589844,0.7125787869240058,1.819911842724057,1.8198779920281918,0.6011128873927822,0.9029199540483205,0.9028868263089816,0.9223420233361507,1.0667837282451387,1.2570363617555207,0.1388064543614998,1.6235427752075344,1.257035271962348,0.9032615391263383,0.9028706501269198,0.1027657643584346,1.2570398585048748,0.13883998291415967,1.8198899139490483,0.9027519427320386,1.680086673464835,1.540808025541901,0.8124288785913623,0.8782928410296125,0.7125894031176758,1.8198668136292753,0.7125853681302092,0.9028586461225537,1.8198705944439653,1.0667477318064893,0.902861301751746,1.2570373672483526,3.3698705300470952,1.970392285404937,1.0312481083207419,0.7126173905219493,1.8198730291377399,0.8122412857153446,1.7433244804449108,0.9885779325554342,0.8124147037692045,1.2589264298186786,0.812418020711318,1.479011326038001,0.9028550797664363,0.712553123646229,1.2569649083742795,0.7169392234510414,0.8124115003405109,0.637049728830905,1.6568114079882927,1.2571104853992974,0.8123720937088448,0.8123206831272505,1.4723558454857617,1.2570242020049123,1.5550061752123927,0.902989909115198,0.9028516310034543,0.9029037258882597,1.6295440886555945,1.067052609488529,1.2570365011632954,0.9028679921841013,0.8124128645737667,1.2570361860050403,0.9028551007648554,0.90285895986541,0.7126840575056109,-0.0033768013480469502,1.947278941397911,1.6568363003490065,0.9028799512941597,1.2569061450962404,1.6568928768256934,1.6295827345488163,1.927378322322546,1.6567526093787537,1.9375358545424015,0.8010217937800241,1.2570424299292697,1.8809696516801084,1.2570381358406237,1.656825224594572,0.9028611634339863,0.902850726916745,1.6568114079882927,1.257028149910671,0.8124209254764652,0.9028643906451743,0.7450725111071677,0.902859320773207,0.9027321326488708,1.2570358822002285,0.9028338501027218,0.7284090512782524,0.9028573256758449,0.902859197632367,1.4118968552885502,0.5102377989021017,0.9027715547694142,0.812414147764206,1.2570382134079687,0.9028614459830155,0.902853399025846,0.712562052802324,0.09563947068835657,1.6295882725796578,0.903318224076634,0.712588269718574,1.2570247008604774,1.934668657012362,1.257087441049163,1.6568535535401299,1.257030256317851,1.6569873630570862,1.2570151809744405,0.9028569098063488,0.9028525968325884,0.9026539145473859,0.6068906231597128,1.2570396104641273,0.7123593179350297,1.6568036446890795,0.902850437190127,1.7519765931860356,0.6220964589349014,1.555033419123129,1.8579361900365543,1.4723194803951674,1.4723360921434698,1.8225456739071915,1.8198759314889514,0.8986648947940364,1.8198786285424602,1.5247380462385605,1.8225726101402135,1.2570427749123851,0.7125801872372906,6.13803323591056,1.65679228365224,0.9028608096929007,0.9028596048588751,1.37013880968349,1.4789595054097147,1.2570356776893525,0.6011512700504137,0.9028552177248577,0.7143393777710196,0.9299636562758798,0.8124575266644611,1.4724464166098297,1.8132135226683908,0.902854813452147,1.6021588559477986,1.4838782016507297,0.9028655276519546,0.6262754011919818,1.2570323608457852,0.8010648220791936,1.4850713633147372,1.8199470443234511,0.9028885719329284,1.2820355615301373,1.4119001138060352,0.8959176437834154,0.9028326531750019,1.2570561814351935,1.4118865799741502,0.9030668095099396,0.9028585187671256,1.0667486692006807,1.5549958507364152,-0.09038324738776705,-0.06377051387666526,0.9029664107032436,1.6295713787654278,0.878926906099498,1.257032699798251,1.6240844488410797,0.7125630231183903,1.202638835894644,1.4723177083730252,0.9028576203153542,0.9028574358011475,0.7126469482360496,1.2838818943219346,1.6567987772415376,0.9028581148801472,0.7802456286089995,1.6022313205499978,1.6567932309302087,0.6071034469824984,0.9027456020365432,1.3983109058552645,0.712591755037148,0.9075553166689068,0.712567426499481,1.9383501734596624,0.9028548829412455,1.5530362794154884,0.1377149092159275,1.4117620740046966,0.6221483805818208,1.0890524247651554,0.7974037332355315,1.411893347461059,1.6021821445092996,0.7091270171015724,0.9046128066320164,1.4119164194019131,0.9026571738197493,1.0667516082768402,1.2570466085400502,0.7125898965842811,1.6567655375748591,0.77455169044789,1.0667326109518611,0.8998885708394775,1.2517533079160543,1.4338043868834178,1.8083000075920153,1.078188461359159,1.6021917106153998,-0.0276673830446109,0.9028632064573079,1.6021875160935917,1.4118914832842597,0.9080799220576871,1.066746480928573,0.9028541831986847,1.6241265939341396,1.9379238084099357,1.256960893021375,1.2570460410263564,0.8014359427278012,0.9058961532223848,1.2571975860794258,0.9028192038104094,0.9028602735187942,0.6221290527390727,0.9028640718325783,1.257224335903869,0.9013665791874608,0.8243014699484993,1.2571607659004902,0.9028944877203933,0.9030447608613439,1.257127745968499,0.9028938878402842,1.6568028998825126,1.157069510222689,0.8124449582468731,0.8010225168003373,0.7171752299673153,0.9029639374861743,0.6010999812892208,1.8198679875503503,0.8016536857851633,0.801721371422585,0.6225909728575217,1.6568066047521413,2.298056509256924,0.33498289364779216,0.902816572255253,0.7125712163708707],\"z\":[-0.6132484680257865,-0.6136525567994673,-0.7947660089460835,-0.6049036871215534,-0.2310724792337976,-0.45979015683752855,-0.08619195965859501,-0.7256441824865411,-0.6132558055969248,-0.6134753102387533,-0.6132924006341548,-0.6132485089560163,-0.613248890460152,-0.31489102797507573,-0.5229174335236828,-0.11818092997535753,-0.2539416261060956,-0.6132865149591317,-0.2318970208534075,-0.6049067642701034,-0.8636881282798932,-0.24724873179194537,-0.46048926623865966,-0.23965354719906695,-0.7681598458711016,-0.7681416639286197,-0.4068430838734921,-0.6133495896509124,-0.613279917364567,-0.6237139362326602,-0.23131590232507176,-0.6048993306203364,0.18549622973632357,-0.24758103670423687,-0.6049003562461809,-0.6137231767425703,-0.6132715510142527,-0.17610484432942883,-0.6049020947652659,0.18549433220887376,-0.7681480674507262,-0.6133527931638122,-0.2620983570167199,-0.1761569371606067,-0.45980603161971034,-0.5229350181551999,-0.23965664256471653,-0.768137593134456,-0.23973503221015366,-0.6132489920183811,-0.7681393016642788,-0.23129979013461718,-0.6132536406913689,-0.6048998705312172,-0.8337280779616714,-0.848108342424202,-0.18994090651939458,-0.2396877865911275,-0.7681470539450515,-0.45985542952740016,-0.7256232257076323,-0.5340269491890958,-0.459791006778413,-0.610192099683962,-0.4597909355706515,-0.6963165366658024,-0.6132538432328797,-0.2396727707146716,-0.60492281901751,-0.25794329643434594,-0.4597921861967136,-0.2994287627985015,-0.11818707210013589,-0.6049512274136657,-0.45980045956880455,-0.45982154651988455,-0.6927562340464538,-0.6049151940186583,-0.06903935914010652,-0.613641723915591,-0.6132523667597894,-0.6132893167226036,-0.3945468067597711,-0.23156617606805555,-0.6049074610306266,-0.6132685122370589,-0.4597898577928285,-0.6048997194013784,-0.6132504711207495,-0.6132491605364696,-0.23970748348816226,-0.2559514861060287,-0.9061551827318319,-0.11820914247449425,-0.6132604354878518,-0.6050710590430035,-0.11823405303913927,-0.3945357443414262,-0.8133859108133678,-0.11820076308412278,-0.8989090031614508,0.011104748111025,-0.6049074232223541,-0.8010922652947288,-0.6049009041830955,-0.11819932671433096,-0.6132565534486688,-0.6132515052229598,-0.11818707210013589,-0.6049045865303174,-0.45979402636454303,-0.6132573942830244,-0.2544041766323469,-0.6132538655756512,-0.6132858691997174,-0.6048998784489273,-0.6132588739329656,-0.2533923219134267,-0.6132503772578733,-0.6132498224657849,-0.2219824598056591,-0.3861958041517214,-0.6132827702895229,-0.4597905470222272,-0.6049018320808349,-0.6132537181611102,-0.6132497074527141,-0.23965081337922123,-0.2906762551663957,-0.39454065628796253,-0.6136569551484528,-0.2396615803650203,-0.604909178524672,-0.8608790853238995,-0.6049444887784358,-0.1182242563638451,-0.6049121624812446,-0.11834280464425322,-0.6049685107272654,-0.6132514769717787,-0.6132503506697099,-0.613300140101021,-0.09008494758555916,-0.6049075199650057,-0.23985528652455845,-0.11818451340234748,-0.6132614997770213,-0.7447664724680148,-0.08620102921098977,-0.06906470650607055,-0.912389259084342,-0.6927238124601159,-0.6927504575136244,-0.9254175877901174,-0.7681453905838107,-0.619052129744569,-0.7681450505739835,-0.08858666716391958,-0.9254320558247305,-0.6049043068578105,-0.2396544968457343,4.020958264178922,-0.11818350233520446,-0.6132579281843688,-0.6132501836546074,-0.22992198090538724,-0.11824318283748113,-0.604903313106388,-0.4069275381713917,-0.6132496854095083,-0.04551987419109415,-0.6318355267209448,-0.459826574763913,-0.6929837181331276,-0.6204910262059862,-0.6132503167988664,-0.5956007253006315,-0.08023831105080327,-0.6132550708330529,-0.08986341798645979,-0.6049203818781856,0.011021218985380818,-0.7044049295217122,-0.7682125873215098,-0.6132988997281511,-0.31912643459630563,-0.2219850155952773,-0.6175765216785964,-0.6132591977202388,-0.6049180317312439,-0.22199385766575225,-0.6135058035501995,-0.6132495680684175,-0.23130045474320565,-0.0690324441725523,0.18614774774279316,-0.12890428984190408,-0.6133442531235708,-0.39465813317888904,-0.5385411053973597,-0.604901391388832,-0.5029610337120083,-0.2396624514126166,0.004713706033165237,-0.692729305222587,-0.6132489243766471,-0.6132491474977658,-0.23976810821978292,-0.0063231752070347725,-0.11819124359403042,-0.6132535400920494,0.04942436845001244,-0.5956396476091822,-0.1181869756392012,-0.05415146636737367,-0.6140134908666358,-0.08800422763304973,-0.2396620947917266,-0.6174150368349139,-0.23965192745609964,-0.8981531823345682,-0.6132605042954751,-0.35203095676248924,-0.34548277093811436,-0.2220123731509689,-0.08621283474711768,-0.042647073495462484,-0.42776653909395657,-0.22198154235857692,-0.5955818412193776,-0.24051652176307736,-0.41911906370351704,-0.2220066627922025,-0.6133018907268539,-0.2313075112555937,-0.6049128899217644,-0.23969879721715273,-0.1181930457381874,-0.4962230515496013,-0.2313045575037903,-0.6145537494938064,-0.4150461959278588,-0.1293612620258038,-0.04293230013525079,-0.2374416316844394,-0.5955948496327401,0.05142352706115439,-0.6132548248638612,-0.5955869634793693,-0.2219793117701391,-0.628104768427168,-0.2312990699268202,-0.6132601284485782,-0.5030545608487148,-0.8987136302863913,-0.6049264623830062,-0.604909362820872,0.010741325116103496,-0.6205194876479395,-0.6049859275382177,-0.6132600294674607,-0.6132586075403584,-0.08618968310488175,-0.6132519062848407,-0.6050808523734086,-0.6141392659441594,-0.46620271367215765,-0.6051272644713458,-0.6132706600252068,-0.6134134038184567,-0.6049819265814768,-0.6132936993247505,-0.11818072995976009,-0.28725656419555123,-0.4598206295636455,0.011098733923306549,-0.24373235160244683,-0.613353880446829,-0.40684523824775887,-0.7681363096403809,0.010785484449626319,0.010749129026643926,-0.086595520871368,-0.11818266098043047,-0.23102646896716242,-0.0332145488300207,-0.6132666716946126,-0.2396470351826489]},{\"customdata\":[[\"SHA-256\"],[\"Ethash\"],[\"Scrypt\"],[\"CryptoNight-V7\"],[\"Ethash\"],[\"Equihash\"],[\"Multiple\"],[\"Scrypt\"],[\"X11\"],[\"Scrypt\"],[\"Multiple\"],[\"Scrypt\"],[\"SHA-256\"],[\"Scrypt\"],[\"Scrypt\"],[\"Quark\"],[\"Groestl\"],[\"Scrypt\"],[\"Scrypt\"],[\"Scrypt\"],[\"X11\"],[\"Multiple\"],[\"SHA-256\"],[\"Scrypt\"],[\"Scrypt\"],[\"Scrypt\"],[\"Scrypt\"],[\"Scrypt\"],[\"NeoScrypt\"],[\"Scrypt\"],[\"Scrypt\"],[\"Scrypt\"],[\"Scrypt\"],[\"SHA-256\"],[\"Scrypt\"],[\"Scrypt\"],[\"Scrypt\"],[\"Scrypt\"],[\"HybridScryptHash256\"],[\"Scrypt\"],[\"Scrypt\"],[\"SHA-256\"],[\"Scrypt\"],[\"Scrypt\"],[\"Scrypt\"],[\"Scrypt\"],[\"SHA-256\"],[\"SHA-256\"],[\"SHA-256\"],[\"SHA-256\"],[\"SHA-256\"],[\"X11\"],[\"Scrypt\"],[\"Lyra2REv2\"],[\"Scrypt\"],[\"SHA-256\"],[\"CryptoNight\"],[\"CryptoNight\"],[\"Scrypt\"],[\"Scrypt\"],[\"Scrypt\"],[\"Scrypt\"],[\"Scrypt\"],[\"Scrypt\"],[\"Stanford Folding\"],[\"Multiple\"],[\"QuBit\"],[\"Scrypt\"],[\"Scrypt\"],[\"M7 POW\"],[\"Scrypt\"],[\"SHA-256\"],[\"Scrypt\"],[\"X11\"],[\"Lyra2RE\"],[\"SHA-256\"],[\"X11\"],[\"Scrypt\"],[\"Scrypt\"],[\"Ethash\"],[\"Blake2b\"],[\"X11\"],[\"SHA-256\"],[\"Scrypt\"],[\"1GB AES Pattern Search\"],[\"Scrypt\"],[\"SHA-256\"],[\"X11\"],[\"Dagger\"],[\"Scrypt\"],[\"X11GOST\"],[\"Scrypt\"],[\"X11\"],[\"Scrypt\"],[\"X11\"],[\"Equihash\"],[\"CryptoNight\"],[\"SHA-256\"],[\"Multiple\"],[\"Scrypt\"],[\"SHA-256\"],[\"Scrypt\"],[\"Lyra2Z\"],[\"Ethash\"],[\"Equihash\"],[\"Scrypt\"],[\"X11\"],[\"X11\"],[\"CryptoNight\"],[\"Scrypt\"],[\"CryptoNight\"],[\"Lyra2RE\"],[\"X11\"],[\"CryptoNight-V7\"],[\"Scrypt\"],[\"X11\"],[\"Equihash\"],[\"Scrypt\"],[\"Lyra2RE\"],[\"Dagger-Hashimoto\"],[\"Scrypt\"],[\"NIST5\"],[\"Scrypt\"],[\"SHA-256\"],[\"Scrypt\"],[\"CryptoNight-V7\"],[\"Argon2d\"],[\"Blake2b\"],[\"Cloverhash\"],[\"CryptoNight\"],[\"X11\"],[\"Scrypt\"],[\"Scrypt\"],[\"X11\"],[\"X11\"],[\"CryptoNight\"],[\"Time Travel\"],[\"Scrypt\"],[\"Keccak\"],[\"X11\"],[\"SHA-256\"],[\"Scrypt\"],[\"Scrypt\"],[\"Scrypt\"],[\"Scrypt\"],[\"Scrypt\"],[\"Scrypt\"],[\"CryptoNight\"],[\"Equihash\"],[\"X11\"],[\"NeoScrypt\"],[\"Equihash\"],[\"Dagger\"],[\"Scrypt\"],[\"X11\"],[\"NeoScrypt\"],[\"Ethash\"],[\"NeoScrypt\"],[\"Multiple\"],[\"CryptoNight\"],[\"CryptoNight\"],[\"Ethash\"],[\"X11\"],[\"CryptoNight-V7\"],[\"Scrypt\"],[\"BLAKE256\"],[\"X11\"],[\"NeoScrypt\"],[\"NeoScrypt\"],[\"Scrypt\"],[\"X11\"],[\"SHA-256\"],[\"C11\"],[\"CryptoNight\"],[\"SkunkHash\"],[\"CryptoNight\"],[\"Scrypt\"],[\"Dagger\"],[\"Lyra2REv2\"],[\"Scrypt\"],[\"Scrypt\"],[\"X11\"],[\"Ethash\"],[\"CryptoNight\"],[\"Scrypt\"],[\"IMesh\"],[\"Equihash\"],[\"Lyra2Z\"],[\"X11\"],[\"CryptoNight\"],[\"NIST5\"],[\"Lyra2RE\"],[\"Tribus\"],[\"Lyra2Z\"],[\"CryptoNight\"],[\"CryptoNight Heavy\"],[\"CryptoNight\"],[\"Jump Consistent Hash\"],[\"CryptoNight\"],[\"X16R\"],[\"HMQ1725\"],[\"X11\"],[\"Scrypt\"],[\"CryptoNight-V7\"],[\"Cryptonight-GPU\"],[\"XEVAN\"],[\"CryptoNight Heavy\"],[\"SHA-256\"],[\"X11\"],[\"X16R\"],[\"Equihash\"],[\"Lyra2Z\"],[\"SHA-256\"],[\"CryptoNight\"],[\"Blake\"],[\"Blake\"],[\"Exosis\"],[\"Scrypt\"],[\"Equihash\"],[\"Equihash\"],[\"QuBit\"],[\"SHA-256\"],[\"X13\"],[\"SHA-256\"],[\"Scrypt\"],[\"NeoScrypt\"],[\"Blake\"],[\"Scrypt\"],[\"SHA-256\"],[\"Scrypt\"],[\"Groestl\"],[\"Scrypt\"],[\"Scrypt\"],[\"Multiple\"],[\"Equihash+Scrypt\"],[\"Ethash\"],[\"CryptoNight\"],[\"Equihash\"]],\"hovertemplate\":\"<b>%{hovertext}</b><br><br>class=%{marker.color}<br>PC 1=%{x}<br>PC 2=%{y}<br>PC 3=%{z}<br>Algorithm=%{customdata[0]}<extra></extra>\",\"hovertext\":[\"Bitcoin\",\"Ethereum\",\"Litecoin\",\"Monero\",\"Ethereum Classic\",\"ZCash\",\"DigiByte\",\"ProsperCoin\",\"Spreadcoin\",\"Argentum\",\"MyriadCoin\",\"MoonCoin\",\"ZetaCoin\",\"SexCoin\",\"Quatloo\",\"QuarkCoin\",\"Riecoin\",\"Digitalcoin \",\"Catcoin\",\"CannaCoin\",\"CryptCoin\",\"Verge\",\"DevCoin\",\"EarthCoin\",\"E-Gulden\",\"Einsteinium\",\"Emerald\",\"Franko\",\"FeatherCoin\",\"GrandCoin\",\"GlobalCoin\",\"GoldCoin\",\"Infinite Coin\",\"IXcoin\",\"KrugerCoin\",\"LuckyCoin\",\"Litebar \",\"MegaCoin\",\"MediterraneanCoin\",\"MinCoin\",\"NobleCoin\",\"Namecoin\",\"NyanCoin\",\"RonPaulCoin\",\"StableCoin\",\"SmartCoin\",\"SysCoin\",\"TigerCoin\",\"TerraCoin\",\"UnbreakableCoin\",\"Unobtanium\",\"UroCoin\",\"ViaCoin\",\"Vertcoin\",\"WorldCoin\",\"JouleCoin\",\"ByteCoin\",\"DigitalNote \",\"MonaCoin\",\"Gulden\",\"PesetaCoin\",\"Wild Beast Coin\",\"Flo\",\"ArtByte\",\"Folding Coin\",\"Unitus\",\"CypherPunkCoin\",\"OmniCron\",\"GreenCoin\",\"Cryptonite\",\"MasterCoin\",\"SoonCoin\",\"1Credit\",\"MarsCoin \",\"Crypto\",\"Anarchists Prime\",\"BowsCoin\",\"Song Coin\",\"BitZeny\",\"Expanse\",\"Siacoin\",\"MindCoin\",\"I0coin\",\"Revolution VR\",\"HOdlcoin\",\"Gamecredits\",\"CarpeDiemCoin\",\"Adzcoin\",\"SoilCoin\",\"YoCoin\",\"SibCoin\",\"Francs\",\"BolivarCoin\",\"Omni\",\"PizzaCoin\",\"Komodo\",\"Karbo\",\"ZayedCoin\",\"Circuits of Value\",\"DopeCoin\",\"DollarCoin\",\"Shilling\",\"ZCoin\",\"Elementrem\",\"ZClassic\",\"KiloCoin\",\"ArtexCoin\",\"Kurrent\",\"Cannabis Industry Coin\",\"OsmiumCoin\",\"Bikercoins\",\"HexxCoin\",\"PacCoin\",\"Citadel\",\"BeaverCoin\",\"VaultCoin\",\"Zero\",\"Canada eCoin\",\"Zoin\",\"DubaiCoin\",\"EB3coin\",\"Coinonat\",\"BenjiRolls\",\"ILCoin\",\"EquiTrader\",\"Quantum Resistant Ledger\",\"Dynamic\",\"Nano\",\"ChanCoin\",\"Dinastycoin\",\"DigitalPrice\",\"Unify\",\"SocialCoin\",\"ArcticCoin\",\"DAS\",\"LeviarCoin\",\"Bitcore\",\"gCn Coin\",\"SmartCash\",\"Onix\",\"Bitcoin Cash\",\"Sojourn Coin\",\"NewYorkCoin\",\"FrazCoin\",\"Kronecoin\",\"AdCoin\",\"Linx\",\"Sumokoin\",\"BitcoinZ\",\"Elements\",\"VIVO Coin\",\"Bitcoin Gold\",\"Pirl\",\"eBoost\",\"Pura\",\"Innova\",\"Ellaism\",\"GoByte\",\"SHIELD\",\"UltraNote\",\"BitCoal\",\"DaxxCoin\",\"AC3\",\"Lethean\",\"PopularCoin\",\"Photon\",\"Sucre\",\"SparksPay\",\"GunCoin\",\"IrishCoin\",\"Pioneer Coin\",\"UnitedBitcoin\",\"Interzone\",\"TurtleCoin\",\"MUNcoin\",\"Niobio Cash\",\"ShareChain\",\"Travelflex\",\"KREDS\",\"BitFlip\",\"LottoCoin\",\"Crypto Improvement Fund\",\"Callisto Network\",\"BitTube\",\"Poseidon\",\"Aidos Kuneen\",\"Bitrolium\",\"Alpenschillling\",\"FuturoCoin\",\"Monero Classic\",\"Jumpcoin\",\"Infinex\",\"KEYCO\",\"GINcoin\",\"PlatinCoin\",\"Loki\",\"Newton Coin\",\"MassGrid\",\"PluraCoin\",\"Motion\",\"PlusOneCoin\",\"Axe\",\"HexCoin\",\"Webchain\",\"Ryo\",\"Urals Coin\",\"Qwertycoin\",\"Project Pai\",\"Azart\",\"Xchange\",\"CrypticCoin\",\"Actinium\",\"Bitcoin SV\",\"FREDEnergy\",\"Universal Molecule\",\"Lithium\",\"Exosis\",\"Block-Logic\",\"Beam\",\"Bithereum\",\"SLICE\",\"BLAST\",\"Bitcoin Rhodium\",\"GlobalToken\",\"SolarCoin\",\"UFO Coin\",\"BlakeCoin\",\"Crypto Escudo\",\"Crown Coin\",\"SmileyCoin\",\"Groestlcoin\",\"Bata\",\"Pakcoin\",\"JoinCoin\",\"Vollar\",\"Reality Clash\",\"Beldex\",\"Horizen\"],\"legendgroup\":\"1\",\"marker\":{\"color\":[1,1,1,1,1,1,1,1,1,1,1,1,1,1,1,1,1,1,1,1,1,1,1,1,1,1,1,1,1,1,1,1,1,1,1,1,1,1,1,1,1,1,1,1,1,1,1,1,1,1,1,1,1,1,1,1,1,1,1,1,1,1,1,1,1,1,1,1,1,1,1,1,1,1,1,1,1,1,1,1,1,1,1,1,1,1,1,1,1,1,1,1,1,1,1,1,1,1,1,1,1,1,1,1,1,1,1,1,1,1,1,1,1,1,1,1,1,1,1,1,1,1,1,1,1,1,1,1,1,1,1,1,1,1,1,1,1,1,1,1,1,1,1,1,1,1,1,1,1,1,1,1,1,1,1,1,1,1,1,1,1,1,1,1,1,1,1,1,1,1,1,1,1,1,1,1,1,1,1,1,1,1,1,1,1,1,1,1,1,1,1,1,1,1,1,1,1,1,1,1,1,1,1,1,1,1,1,1,1,1,1,1,1,1,1,1,1,1,1,1,1,1,1,1,1,1,1,1,1,1,1,1,1,1,1,1,1,1],\"coloraxis\":\"coloraxis\",\"symbol\":\"diamond\"},\"mode\":\"markers\",\"name\":\"1\",\"scene\":\"scene\",\"showlegend\":true,\"type\":\"scatter3d\",\"x\":[-0.14662262094265677,-0.15424648778021413,-0.16352759357643246,-0.14944864352576806,-0.1526904858423656,-0.14528639666889875,0.15922643346190166,-0.16467319208509273,-0.22715975645118228,-0.16429014063290057,-0.09399246414322035,2.553594995726414,-0.14370908645944397,-0.16154738771103627,-0.16409450350341256,-0.22624055736053864,-0.20017150019027385,-0.16414281149450086,-0.16465545940430043,-0.1647418387397778,-0.22724907451642767,0.18301332298951417,0.23101023197443984,0.08385062488087605,-0.16448822197088783,-0.16009633016836908,-0.1644276176857673,-0.1647988206492856,-0.18370964821457256,-0.14403517298689222,-0.16359453568740223,-0.1638719829028799,1.583178890632193,-0.1465839932075413,-0.16116328580048228,-0.16451465276680893,-0.16486927514511282,-0.16412893981065,-0.155933208161693,-0.16475062694344061,-0.029798580104618087,-0.14666159805509768,-0.15841790517266918,-0.16473016733389073,-0.162826671926178,-0.1642172156341245,-0.13382230392306083,-0.1461256359881857,-0.14641277542928402,-0.14639609834128314,-0.14698605465099568,-0.2274227966371588,-0.16444669527262654,-0.19419609659138526,-0.161552237978896,-0.14619290800138918,3.84929743262479,0.4500616151684275,-0.16331510027579366,-0.1479290859041111,-0.16203455490849966,-0.1648714956198661,-0.161899547593117,-0.1481316398978401,-0.1288749682943917,-0.12797883246100053,-0.1805042437714865,-0.1647445891404362,-0.03778047626586637,-0.13267251749088443,-0.16488036971209857,-0.14668937355751474,0.48641300812879473,-0.22681031993326461,-0.15007983186962434,-0.1464295451777712,-0.22709509162967856,-0.16300614723951026,-0.16219880032515238,-0.15531401839251938,0.3615340532793252,-0.22713044147842043,-0.14658511547736489,-0.1608403815707106,-0.1419076355448738,-0.16344456614647088,0.2716766720065734,-0.2262918275112535,-0.15533430182371982,-0.16369272257262035,-0.1505422847170822,-0.1646704685186127,-0.22709376745448048,-0.16488042817581783,-0.22724372772525575,-0.23122604923143023,0.2950661691856595,-0.1468450817498729,-0.10806339241073275,-0.1620491134801249,-0.14680372240959805,-0.1645441134056866,-0.16341789678573976,-0.1550562764218448,-0.14530801218364678,-0.09170049176705694,-0.2138322238213579,-0.22507383703591505,0.295060435693646,-0.16486218598245694,0.29519110677440447,-0.15061974199413877,0.4870613991587378,-0.14821508087069163,-0.16483048111958196,-0.2199869740806527,-0.14532035053451114,-0.162964739681954,-0.1503382399714955,-0.13549255601367252,-0.13579177694353745,-0.1923971719636951,-0.16439317564203176,-0.11319476625204876,-0.16421557778625323,-0.14807211499443487,-0.13952314142243377,-0.03874357113736286,-0.15329797680197219,0.3311622674836418,-0.2263003628464295,-0.16453434726751343,-0.16429824067913137,-0.22669465882714304,-0.22727170403197008,0.29545510149989246,-0.16801338470945007,3.2427962742924,-0.10859982829146349,-0.2181541022936413,-0.14662178521924052,-0.09055275777256866,1.5820146346496615,-0.16463219429767975,-0.16408444604055925,-0.1637855849138808,-0.16377251676662918,0.29563838769377565,0.0668040792118994,-0.18167773210691554,-0.18839530175214758,-0.1451664483338405,-0.1540946103274933,-0.16296294896378463,-0.22281939635724848,-0.1882408849204884,-0.1534238546287926,-0.18834096538829295,-0.11821721801959072,1.1321866151717428,0.29504328228515453,-0.07840498435713858,-0.2225627702063327,-0.1371929217249152,-0.08107040287884275,1.0823952468093243,-0.22724571249608735,-0.1883928071357029,-0.1814354372760578,-0.16388364024764435,-0.2271711537289212,-0.14660117664988043,-0.20280201399084627,8.023426869964792,-0.14783417390251247,0.2989145567023522,0.028057246185645566,-0.15359735943660247,-0.1797642186718144,-0.16445711063480256,0.142433838048267,-0.22131672800502375,-0.10652112433499825,0.3029570584824169,-0.16469393530605356,-0.1521017969705777,-0.14415804723611236,-0.1612040488016769,-0.22634113245606,0.29522573568570115,-0.1924563862733608,-0.1504651364877015,-0.1652198410348429,-0.16350217019150742,0.29914848969894037,0.5732571601010339,2.1019441291424186,-0.15616246424344113,0.30882097901519423,-0.20377872579201659,-0.16524561396680398,-0.22722788465302352,-0.16471852530925118,-0.13707950467056348,-0.16499301210179063,-0.1621762889330822,3.093994375017325,-0.10647086932332128,-0.22719928794293753,-0.20320718339046964,-0.039987586707817574,-0.16290062016624832,-0.146621822782096,0.37490844987539684,-0.1472161038943101,-0.14760738816654748,-0.16856672944347348,-0.16361177254773612,-0.14322884423149454,-0.14499936694210935,-0.17971616409988725,-0.1458983988844384,-0.11506799126129266,-0.1447673439108556,0.5302749929744704,-0.11359907879890552,-0.09813849467906259,-0.14828221564365468,-0.14641214592364205,0.5504624601285765,-0.1997327179554967,-0.16479520572890105,-0.16275263795273348,-0.1287136922641498,-0.12451842652645384,-0.15508941734211912,0.31678651812956893,-0.14528745354412398],\"y\":[-1.278454281025148,-1.9909047507739275,-1.1879962393671786,-2.2302443691948066,-1.9909438371567731,-1.9282466188353453,-1.7585236147720715,-1.1880214464628722,-0.8338389750116327,-1.1880259436378597,-1.7611049030939756,-1.2663909045037447,-1.2783834386551156,-1.1879863169931713,-1.1880365130010548,-0.4885773008327472,-1.212605390173813,-1.1880085969764171,-1.1880204816377598,-1.1880205497938199,-0.8338426562086938,-1.7546100601021142,-1.2702698733959932,-1.1824422323672468,-1.1880113823437812,-1.187936707181769,-1.18801456691436,-1.188022528059094,-1.4896970322125827,-1.187723297271607,-1.1879916318117327,-1.1880080508904018,-1.146297666227167,-1.2784521793119683,-1.187974505304334,-1.1880122311542824,-1.188020535994468,-1.188004208761698,-2.1251973357174614,-1.1880191776342448,-1.1895097323945782,-1.278456401747745,-1.1878673104707185,-1.1880245464538712,-1.188055922122345,-1.1880144331211882,-1.2782687236974595,-1.2784425685351284,-1.2784552382063321,-1.2784767232322192,-1.2784618278091398,-0.8338415013965632,-1.1880103014479142,-1.1862471363696896,-1.1879956679719412,-1.2784450431665582,-2.1206424540139617,-2.202783799805121,-1.1879971231966544,-1.1880880149097934,-1.1879635519175213,-1.1880214099015745,-1.1879524431414301,-1.1876983293520087,-2.167437255944225,-1.7617755338816754,-1.5806406367508838,-1.1880149430212075,-1.1869976522105066,-2.2101041726695443,-1.1880207091658574,-1.2784579129970914,-1.2067970601318492,-0.8338276229323591,-2.171543590361698,-1.2784630805025676,-0.8338360459094667,-1.1880422577331775,-1.1880217599843486,-1.9909727970118902,-2.023936485820561,-0.8338350229040731,-1.278452240374033,-1.1879242782246908,-2.2099666983521002,-1.187991721891765,-1.268426286039319,-0.833829465033943,-2.152666712982232,-1.18805492998088,-2.081084178452738,-1.188020709001037,-0.8338383309583495,-1.1880207105613345,-0.8338464902116994,-1.1147432925355034,-2.205330165664435,-1.2784597474078405,-1.7613990750260573,-1.1879841519016296,-1.2784580287704397,-1.1880197268322104,-2.080542706197663,-1.9909642531611054,-1.9282477949232517,-1.189931409697368,-0.8333966830945401,-0.8338480503365856,-2.2053369596358747,-1.1880209542155862,-2.2053322069929266,-2.1715400914918623,-0.853894233819681,-2.230286267463146,-1.188019609674517,-0.8340261966313265,-1.9282461091494247,-1.1879750431917673,-2.1715312571423158,-2.1223322596479828,-1.1887947467801958,-0.6185630355660853,-1.1880147674229125,-1.2780963009538244,-1.1880266009086382,-2.2302313468407435,-2.0955960029791445,-2.0459158841215723,-2.146425204036439,-2.204538852922837,-0.8338393578227115,-1.1880128765578568,-1.1880328663721729,-0.8338372402785276,-0.8338444178145238,-2.205334932139179,-1.9990393312276975,-1.120465414293065,-1.3157863568529204,-0.8339853985287037,-1.278454235553908,-1.1901635992042356,-1.092972776904348,-1.1880186265223664,-1.1880265373941812,-1.1880197049156622,-1.1880189938851762,-2.205345518760226,-1.9290692781276084,-0.8324132317863799,-1.489769890261208,-1.9282400925144085,-2.152673691360005,-1.1879749457598068,-0.8337972789402471,-1.4897720954631772,-1.9910249885256739,-1.489769762366249,-1.7616333308951142,-2.2098653245790456,-2.2053328841130373,-1.9926709988138824,-0.8339011708820405,-2.230166510913922,-1.186406661953607,-1.1006724283577345,-0.8338435339764997,-1.4897662188857845,-1.4896699346409092,-1.1880038261822623,-0.8338413629534343,-1.2784526227987072,-1.2119520635948497,-2.3741026730385006,-2.1293161345477265,-2.2053128804456708,-1.1834154590422616,-2.152613456120109,-1.1860606085828431,-1.188020885802013,-1.1821463091953612,-0.8338039107256926,-1.9921383226150204,-2.2054842082344877,-1.1880225750897695,-1.9385034242479389,-1.928214100414326,-2.0805864237549923,-0.8338415760740675,-2.205326433644254,-0.6185501984846312,-2.171541272877236,-1.9911594564431705,-2.080540868377937,-2.2054557209584496,-2.0690312988211486,-2.2154395062978964,-1.9899310244713142,-2.205165155641391,-1.2934817302320614,-2.231419189656409,-0.8338432711026129,-1.1880245643207967,-2.230602601080101,-2.1431824343102175,-0.46681530716517894,-2.040494422399069,-1.277494747881907,-0.8338440722683277,-1.2934965517076777,-1.9269834788606104,-2.0805514500302356,-1.2784542375976822,-2.205741434617049,-2.204351658535374,-2.204325870272967,-2.1190550089264755,-1.1880220333658438,-1.9282771550569504,-1.9282368272745811,-1.5806566851951755,-1.278440215300801,-0.27101039728855253,-1.2784399597497806,-1.2080051265626919,-1.4880414562607356,-2.205744348016533,-1.187706522093007,-1.278455203955287,-1.1785626524463084,-1.2125938910377263,-1.188018656770068,-1.188011823335225,-1.7618171671546725,-2.1673678772554936,-1.990965044205504,-2.204967596001044,-1.9282466763393264],\"z\":[0.20242963532594813,0.4747341164248856,0.04895038236666123,0.45281985835174865,0.47472127665997144,0.3400541779449428,0.4690008697667093,0.04897407181664866,0.057321340036577115,0.04896955945129161,0.47344849881254364,0.029203671678703604,0.2023676113235109,0.048918307945524604,0.048969436386784276,0.06654083853362697,0.13928763815221387,0.04896279326012289,0.04897355358816741,0.04897485655112052,0.05732363951500912,0.4676149657853173,0.1946536051416875,0.04380570141822874,0.04896866616013947,0.04888363918592478,0.04896860440968197,0.048976225911176334,0.2552921450695818,0.04858843293099984,0.04895016314265521,0.04895862037232988,0.01196979370767549,0.20242850645024427,0.04890947912697756,0.04896928318850751,0.04897674867147312,0.04896142968287521,0.4582422485947585,0.04897462543195719,0.047360138100838896,0.20243077441202353,0.0488403700578918,0.04897573688900836,0.048955694369132975,0.04896543916056204,0.20219028275581985,0.20241915340539127,0.20242676605787424,0.20243218380470346,0.20243703197958507,0.05732591928967038,0.048967763359841814,0.24309148565792565,0.04892084605446213,0.2024208067394807,0.40872978802028975,0.48095880626318815,0.048947454366137046,0.04874253929635576,0.048919551703345554,0.04897701216242275,0.04891461381196017,0.04864278815416772,0.4888068557274975,0.4741309368435702,0.2760424545423503,0.04897341889891942,0.0468164146299211,0.43381260009653516,0.04897695938279142,0.20243158613680445,0.044239770142264295,0.05731314810869547,0.46251970040560847,0.2024290836263003,0.05731960563846425,0.048954760816177584,0.0489373451443322,0.4747679416795364,0.4078789778047487,0.0573198617293399,0.20242853924800303,0.048891430132222975,0.40703121598644554,0.04894795593270258,0.19356247203009422,0.05730592073506849,0.43476363453877753,0.04896831620479698,0.46223996599281647,0.04897383682376151,0.057320188532351525,0.04897696062050742,0.057324571044182135,-0.03657555400862468,0.48393604191492273,0.2024343862249784,0.4737353960130677,0.04892520072039493,0.20243331773487425,0.04897169814110213,0.5201508127401814,0.4747618543715236,0.3400548096472509,0.048392199366912046,0.057006440813307926,0.05729270290966058,0.4839379188519029,0.048976753501731536,0.48393472164896195,0.46252680948359326,0.05198529159489265,0.4528125567577162,0.04897592728611186,0.05726400925430028,0.3400545486369861,0.04893641961982475,0.46252029211045825,0.5397447485924534,0.0487483561722995,-0.030502226513530135,0.04896814492197669,0.20183795523773365,0.04896862357487872,0.4527959468089363,0.5299123890471706,0.41962976484569303,0.5752604881518962,0.4831903941291038,0.05730865654475847,0.04896974636629275,0.04897150554960266,0.05731396371985135,0.057324440709219784,0.4839315130824523,0.37205712278801983,-0.019531123851212112,0.164965649826966,0.057225984324127295,0.20242961090236028,0.048436356459219704,-0.0020752454442912885,0.048972718279328344,0.04896665609369539,0.048960408399795985,0.04896002648990976,0.4839315783030436,0.3371160386372779,0.05626875979471916,0.2553810628861799,0.34005067251650717,0.43474703301283596,0.048936367287006656,0.05724577660257102,0.25537934729866824,0.4747535868497549,0.25538022084454837,0.4739482213966015,0.4726789080153027,0.48393709926796763,0.4740716680382201,0.057269356446556445,0.45261700866708754,0.047304550199723294,0.11282727078125285,0.05732382097819468,0.25538005759395654,0.25525116770519035,0.04895767968648244,0.05732213931033048,0.2024288790255348,0.1236841491183811,0.41347517566866276,0.411082325756324,0.4838742345343756,0.04489234103326065,0.43472375115430656,0.24282760586959745,0.04897070951041095,0.042856172257696584,0.057225171600881676,0.47434945457842465,0.48385927880741586,0.048974678026618694,0.47888550610651054,0.3400288170175428,0.5201294080694006,0.057309848015643365,0.48393268400965533,-0.030504730913608117,0.4625248210976566,0.4747412292676746,0.5201515817483285,0.4839084231302549,0.4998871378394121,0.4597226507560909,0.42643616016832014,0.4836879087440249,0.23447253564280918,0.46087096250524745,0.05732348644631322,0.04897556841254453,0.45273032322588336,0.39915055613748457,0.1592518080860017,0.45486285825188083,0.20157929358354804,0.05732327231438687,0.23446794189469652,0.3381546362211788,0.5201454235152151,0.2024296120001152,0.48285675461974403,0.42435221819423413,0.4243512383385128,0.4198781882216779,0.0489584367838721,0.3400316222826896,0.34004732591390574,0.2760349631247049,0.2024151524249985,-0.10591109868761046,0.20239825932267588,0.04390585432684697,0.2538125781963788,0.4239894012446221,0.04864718865294024,0.20242674766089577,0.03584123945006699,0.1392780783261361,0.04897515123376453,0.04894296369646031,0.47415284785814293,0.48330241566241006,0.4747625559869583,0.4835173137736941,0.3400542088315788]},{\"customdata\":[[\"Proof-of-BibleHash\"],[\"SHA-256 + Hive\"],[\"Proof-of-Authority\"],[\"ECC 256K1\"],[\"SHA3-256\"],[\"Leased POS\"]],\"hovertemplate\":\"<b>%{hovertext}</b><br><br>class=%{marker.color}<br>PC 1=%{x}<br>PC 2=%{y}<br>PC 3=%{z}<br>Algorithm=%{customdata[0]}<extra></extra>\",\"hovertext\":[\"BiblePay\",\"LitecoinCash\",\"Poa Network\",\"Acute Angle Cloud\",\"Fiii\",\"Waves\"],\"legendgroup\":\"3\",\"marker\":{\"color\":[3,3,3,3,3,3],\"coloraxis\":\"coloraxis\",\"symbol\":\"square\"},\"mode\":\"markers\",\"name\":\"3\",\"scene\":\"scene\",\"showlegend\":true,\"type\":\"scatter3d\",\"x\":[-0.19717074060412584,-0.3763806478837241,-0.3816748412016787,-0.3303986011363096,-0.5870772871420471,-0.3953367041668719],\"y\":[3.670818249660895,4.3855491185127695,2.3368475213917477,1.9442742913658615,5.568662172190355,2.3676098640298435],\"z\":[9.296647185270077,6.902884670710865,13.63717917787571,16.351887498149594,11.368539734935185,15.595757528881915]},{\"customdata\":[[\"TRC10\"]],\"hovertemplate\":\"<b>%{hovertext}</b><br><br>class=%{marker.color}<br>PC 1=%{x}<br>PC 2=%{y}<br>PC 3=%{z}<br>Algorithm=%{customdata[0]}<extra></extra>\",\"hovertext\":[\"BitTorrent\"],\"legendgroup\":\"2\",\"marker\":{\"color\":[2],\"coloraxis\":\"coloraxis\",\"symbol\":\"x\"},\"mode\":\"markers\",\"name\":\"2\",\"scene\":\"scene\",\"showlegend\":true,\"type\":\"scatter3d\",\"x\":[34.076818513259404],\"y\":[1.9424959049690216],\"z\":[-0.8205513399814741]}],                        {\"coloraxis\":{\"colorbar\":{\"title\":{\"text\":\"class\"}},\"colorscale\":[[0.0,\"#0d0887\"],[0.1111111111111111,\"#46039f\"],[0.2222222222222222,\"#7201a8\"],[0.3333333333333333,\"#9c179e\"],[0.4444444444444444,\"#bd3786\"],[0.5555555555555556,\"#d8576b\"],[0.6666666666666666,\"#ed7953\"],[0.7777777777777778,\"#fb9f3a\"],[0.8888888888888888,\"#fdca26\"],[1.0,\"#f0f921\"]]},\"legend\":{\"title\":{\"text\":\"class\"},\"tracegroupgap\":0,\"x\":0,\"y\":1},\"margin\":{\"t\":60},\"scene\":{\"domain\":{\"x\":[0.0,1.0],\"y\":[0.0,1.0]},\"xaxis\":{\"title\":{\"text\":\"PC 1\"}},\"yaxis\":{\"title\":{\"text\":\"PC 2\"}},\"zaxis\":{\"title\":{\"text\":\"PC 3\"}}},\"template\":{\"data\":{\"bar\":[{\"error_x\":{\"color\":\"#2a3f5f\"},\"error_y\":{\"color\":\"#2a3f5f\"},\"marker\":{\"line\":{\"color\":\"#E5ECF6\",\"width\":0.5},\"pattern\":{\"fillmode\":\"overlay\",\"size\":10,\"solidity\":0.2}},\"type\":\"bar\"}],\"barpolar\":[{\"marker\":{\"line\":{\"color\":\"#E5ECF6\",\"width\":0.5},\"pattern\":{\"fillmode\":\"overlay\",\"size\":10,\"solidity\":0.2}},\"type\":\"barpolar\"}],\"carpet\":[{\"aaxis\":{\"endlinecolor\":\"#2a3f5f\",\"gridcolor\":\"white\",\"linecolor\":\"white\",\"minorgridcolor\":\"white\",\"startlinecolor\":\"#2a3f5f\"},\"baxis\":{\"endlinecolor\":\"#2a3f5f\",\"gridcolor\":\"white\",\"linecolor\":\"white\",\"minorgridcolor\":\"white\",\"startlinecolor\":\"#2a3f5f\"},\"type\":\"carpet\"}],\"choropleth\":[{\"colorbar\":{\"outlinewidth\":0,\"ticks\":\"\"},\"type\":\"choropleth\"}],\"contour\":[{\"colorbar\":{\"outlinewidth\":0,\"ticks\":\"\"},\"colorscale\":[[0.0,\"#0d0887\"],[0.1111111111111111,\"#46039f\"],[0.2222222222222222,\"#7201a8\"],[0.3333333333333333,\"#9c179e\"],[0.4444444444444444,\"#bd3786\"],[0.5555555555555556,\"#d8576b\"],[0.6666666666666666,\"#ed7953\"],[0.7777777777777778,\"#fb9f3a\"],[0.8888888888888888,\"#fdca26\"],[1.0,\"#f0f921\"]],\"type\":\"contour\"}],\"contourcarpet\":[{\"colorbar\":{\"outlinewidth\":0,\"ticks\":\"\"},\"type\":\"contourcarpet\"}],\"heatmap\":[{\"colorbar\":{\"outlinewidth\":0,\"ticks\":\"\"},\"colorscale\":[[0.0,\"#0d0887\"],[0.1111111111111111,\"#46039f\"],[0.2222222222222222,\"#7201a8\"],[0.3333333333333333,\"#9c179e\"],[0.4444444444444444,\"#bd3786\"],[0.5555555555555556,\"#d8576b\"],[0.6666666666666666,\"#ed7953\"],[0.7777777777777778,\"#fb9f3a\"],[0.8888888888888888,\"#fdca26\"],[1.0,\"#f0f921\"]],\"type\":\"heatmap\"}],\"heatmapgl\":[{\"colorbar\":{\"outlinewidth\":0,\"ticks\":\"\"},\"colorscale\":[[0.0,\"#0d0887\"],[0.1111111111111111,\"#46039f\"],[0.2222222222222222,\"#7201a8\"],[0.3333333333333333,\"#9c179e\"],[0.4444444444444444,\"#bd3786\"],[0.5555555555555556,\"#d8576b\"],[0.6666666666666666,\"#ed7953\"],[0.7777777777777778,\"#fb9f3a\"],[0.8888888888888888,\"#fdca26\"],[1.0,\"#f0f921\"]],\"type\":\"heatmapgl\"}],\"histogram\":[{\"marker\":{\"pattern\":{\"fillmode\":\"overlay\",\"size\":10,\"solidity\":0.2}},\"type\":\"histogram\"}],\"histogram2d\":[{\"colorbar\":{\"outlinewidth\":0,\"ticks\":\"\"},\"colorscale\":[[0.0,\"#0d0887\"],[0.1111111111111111,\"#46039f\"],[0.2222222222222222,\"#7201a8\"],[0.3333333333333333,\"#9c179e\"],[0.4444444444444444,\"#bd3786\"],[0.5555555555555556,\"#d8576b\"],[0.6666666666666666,\"#ed7953\"],[0.7777777777777778,\"#fb9f3a\"],[0.8888888888888888,\"#fdca26\"],[1.0,\"#f0f921\"]],\"type\":\"histogram2d\"}],\"histogram2dcontour\":[{\"colorbar\":{\"outlinewidth\":0,\"ticks\":\"\"},\"colorscale\":[[0.0,\"#0d0887\"],[0.1111111111111111,\"#46039f\"],[0.2222222222222222,\"#7201a8\"],[0.3333333333333333,\"#9c179e\"],[0.4444444444444444,\"#bd3786\"],[0.5555555555555556,\"#d8576b\"],[0.6666666666666666,\"#ed7953\"],[0.7777777777777778,\"#fb9f3a\"],[0.8888888888888888,\"#fdca26\"],[1.0,\"#f0f921\"]],\"type\":\"histogram2dcontour\"}],\"mesh3d\":[{\"colorbar\":{\"outlinewidth\":0,\"ticks\":\"\"},\"type\":\"mesh3d\"}],\"parcoords\":[{\"line\":{\"colorbar\":{\"outlinewidth\":0,\"ticks\":\"\"}},\"type\":\"parcoords\"}],\"pie\":[{\"automargin\":true,\"type\":\"pie\"}],\"scatter\":[{\"marker\":{\"colorbar\":{\"outlinewidth\":0,\"ticks\":\"\"}},\"type\":\"scatter\"}],\"scatter3d\":[{\"line\":{\"colorbar\":{\"outlinewidth\":0,\"ticks\":\"\"}},\"marker\":{\"colorbar\":{\"outlinewidth\":0,\"ticks\":\"\"}},\"type\":\"scatter3d\"}],\"scattercarpet\":[{\"marker\":{\"colorbar\":{\"outlinewidth\":0,\"ticks\":\"\"}},\"type\":\"scattercarpet\"}],\"scattergeo\":[{\"marker\":{\"colorbar\":{\"outlinewidth\":0,\"ticks\":\"\"}},\"type\":\"scattergeo\"}],\"scattergl\":[{\"marker\":{\"colorbar\":{\"outlinewidth\":0,\"ticks\":\"\"}},\"type\":\"scattergl\"}],\"scattermapbox\":[{\"marker\":{\"colorbar\":{\"outlinewidth\":0,\"ticks\":\"\"}},\"type\":\"scattermapbox\"}],\"scatterpolar\":[{\"marker\":{\"colorbar\":{\"outlinewidth\":0,\"ticks\":\"\"}},\"type\":\"scatterpolar\"}],\"scatterpolargl\":[{\"marker\":{\"colorbar\":{\"outlinewidth\":0,\"ticks\":\"\"}},\"type\":\"scatterpolargl\"}],\"scatterternary\":[{\"marker\":{\"colorbar\":{\"outlinewidth\":0,\"ticks\":\"\"}},\"type\":\"scatterternary\"}],\"surface\":[{\"colorbar\":{\"outlinewidth\":0,\"ticks\":\"\"},\"colorscale\":[[0.0,\"#0d0887\"],[0.1111111111111111,\"#46039f\"],[0.2222222222222222,\"#7201a8\"],[0.3333333333333333,\"#9c179e\"],[0.4444444444444444,\"#bd3786\"],[0.5555555555555556,\"#d8576b\"],[0.6666666666666666,\"#ed7953\"],[0.7777777777777778,\"#fb9f3a\"],[0.8888888888888888,\"#fdca26\"],[1.0,\"#f0f921\"]],\"type\":\"surface\"}],\"table\":[{\"cells\":{\"fill\":{\"color\":\"#EBF0F8\"},\"line\":{\"color\":\"white\"}},\"header\":{\"fill\":{\"color\":\"#C8D4E3\"},\"line\":{\"color\":\"white\"}},\"type\":\"table\"}]},\"layout\":{\"annotationdefaults\":{\"arrowcolor\":\"#2a3f5f\",\"arrowhead\":0,\"arrowwidth\":1},\"autotypenumbers\":\"strict\",\"coloraxis\":{\"colorbar\":{\"outlinewidth\":0,\"ticks\":\"\"}},\"colorscale\":{\"diverging\":[[0,\"#8e0152\"],[0.1,\"#c51b7d\"],[0.2,\"#de77ae\"],[0.3,\"#f1b6da\"],[0.4,\"#fde0ef\"],[0.5,\"#f7f7f7\"],[0.6,\"#e6f5d0\"],[0.7,\"#b8e186\"],[0.8,\"#7fbc41\"],[0.9,\"#4d9221\"],[1,\"#276419\"]],\"sequential\":[[0.0,\"#0d0887\"],[0.1111111111111111,\"#46039f\"],[0.2222222222222222,\"#7201a8\"],[0.3333333333333333,\"#9c179e\"],[0.4444444444444444,\"#bd3786\"],[0.5555555555555556,\"#d8576b\"],[0.6666666666666666,\"#ed7953\"],[0.7777777777777778,\"#fb9f3a\"],[0.8888888888888888,\"#fdca26\"],[1.0,\"#f0f921\"]],\"sequentialminus\":[[0.0,\"#0d0887\"],[0.1111111111111111,\"#46039f\"],[0.2222222222222222,\"#7201a8\"],[0.3333333333333333,\"#9c179e\"],[0.4444444444444444,\"#bd3786\"],[0.5555555555555556,\"#d8576b\"],[0.6666666666666666,\"#ed7953\"],[0.7777777777777778,\"#fb9f3a\"],[0.8888888888888888,\"#fdca26\"],[1.0,\"#f0f921\"]]},\"colorway\":[\"#636efa\",\"#EF553B\",\"#00cc96\",\"#ab63fa\",\"#FFA15A\",\"#19d3f3\",\"#FF6692\",\"#B6E880\",\"#FF97FF\",\"#FECB52\"],\"font\":{\"color\":\"#2a3f5f\"},\"geo\":{\"bgcolor\":\"white\",\"lakecolor\":\"white\",\"landcolor\":\"#E5ECF6\",\"showlakes\":true,\"showland\":true,\"subunitcolor\":\"white\"},\"hoverlabel\":{\"align\":\"left\"},\"hovermode\":\"closest\",\"mapbox\":{\"style\":\"light\"},\"paper_bgcolor\":\"white\",\"plot_bgcolor\":\"#E5ECF6\",\"polar\":{\"angularaxis\":{\"gridcolor\":\"white\",\"linecolor\":\"white\",\"ticks\":\"\"},\"bgcolor\":\"#E5ECF6\",\"radialaxis\":{\"gridcolor\":\"white\",\"linecolor\":\"white\",\"ticks\":\"\"}},\"scene\":{\"xaxis\":{\"backgroundcolor\":\"#E5ECF6\",\"gridcolor\":\"white\",\"gridwidth\":2,\"linecolor\":\"white\",\"showbackground\":true,\"ticks\":\"\",\"zerolinecolor\":\"white\"},\"yaxis\":{\"backgroundcolor\":\"#E5ECF6\",\"gridcolor\":\"white\",\"gridwidth\":2,\"linecolor\":\"white\",\"showbackground\":true,\"ticks\":\"\",\"zerolinecolor\":\"white\"},\"zaxis\":{\"backgroundcolor\":\"#E5ECF6\",\"gridcolor\":\"white\",\"gridwidth\":2,\"linecolor\":\"white\",\"showbackground\":true,\"ticks\":\"\",\"zerolinecolor\":\"white\"}},\"shapedefaults\":{\"line\":{\"color\":\"#2a3f5f\"}},\"ternary\":{\"aaxis\":{\"gridcolor\":\"white\",\"linecolor\":\"white\",\"ticks\":\"\"},\"baxis\":{\"gridcolor\":\"white\",\"linecolor\":\"white\",\"ticks\":\"\"},\"bgcolor\":\"#E5ECF6\",\"caxis\":{\"gridcolor\":\"white\",\"linecolor\":\"white\",\"ticks\":\"\"}},\"title\":{\"x\":0.05},\"xaxis\":{\"automargin\":true,\"gridcolor\":\"white\",\"linecolor\":\"white\",\"ticks\":\"\",\"title\":{\"standoff\":15},\"zerolinecolor\":\"white\",\"zerolinewidth\":2},\"yaxis\":{\"automargin\":true,\"gridcolor\":\"white\",\"linecolor\":\"white\",\"ticks\":\"\",\"title\":{\"standoff\":15},\"zerolinecolor\":\"white\",\"zerolinewidth\":2}}}},                        {\"responsive\": true}                    ).then(function(){\n",
       "                            \n",
       "var gd = document.getElementById('51959adf-ef05-4b90-9d99-2e7f2d48e782');\n",
       "var x = new MutationObserver(function (mutations, observer) {{\n",
       "        var display = window.getComputedStyle(gd).display;\n",
       "        if (!display || display === 'none') {{\n",
       "            console.log([gd, 'removed!']);\n",
       "            Plotly.purge(gd);\n",
       "            observer.disconnect();\n",
       "        }}\n",
       "}});\n",
       "\n",
       "// Listen for the removal of the full notebook cells\n",
       "var notebookContainer = gd.closest('#notebook-container');\n",
       "if (notebookContainer) {{\n",
       "    x.observe(notebookContainer, {childList: true});\n",
       "}}\n",
       "\n",
       "// Listen for the clearing of the current output cell\n",
       "var outputEl = gd.closest('.output');\n",
       "if (outputEl) {{\n",
       "    x.observe(outputEl, {childList: true});\n",
       "}}\n",
       "\n",
       "                        })                };                });            </script>        </div>"
      ]
     },
     "metadata": {},
     "output_type": "display_data"
    }
   ],
   "source": [
    "# Create a 3D-Scatter with the PCA data and the clusters\n",
    "fig = px.scatter_3d(\n",
    "    df_merged,\n",
    "    x=\"PC 1\",\n",
    "    y=\"PC 2\",\n",
    "    z=\"PC 3\",\n",
    "    hover_name='CoinName',\n",
    "    hover_data= ['Algorithm'],\n",
    "    color=\"class\",\n",
    "    symbol=\"class\",\n",
    ")\n",
    "fig.update_layout(legend=dict(x=0, y=1))\n",
    "fig.show()"
   ]
  },
  {
   "cell_type": "markdown",
   "metadata": {},
   "source": [
    "#### Table of Tradable Cryptocurrencies"
   ]
  },
  {
   "cell_type": "code",
   "execution_count": 314,
   "metadata": {},
   "outputs": [],
   "source": [
    "# Table with tradable cryptos\n",
    "columns = ['CoinName', 'Algorithm', 'ProofType', 'TotalCoinSupply', 'TotalCoinsMined', 'class']"
   ]
  },
  {
   "cell_type": "code",
   "execution_count": 315,
   "metadata": {},
   "outputs": [
    {
     "data": {},
     "metadata": {},
     "output_type": "display_data"
    },
    {
     "data": {
      "application/vnd.holoviews_exec.v0+json": "",
      "text/html": [
       "<div id='1474'>\n",
       "\n",
       "\n",
       "\n",
       "\n",
       "\n",
       "  <div class=\"bk-root\" id=\"6a31a7d3-667e-4017-a510-3dbf2c0ca2ed\" data-root-id=\"1474\"></div>\n",
       "</div>\n",
       "<script type=\"application/javascript\">(function(root) {\n",
       "  function embed_document(root) {\n",
       "    var docs_json = {\"0bcbee1e-82c3-4e4d-a7ba-fbaeef400f1d\":{\"defs\":[{\"extends\":null,\"module\":null,\"name\":\"ReactiveHTML1\",\"overrides\":[],\"properties\":[]},{\"extends\":null,\"module\":null,\"name\":\"FlexBox1\",\"overrides\":[],\"properties\":[{\"default\":\"flex-start\",\"kind\":null,\"name\":\"align_content\"},{\"default\":\"flex-start\",\"kind\":null,\"name\":\"align_items\"},{\"default\":\"row\",\"kind\":null,\"name\":\"flex_direction\"},{\"default\":\"wrap\",\"kind\":null,\"name\":\"flex_wrap\"},{\"default\":\"flex-start\",\"kind\":null,\"name\":\"justify_content\"}]},{\"extends\":null,\"module\":null,\"name\":\"TemplateActions1\",\"overrides\":[],\"properties\":[{\"default\":0,\"kind\":null,\"name\":\"open_modal\"},{\"default\":0,\"kind\":null,\"name\":\"close_modal\"}]},{\"extends\":null,\"module\":null,\"name\":\"MaterialTemplateActions1\",\"overrides\":[],\"properties\":[{\"default\":0,\"kind\":null,\"name\":\"open_modal\"},{\"default\":0,\"kind\":null,\"name\":\"close_modal\"}]}],\"roots\":{\"references\":[{\"attributes\":{\"editor\":{\"id\":\"1499\"},\"field\":\"TotalCoinsMined\",\"formatter\":{\"id\":\"1498\"},\"title\":\"TotalCoinsMined\"},\"id\":\"1500\",\"type\":\"TableColumn\"},{\"attributes\":{},\"id\":\"1504\",\"type\":\"IntEditor\"},{\"attributes\":{},\"id\":\"1479\",\"type\":\"StringEditor\"},{\"attributes\":{\"editor\":{\"id\":\"1504\"},\"field\":\"class\",\"formatter\":{\"id\":\"1503\"},\"title\":\"class\"},\"id\":\"1505\",\"type\":\"TableColumn\"},{\"attributes\":{},\"id\":\"1477\",\"type\":\"Selection\"},{\"attributes\":{\"editor\":{\"id\":\"1494\"},\"field\":\"TotalCoinSupply\",\"formatter\":{\"id\":\"1493\"},\"title\":\"TotalCoinSupply\"},\"id\":\"1495\",\"type\":\"TableColumn\"},{\"attributes\":{},\"id\":\"1478\",\"type\":\"StringFormatter\"},{\"attributes\":{\"format\":\"0,0.0[00000]\"},\"id\":\"1498\",\"type\":\"NumberFormatter\"},{\"attributes\":{\"editor\":{\"id\":\"1479\"},\"field\":\"CoinName\",\"formatter\":{\"id\":\"1478\"},\"title\":\"CoinName\"},\"id\":\"1480\",\"type\":\"TableColumn\"},{\"attributes\":{\"margin\":[5,5,5,5],\"name\":\"HSpacer02337\",\"sizing_mode\":\"stretch_width\"},\"id\":\"1515\",\"type\":\"Spacer\"},{\"attributes\":{},\"id\":\"1489\",\"type\":\"StringEditor\"},{\"attributes\":{\"editor\":{\"id\":\"1489\"},\"field\":\"ProofType\",\"formatter\":{\"id\":\"1488\"},\"title\":\"ProofType\"},\"id\":\"1490\",\"type\":\"TableColumn\"},{\"attributes\":{},\"id\":\"1483\",\"type\":\"StringFormatter\"},{\"attributes\":{\"margin\":[5,5,5,5],\"name\":\"HSpacer02336\",\"sizing_mode\":\"stretch_width\"},\"id\":\"1475\",\"type\":\"Spacer\"},{\"attributes\":{\"editor\":{\"id\":\"1484\"},\"field\":\"Algorithm\",\"formatter\":{\"id\":\"1483\"},\"title\":\"Algorithm\"},\"id\":\"1485\",\"type\":\"TableColumn\"},{\"attributes\":{},\"id\":\"1512\",\"type\":\"UnionRenderers\"},{\"attributes\":{},\"id\":\"1503\",\"type\":\"NumberFormatter\"},{\"attributes\":{},\"id\":\"1499\",\"type\":\"NumberEditor\"},{\"attributes\":{\"children\":[{\"id\":\"1475\"},{\"id\":\"1508\"},{\"id\":\"1515\"}],\"margin\":[0,0,0,0],\"name\":\"Row02332\",\"tags\":[\"embedded\"]},\"id\":\"1474\",\"type\":\"Row\"},{\"attributes\":{},\"id\":\"1488\",\"type\":\"StringFormatter\"},{\"attributes\":{},\"id\":\"1493\",\"type\":\"StringFormatter\"},{\"attributes\":{},\"id\":\"1484\",\"type\":\"StringEditor\"},{\"attributes\":{\"columns\":[{\"id\":\"1480\"},{\"id\":\"1485\"},{\"id\":\"1490\"},{\"id\":\"1495\"},{\"id\":\"1500\"},{\"id\":\"1505\"}],\"height\":300,\"reorderable\":false,\"source\":{\"id\":\"1476\"},\"view\":{\"id\":\"1510\"},\"width\":700},\"id\":\"1508\",\"type\":\"DataTable\"},{\"attributes\":{},\"id\":\"1494\",\"type\":\"StringEditor\"},{\"attributes\":{\"data\":{\"Algorithm\":[\"Scrypt\",\"Scrypt\",\"X13\",\"SHA-256\",\"Ethash\",\"Scrypt\",\"X11\",\"CryptoNight-V7\",\"Ethash\",\"Equihash\",\"SHA-512\",\"Multiple\",\"SHA-256\",\"SHA-256\",\"Scrypt\",\"X15\",\"X11\",\"Scrypt\",\"Scrypt\",\"Scrypt\",\"Multiple\",\"Scrypt\",\"SHA-256\",\"Scrypt\",\"Scrypt\",\"Scrypt\",\"Quark\",\"Groestl\",\"Scrypt\",\"Scrypt\",\"Scrypt\",\"Scrypt\",\"Scrypt\",\"X11\",\"Scrypt\",\"Groestl\",\"Multiple\",\"SHA-256\",\"Scrypt\",\"Scrypt\",\"Scrypt\",\"Scrypt\",\"PoS\",\"Scrypt\",\"Scrypt\",\"NeoScrypt\",\"Scrypt\",\"Scrypt\",\"Scrypt\",\"Scrypt\",\"X11\",\"Scrypt\",\"X11\",\"SHA-256\",\"Scrypt\",\"Scrypt\",\"Scrypt\",\"SHA3\",\"Scrypt\",\"HybridScryptHash256\",\"Scrypt\",\"Scrypt\",\"SHA-256\",\"Scrypt\",\"X13\",\"Scrypt\",\"SHA-256\",\"Scrypt\",\"X13\",\"NeoScrypt\",\"Scrypt\",\"Scrypt\",\"Scrypt\",\"Scrypt\",\"Scrypt\",\"Scrypt\",\"X11\",\"X11\",\"SHA-256\",\"Multiple\",\"SHA-256\",\"PHI1612\",\"X11\",\"SHA-256\",\"SHA-256\",\"SHA-256\",\"X11\",\"Scrypt\",\"Scrypt\",\"Scrypt\",\"Scrypt\",\"Lyra2REv2\",\"Scrypt\",\"X11\",\"Multiple\",\"SHA-256\",\"X13\",\"Scrypt\",\"CryptoNight\",\"CryptoNight\",\"Shabal256\",\"Counterparty\",\"Scrypt\",\"SHA-256\",\"Groestl\",\"Scrypt\",\"Scrypt\",\"Scrypt\",\"X13\",\"Scrypt\",\"Scrypt\",\"Scrypt\",\"Scrypt\",\"X13\",\"Scrypt\",\"Stanford Folding\",\"X11\",\"Multiple\",\"QuBit\",\"Scrypt\",\"Scrypt\",\"Scrypt\",\"M7 POW\",\"Scrypt\",\"SHA-256\",\"Scrypt\",\"X11\",\"SHA3\",\"X11\",\"Lyra2RE\",\"SHA-256\",\"QUAIT\",\"X11\",\"X11\",\"Scrypt\",\"Scrypt\",\"Scrypt\",\"Ethash\",\"X13\",\"Blake2b\",\"SHA-256\",\"X15\",\"X11\",\"SHA-256\",\"BLAKE256\",\"Scrypt\",\"1GB AES Pattern Search\",\"SHA-256\",\"X11\",\"Scrypt\",\"SHA-256\",\"SHA-256\",\"NIST5\",\"Scrypt\",\"Scrypt\",\"X11\",\"Dagger\",\"Scrypt\",\"X11GOST\",\"X11\",\"Scrypt\",\"SHA-256\",\"Scrypt\",\"PoS\",\"Scrypt\",\"X11\",\"X11\",\"SHA-256\",\"SHA-256\",\"NIST5\",\"X11\",\"Scrypt\",\"POS 3.0\",\"Scrypt\",\"Scrypt\",\"Scrypt\",\"X13\",\"X11\",\"X11\",\"Equihash\",\"X11\",\"Scrypt\",\"CryptoNight\",\"SHA-256\",\"SHA-256\",\"X11\",\"Scrypt\",\"Multiple\",\"Scrypt\",\"Scrypt\",\"Scrypt\",\"SHA-256\",\"Scrypt\",\"Scrypt\",\"SHA-256D\",\"PoS\",\"Scrypt\",\"X11\",\"Lyra2Z\",\"PoS\",\"X13\",\"X14\",\"PoS\",\"SHA-256D\",\"Ethash\",\"Equihash\",\"DPoS\",\"X11\",\"Scrypt\",\"X11\",\"X13\",\"X11\",\"PoS\",\"Scrypt\",\"Scrypt\",\"X11\",\"PoS\",\"X11\",\"SHA-256\",\"Scrypt\",\"X11\",\"Scrypt\",\"Scrypt\",\"X11\",\"CryptoNight\",\"Scrypt\",\"Scrypt\",\"Scrypt\",\"Scrypt\",\"Quark\",\"QuBit\",\"Scrypt\",\"CryptoNight\",\"Lyra2RE\",\"Scrypt\",\"SHA-256\",\"X11\",\"Scrypt\",\"X11\",\"Scrypt\",\"CryptoNight-V7\",\"Scrypt\",\"Scrypt\",\"Scrypt\",\"X13\",\"X11\",\"Equihash\",\"Scrypt\",\"Scrypt\",\"Lyra2RE\",\"Scrypt\",\"Dagger-Hashimoto\",\"X11\",\"Blake2S\",\"X11\",\"Scrypt\",\"PoS\",\"X11\",\"NIST5\",\"PoS\",\"X11\",\"Scrypt\",\"Scrypt\",\"Scrypt\",\"SHA-256\",\"X11\",\"Scrypt\",\"Scrypt\",\"SHA-256\",\"PoS\",\"Scrypt\",\"X15\",\"SHA-256\",\"Scrypt\",\"POS 3.0\",\"CryptoNight-V7\",\"536\",\"Argon2d\",\"Blake2b\",\"Cloverhash\",\"CryptoNight\",\"NIST5\",\"X11\",\"NIST5\",\"Skein\",\"Scrypt\",\"X13\",\"Scrypt\",\"X11\",\"X11\",\"Scrypt\",\"CryptoNight\",\"X13\",\"Time Travel\",\"Scrypt\",\"Keccak\",\"SkunkHash v2 Raptor\",\"X11\",\"Skein\",\"SHA-256\",\"X11\",\"Scrypt\",\"VeChainThor Authority\",\"Scrypt\",\"PoS\",\"Scrypt\",\"Scrypt\",\"Scrypt\",\"Scrypt\",\"Scrypt\",\"Scrypt\",\"Scrypt\",\"CryptoNight\",\"SHA-512\",\"Ouroboros\",\"X11\",\"Equihash\",\"NeoScrypt\",\"X11\",\"Scrypt\",\"NeoScrypt\",\"Lyra2REv2\",\"Equihash\",\"Scrypt\",\"SHA-256\",\"NIST5\",\"PHI1612\",\"Dagger\",\"Scrypt\",\"Quark\",\"Scrypt\",\"POS 2.0\",\"Scrypt\",\"SHA-256\",\"X11\",\"NeoScrypt\",\"Ethash\",\"NeoScrypt\",\"X11\",\"DPoS\",\"NIST5\",\"X13\",\"Multiple\",\"Scrypt\",\"CryptoNight\",\"CryptoNight\",\"Ethash\",\"NIST5\",\"Quark\",\"X11\",\"CryptoNight-V7\",\"Scrypt\",\"Scrypt\",\"Scrypt\",\"X11\",\"BLAKE256\",\"X11\",\"NeoScrypt\",\"Quark\",\"NeoScrypt\",\"Scrypt\",\"Scrypt\",\"Scrypt\",\"X11\",\"X11\",\"SHA-256\",\"C11\",\"POS 3.0\",\"Ethash\",\"Scrypt\",\"CryptoNight\",\"SkunkHash\",\"Scrypt\",\"CryptoNight\",\"Scrypt\",\"Dagger\",\"Lyra2REv2\",\"X13\",\"Proof-of-BibleHash\",\"SHA-256 + Hive\",\"Scrypt\",\"Scrypt\",\"X11\",\"C11\",\"Proof-of-Authority\",\"X11\",\"XEVAN\",\"Scrypt\",\"VBFT\",\"Ethash\",\"CryptoNight\",\"Scrypt\",\"IMesh\",\"NIST5\",\"Scrypt\",\"Scrypt\",\"Equihash\",\"Scrypt\",\"Lyra2Z\",\"Green Protocol\",\"PoS\",\"Scrypt\",\"Semux BFT consensus\",\"X11\",\"Quark\",\"PoS\",\"CryptoNight\",\"X16R\",\"Scrypt\",\"NIST5\",\"Lyra2RE\",\"XEVAN\",\"Tribus\",\"Scrypt\",\"Lyra2Z\",\"CryptoNight\",\"CryptoNight Heavy\",\"CryptoNight\",\"Scrypt\",\"Scrypt\",\"Jump Consistent Hash\",\"SHA-256D\",\"CryptoNight\",\"Scrypt\",\"X15\",\"Scrypt\",\"Quark\",\"SHA-256\",\"DPoS\",\"X16R\",\"HMQ1725\",\"X11\",\"X16R\",\"Quark\",\"Quark\",\"Scrypt\",\"Lyra2REv2\",\"Quark\",\"Scrypt\",\"Scrypt\",\"CryptoNight-V7\",\"Cryptonight-GPU\",\"XEVAN\",\"CryptoNight Heavy\",\"X11\",\"X11\",\"Scrypt\",\"PoS\",\"SHA-256\",\"Keccak\",\"X11\",\"X11\",\"Scrypt\",\"SHA-512\",\"X16R\",\"ECC 256K1\",\"Equihash\",\"XEVAN\",\"Lyra2Z\",\"SHA-256\",\"XEVAN\",\"X11\",\"CryptoNight\",\"Quark\",\"Blake\",\"Blake\",\"Equihash\",\"Exosis\",\"Scrypt\",\"Scrypt\",\"Equihash\",\"Quark\",\"Equihash\",\"Quark\",\"Scrypt\",\"QuBit\",\"X11\",\"Scrypt\",\"XEVAN\",\"SHA-256D\",\"X11\",\"SHA-256\",\"X13\",\"SHA-256\",\"X11\",\"DPoS\",\"Scrypt\",\"Scrypt\",\"X11\",\"NeoScrypt\",\"Scrypt\",\"Blake\",\"Scrypt\",\"SHA-256\",\"Scrypt\",\"X11\",\"Scrypt\",\"Scrypt\",\"SHA-256\",\"X11\",\"SHA-256\",\"Scrypt\",\"Scrypt\",\"Scrypt\",\"Groestl\",\"X11\",\"Scrypt\",\"PoS\",\"Scrypt\",\"Scrypt\",\"X11\",\"SHA-256\",\"DPoS\",\"Scrypt\",\"Scrypt\",\"NeoScrypt\",\"SHA3-256\",\"Multiple\",\"X13\",\"Equihash+Scrypt\",\"DPoS\",\"Ethash\",\"DPoS\",\"SHA-256\",\"Leased POS\",\"PoS\",\"TRC10\",\"PoS\",\"SHA-256\",\"Scrypt\",\"CryptoNight\",\"Equihash\",\"Scrypt\"],\"CoinName\":[\"42 Coin\",\"404Coin\",\"EliteCoin\",\"Bitcoin\",\"Ethereum\",\"Litecoin\",\"Dash\",\"Monero\",\"Ethereum Classic\",\"ZCash\",\"Bitshares\",\"DigiByte\",\"BitcoinDark\",\"PayCoin\",\"ProsperCoin\",\"KoboCoin\",\"Spreadcoin\",\"Argentum\",\"Aurora Coin\",\"BlueCoin\",\"MyriadCoin\",\"MoonCoin\",\"ZetaCoin\",\"SexCoin\",\"Quatloo\",\"EnergyCoin\",\"QuarkCoin\",\"Riecoin\",\"Digitalcoin \",\"BitBar\",\"Catcoin\",\"CryptoBullion\",\"CannaCoin\",\"CryptCoin\",\"CasinoCoin\",\"Diamond\",\"Verge\",\"DevCoin\",\"EarthCoin\",\"E-Gulden\",\"Einsteinium\",\"Emerald\",\"Exclusive Coin\",\"FlutterCoin\",\"Franko\",\"FeatherCoin\",\"GrandCoin\",\"GlobalCoin\",\"GoldCoin\",\"HoboNickels\",\"HyperStake\",\"Infinite Coin\",\"IOCoin\",\"IXcoin\",\"KrugerCoin\",\"LuckyCoin\",\"Litebar \",\"MaxCoin\",\"MegaCoin\",\"MediterraneanCoin\",\"MintCoin\",\"MinCoin\",\"MazaCoin\",\"Nautilus Coin\",\"NavCoin\",\"NobleCoin\",\"Namecoin\",\"NyanCoin\",\"OpalCoin\",\"Orbitcoin\",\"PotCoin\",\"PhoenixCoin\",\"Reddcoin\",\"RonPaulCoin\",\"StableCoin\",\"SmartCoin\",\"SuperCoin\",\"SyncCoin\",\"SysCoin\",\"TeslaCoin\",\"TigerCoin\",\"TittieCoin\",\"TorCoin\",\"TerraCoin\",\"UnbreakableCoin\",\"Unobtanium\",\"UroCoin\",\"UnitaryStatus Dollar\",\"UltraCoin\",\"ViaCoin\",\"VeriCoin\",\"Vertcoin\",\"WorldCoin\",\"X11 Coin\",\"Crypti\",\"JouleCoin\",\"StealthCoin\",\"ZCC Coin\",\"ByteCoin\",\"DigitalNote \",\"BurstCoin\",\"StorjCoin\",\"MonaCoin\",\"Neutron\",\"FairCoin\",\"Gulden\",\"RubyCoin\",\"PesetaCoin\",\"Kore\",\"Wild Beast Coin\",\"Dnotes\",\"Flo\",\"8BIT Coin\",\"Sativa Coin\",\"ArtByte\",\"Folding Coin\",\"Ucoin\",\"Unitus\",\"CypherPunkCoin\",\"OmniCron\",\"Vtorrent\",\"GreenCoin\",\"Cryptonite\",\"MasterCoin\",\"SoonCoin\",\"1Credit\",\"IslaCoin\",\"Nexus\",\"MarsCoin \",\"Crypto\",\"Anarchists Prime\",\"Droidz\",\"BowsCoin\",\"Squall Coin\",\"Song Coin\",\"BitZeny\",\"Diggits\",\"Expanse\",\"Paycon\",\"Siacoin\",\"Emercoin\",\"EverGreenCoin\",\"MindCoin\",\"I0coin\",\"Decred\",\"Revolution VR\",\"HOdlcoin\",\"EDRCoin\",\"Hitcoin\",\"Gamecredits\",\"DubaiCoin\",\"CarpeDiemCoin\",\"PWR Coin\",\"BillaryCoin\",\"GPU Coin\",\"Adzcoin\",\"SoilCoin\",\"YoCoin\",\"SibCoin\",\"EuropeCoin\",\"ZeitCoin\",\"SwingCoin\",\"SafeExchangeCoin\",\"Nebuchadnezzar\",\"Francs\",\"BolivarCoin\",\"Ratecoin\",\"Revenu\",\"Clockcoin\",\"VIP Tokens\",\"BitSend\",\"Omni\",\"Let it Ride\",\"PutinCoin\",\"iBankCoin\",\"Frankywillcoin\",\"MudraCoin\",\"PizzaCoin\",\"Lutetium Coin\",\"Komodo\",\"GoldBlocks\",\"CarterCoin\",\"Karbo\",\"BitTokens\",\"ZayedCoin\",\"MustangCoin\",\"ZoneCoin\",\"Circuits of Value\",\"RootCoin\",\"DopeCoin\",\"BitCurrency\",\"DollarCoin\",\"Swiscoin\",\"Shilling\",\"BuzzCoin\",\"Opair\",\"PesoBit\",\"Halloween Coin\",\"ZCoin\",\"CoffeeCoin\",\"RoyalCoin\",\"GanjaCoin V2\",\"TeamUP\",\"LanaCoin\",\"Elementrem\",\"ZClassic\",\"ARK\",\"InsaneCoin\",\"KiloCoin\",\"ArtexCoin\",\"EmberCoin\",\"XenixCoin\",\"FreeCoin\",\"PLNCoin\",\"AquariusCoin\",\"Kurrent\",\"Creatio\",\"Eternity\",\"Eurocoin\",\"BitcoinFast\",\"Stakenet\",\"BitConnect Coin\",\"MoneyCoin\",\"Enigma\",\"Cannabis Industry Coin\",\"Russiacoin\",\"PandaCoin\",\"GameUnits\",\"GAKHcoin\",\"Allsafe\",\"LiteCreed\",\"OsmiumCoin\",\"Bikercoins\",\"HexxCoin\",\"Klingon Empire Darsek\",\"Internet of People\",\"KushCoin\",\"Printerium\",\"PacCoin\",\"Impeach\",\"Citadel\",\"Zilbercoin\",\"FirstCoin\",\"BeaverCoin\",\"FindCoin\",\"VaultCoin\",\"Zero\",\"OpenChat\",\"Canada eCoin\",\"Zoin\",\"RenosCoin\",\"DubaiCoin\",\"VirtacoinPlus\",\"TajCoin\",\"Impact\",\"EB3coin\",\"Atmos\",\"HappyCoin\",\"Coinonat\",\"MacronCoin\",\"Condensate\",\"Independent Money System\",\"ArgusCoin\",\"LomoCoin\",\"ProCurrency\",\"GoldReserve\",\"BenjiRolls\",\"GrowthCoin\",\"ILCoin\",\"Phreak\",\"Degas Coin\",\"HTML5 Coin\",\"Ultimate Secure Cash\",\"EquiTrader\",\"QTUM\",\"Quantum Resistant Ledger\",\"Espers\",\"Dynamic\",\"Nano\",\"ChanCoin\",\"Dinastycoin\",\"Denarius\",\"DigitalPrice\",\"Virta Unique Coin\",\"Bitcoin Planet\",\"Unify\",\"BritCoin\",\"SocialCoin\",\"ArcticCoin\",\"DAS\",\"Linda\",\"LeviarCoin\",\"DeepOnion\",\"Bitcore\",\"gCn Coin\",\"SmartCash\",\"Signatum\",\"Onix\",\"Cream\",\"Bitcoin Cash\",\"Monoeci\",\"Draftcoin\",\"Vechain\",\"Sojourn Coin\",\"Stakecoin\",\"NewYorkCoin\",\"FrazCoin\",\"Kronecoin\",\"AdCoin\",\"Linx\",\"CoinonatX\",\"Ethereum Dark\",\"Sumokoin\",\"Obsidian\",\"Cardano\",\"Regalcoin\",\"BitcoinZ\",\"TrezarCoin\",\"Elements\",\"TerraNovaCoin\",\"VIVO Coin\",\"Rupee\",\"Bitcoin Gold\",\"WomenCoin\",\"Theresa May Coin\",\"NamoCoin\",\"LUXCoin\",\"Pirl\",\"Xios\",\"Bitcloud 2.0\",\"eBoost\",\"KekCoin\",\"BlackholeCoin\",\"Infinity Economics\",\"Pura\",\"Innova\",\"Ellaism\",\"GoByte\",\"Magnet\",\"Lamden Tau\",\"Electra\",\"Bitcoin Diamond\",\"SHIELD\",\"Cash & Back Coin\",\"UltraNote\",\"BitCoal\",\"DaxxCoin\",\"Bulwark\",\"Kalkulus\",\"AC3\",\"Lethean\",\"GermanCoin\",\"LiteCoin Ultra\",\"PopularCoin\",\"PhantomX\",\"Photon\",\"Sucre\",\"SparksPay\",\"Digiwage\",\"GunCoin\",\"IrishCoin\",\"Trollcoin\",\"Litecoin Plus\",\"Monkey Project\",\"Pioneer Coin\",\"UnitedBitcoin\",\"Interzone\",\"TokenPay\",\"1717 Masonic Commemorative Token\",\"My Big Coin\",\"TurtleCoin\",\"MUNcoin\",\"Unified Society USDEX\",\"Niobio Cash\",\"ShareChain\",\"Travelflex\",\"KREDS\",\"Tokyo Coin\",\"BiblePay\",\"LitecoinCash\",\"BitFlip\",\"LottoCoin\",\"Crypto Improvement Fund\",\"Stipend\",\"Poa Network\",\"Pushi\",\"Ellerium\",\"Velox\",\"Ontology\",\"Callisto Network\",\"BitTube\",\"Poseidon\",\"Aidos Kuneen\",\"Bitspace\",\"Briacoin\",\"Ignition\",\"Bitrolium\",\"MedicCoin\",\"Alpenschillling\",\"Bitcoin Green\",\"Deviant Coin\",\"Abjcoin\",\"Semux\",\"FuturoCoin\",\"Carebit\",\"Zealium\",\"Monero Classic\",\"Proton\",\"iDealCash\",\"Jumpcoin\",\"Infinex\",\"Bitcoin Incognito\",\"KEYCO\",\"HollyWoodCoin\",\"GINcoin\",\"PlatinCoin\",\"Loki\",\"Newton Coin\",\"Swisscoin\",\"Xt3ch\",\"MassGrid\",\"TheVig\",\"PluraCoin\",\"EmaratCoin\",\"Dekado\",\"Lynx\",\"Poseidon Quark\",\"BitcoinWSpectrum\",\"Muse\",\"Motion\",\"PlusOneCoin\",\"Axe\",\"Trivechain\",\"Dystem\",\"Giant\",\"Peony Coin\",\"Absolute Coin\",\"Vitae\",\"HexCoin\",\"TPCash\",\"Webchain\",\"Ryo\",\"Urals Coin\",\"Qwertycoin\",\"ARENON\",\"EUNO\",\"MMOCoin\",\"Ketan\",\"Project Pai\",\"XDNA\",\"PAXEX\",\"Azart\",\"ThunderStake\",\"Kcash\",\"Xchange\",\"Acute Angle Cloud\",\"CrypticCoin\",\"Bettex coin\",\"Actinium\",\"Bitcoin SV\",\"BitMoney\",\"Junson Ming Chan Coin\",\"FREDEnergy\",\"HerbCoin\",\"Universal Molecule\",\"Lithium\",\"PirateCash\",\"Exosis\",\"Block-Logic\",\"Oduwa\",\"Beam\",\"Galilel\",\"Bithereum\",\"Crypto Sports\",\"Credit\",\"SLICE\",\"Dash Platinum\",\"Nasdacoin\",\"Beetle Coin\",\"Titan Coin\",\"Award\",\"BLAST\",\"Bitcoin Rhodium\",\"GlobalToken\",\"Insane Coin\",\"ALAX\",\"LiteDoge\",\"SolarCoin\",\"TruckCoin\",\"UFO Coin\",\"OrangeCoin\",\"BlakeCoin\",\"BitstarCoin\",\"NeosCoin\",\"HyperCoin\",\"PinkCoin\",\"Crypto Escudo\",\"AudioCoin\",\"IncaKoin\",\"Piggy Coin\",\"Crown Coin\",\"Genstake\",\"SmileyCoin\",\"XiaoMiCoin\",\"Groestlcoin\",\"CapriCoin\",\" ClubCoin\",\"Radium\",\"Bata\",\"Pakcoin\",\"Creditbit \",\"OKCash\",\"Lisk\",\"HiCoin\",\"WhiteCoin\",\"FriendshipCoin\",\"Fiii\",\"JoinCoin\",\"Triangles Coin\",\"Vollar\",\"EOS\",\"Reality Clash\",\"Oxycoin\",\"TigerCash\",\"Waves\",\"Particl\",\"BitTorrent\",\"Nxt\",\"ZEPHYR\",\"Gapcoin\",\"Beldex\",\"Horizen\",\"BitcoinPlus\"],\"ProofType\":[\"PoW/PoS\",\"PoW/PoS\",\"PoW/PoS\",\"PoW\",\"PoW\",\"PoW\",\"PoW/PoS\",\"PoW\",\"PoW\",\"PoW\",\"PoS\",\"PoW\",\"PoW/PoS\",\"PoS\",\"PoW\",\"PoW/PoS\",\"PoW\",\"PoW\",\"PoW/PoS\",\"PoW/PoS\",\"PoW\",\"PoW\",\"PoW\",\"PoW\",\"PoW\",\"PoW/PoS\",\"PoW\",\"PoW\",\"PoW\",\"PoW/PoS\",\"PoW\",\"PoW/PoS\",\"PoW\",\"PoW\",\"PoC\",\"PoW/PoS\",\"PoW\",\"PoW\",\"PoW\",\"PoW\",\"PoW\",\"PoW\",\"PoS\",\"PoS/PoW/PoT\",\"PoW\",\"PoW\",\"PoW\",\"PoW\",\"PoW\",\"PoW/PoS\",\"PoS\",\"PoW\",\"PoW/PoS\",\"PoW\",\"PoW\",\"PoW\",\"PoW\",\"PoW/PoS\",\"PoW\",\"PoW\",\"PoS\",\"PoW\",\"PoW/PoS\",\"PoS\",\"PoW/PoS\",\"PoW\",\"PoW\",\"PoW\",\"PoW/PoS\",\"PoW/PoS\",\"PoW/PoS\",\"PoW/PoS\",\"PoW/PoS\",\"PoW\",\"PoW\",\"PoW\",\"PoS\",\"PoW/PoS\",\"PoW\",\"PoS\",\"PoW\",\"PoS\",\"PoW/PoS\",\"PoW\",\"PoW\",\"PoW\",\"PoW\",\"PoW/PoS\",\"PoW/PoS\",\"PoW\",\"PoST\",\"PoW\",\"PoW\",\"PoW/PoS\",\"PoS\",\"PoW\",\"PoW/PoS\",\"PoW/PoS\",\"PoW\",\"PoW\",\"PoC\",\"PoS\",\"PoW\",\"PoW/PoS\",\"PoW/PoS\",\"PoW\",\"PoS\",\"PoW\",\"PoW/PoS\",\"PoW\",\"PoS\",\"PoW\",\"PoW/PoS\",\"PoW/PoS\",\"PoW\",\"PoW\",\"PoS\",\"PoW\",\"PoW\",\"PoW\",\"PoW/PoS\",\"PoW\",\"PoW\",\"PoW\",\"PoW\",\"PoW\",\"PoW/PoS\",\"PoW/nPoS\",\"PoW\",\"PoW\",\"PoW\",\"PoW/PoS\",\"PoW\",\"PoS/PoW\",\"PoW\",\"PoW\",\"PoS\",\"PoW\",\"PoW/PoS\",\"PoW\",\"PoW/PoS\",\"PoW/PoS\",\"PoW\",\"PoW\",\"PoW/PoS\",\"PoW\",\"PoW\",\"PoW/PoS\",\"PoW/PoS\",\"PoW\",\"PoW/PoS\",\"PoW\",\"PoW/PoS\",\"PoW/PoS\",\"PoS\",\"PoW\",\"PoW\",\"PoW\",\"PoW\",\"PoW/PoS\",\"PoS\",\"PoW/PoS\",\"PoC\",\"PoS\",\"PoW\",\"PoW\",\"PoW/PoS\",\"PoW/PoS\",\"PoW/PoS\",\"PoW/PoS\",\"PoW/PoS\",\"PoW\",\"PoS\",\"PoW/PoS\",\"PoW/PoS\",\"PoW/PoS\",\"PoS\",\"PoW\",\"PoS\",\"dPoW/PoW\",\"PoW/PoS\",\"PoW/PoS\",\"PoW\",\"PoW/PoS\",\"PoW\",\"PoW/PoS\",\"PoW/PoS\",\"PoW\",\"PoW/PoS\",\"PoW\",\"PoS\",\"PoW\",\"PoW/PoW\",\"PoW\",\"PoW/PoS\",\"PoS\",\"PoW/PoS\",\"PoW/PoS\",\"PoW\",\"PoS\",\"PoS\",\"PoW/PoS\",\"PoS\",\"PoW/PoS\",\"PoW\",\"PoW\",\"DPoS\",\"PoW/PoS\",\"PoW\",\"PoW\",\"PoW/PoS\",\"PoW/PoS\",\"PoS\",\"PoW/PoS\",\"PoW/PoS\",\"PoW\",\"PoS\",\"PoW/PoS\",\"PoW/PoS\",\"PoW/PoS\",\"TPoS\",\"PoW/PoS\",\"PoW/PoS\",\"PoW/PoS\",\"PoW\",\"PoW/PoS\",\"PoS\",\"PoW/PoS\",\"PoW/PoS\",\"PoS\",\"PoW/PoS\",\"PoW\",\"PoW\",\"PoW\",\"PoW/PoS\",\"PoW/PoS\",\"PoW/PoS\",\"PoW/PoS\",\"PoW\",\"PoW/PoS\",\"PoW\",\"PoS\",\"PoW/PoS \",\"PoW\",\"PoS\",\"PoW\",\"PoW\",\"PoW/PoS\",\"PoW\",\"PoW\",\"PoS\",\"PoW\",\"PoW/PoS\",\"PoW/PoS\",\"PoW/PoS\",\"PoW\",\"PoS\",\"PoW/PoS\",\"PoW\",\"PoS\",\"PoW/PoS\",\"PoW/PoS\",\"PoW/PoS\",\"PoW/PoS\",\"PoS\",\"PoW/PoS\",\"PoW\",\"PoS\",\"PoW\",\"PoS\",\"PoW/PoS\",\"PoW/PoS\",\"PoS\",\"PoW\",\"PoS\",\"PoW\",\"PoW/PoS\",\"PoW\",\"PoW\",\"PoW\",\"PoW\",\"PoW/PoS\",\"PoW\",\"PoW/PoS\",\"PoW/PoS\",\"PoW\",\"PoW/PoS\",\"PoW\",\"PoW\",\"PoW\",\"PoW/PoS\",\"PoW\",\"PoW/PoS\",\"PoW\",\"PoW\",\"PoW\",\"PoS\",\"PoW\",\"PoW/PoS\",\"PoW\",\"PoW/PoS\",\"PoS\",\"Proof of Authority\",\"PoW\",\"PoS\",\"PoW\",\"PoW\",\"PoW\",\"PoW\",\"PoW\",\"PoW/PoS\",\"PoW/PoS\",\"PoW\",\"PoS\",\"PoS\",\"PoW/PoS\",\"PoW\",\"PoW/PoS\",\"PoW\",\"PoW/PoS\",\"PoW\",\"PoS\",\"PoW\",\"PoW/PoS\",\"PoW/PoS\",\"PoW/PoS\",\"PoW/PoS\",\"PoW\",\"PoW/PoS\",\"PoW/PoS\",\"PoW\",\"PoS\",\"PoW/PoS\",\"PoS\",\"PoW\",\"PoW\",\"PoW\",\"PoW\",\"PoW/PoS\",\"DPoS\",\"PoW/PoS\",\"PoW/PoS\",\"PoW\",\"PoW/PoS\",\"PoW\",\"PoW\",\"PoW\",\"PoS\",\"PoS\",\"PoW\",\"PoW\",\"PoW/PoS\",\"PoW/PoS\",\"PoW\",\"PoW/PoS\",\"PoW\",\"PoW\",\"PoW\",\"PoS\",\"PoW\",\"PoW\",\"PoW/PoS\",\"PoW/PoS\",\"PoS\",\"PoW\",\"PoW\",\"PoW\",\"PoS\",\"PoS\",\"PoW and PoS\",\"PoW\",\"PoW\",\"PoW/PoS\",\"PoW\",\"PoW\",\"PoW\",\"PoW\",\"PoS\",\"POBh\",\"PoW + Hive\",\"PoW\",\"PoW\",\"PoW\",\"PoW/PoS\",\"PoA\",\"PoW/PoS\",\"PoW/PoS\",\"PoS\",\"PoS\",\"PoW\",\"PoW\",\"PoW\",\"PoW\",\"PoW/PoS\",\"PoW/PoS\",\"PoW/PoS\",\"PoW\",\"PoS\",\"PoW\",\"PoS\",\"PoS\",\"PoW/PoS\",\"DPoS\",\"PoW\",\"PoW/PoS\",\"PoS\",\"PoW\",\"PoS\",\"PoW/PoS\",\"PoW\",\"PoW\",\"PoS/PoW\",\"PoW\",\"PoS\",\"PoW\",\"PoW\",\"PoW\",\"PoW\",\"PoW/PoS\",\"PoS\",\"PoW\",\"PoW/PoS\",\"PoW\",\"PoW/PoS\",\"PoS\",\"HPoW\",\"PoS\",\"PoS\",\"PoS\",\"PoW\",\"PoW\",\"PoW\",\"PoW/PoS\",\"PoS\",\"PoW/PoS\",\"PoS\",\"PoW/PoS\",\"PoS\",\"PoW\",\"PoW/PoS\",\"PoW\",\"PoW\",\"PoW\",\"PoW\",\"PoS\",\"PoW/PoS\",\"PoS\",\"PoS\",\"PoW\",\"PoW/PoS\",\"PoS\",\"PoW\",\"PoW/PoS\",\"Zero-Knowledge Proof\",\"PoW\",\"DPOS\",\"PoW\",\"PoS\",\"PoW\",\"PoW\",\"Pos\",\"PoS\",\"PoW\",\"PoW/PoS\",\"PoW\",\"PoW\",\"PoS\",\"PoW\",\"PoW\",\"PoW/PoS\",\"PoW\",\"PoW/PoS\",\"PoW\",\"PoS\",\"PoW/PoS\",\"PoW\",\"PoS\",\"PoW/PoS\",\"PoW/PoS\",\"PoW/PoS\",\"PoW/PoS\",\"PoW\",\"PoW\",\"PoW\",\"PoW/PoS\",\"DPoS\",\"PoW/PoS\",\"PoW\",\"PoW/PoS\",\"PoW\",\"PoW/PoS\",\"PoW\",\"PoW/PoS\",\"PoS\",\"PoW/PoS\",\"PoW/PoS\",\"PoW\",\"PoW/PoS\",\"PoW/PoS\",\"PoW/PoS\",\"PoW\",\"PoW/PoS\",\"PoW\",\"PoW/PoS\",\"PoW\",\"PoW/PoS\",\"PoW/PoS\",\"PoS\",\"PoW\",\"PoW\",\"Proof of Trust\",\"PoW/PoS\",\"DPoS\",\"PoS\",\"PoW/PoS\",\"PoW/PoS\",\"DPoC\",\"PoW\",\"PoW/PoS\",\"PoW\",\"DPoS\",\"PoW\",\"DPoS\",\"PoS\",\"LPoS\",\"PoS\",\"DPoS\",\"PoS/LPoS\",\"DPoS\",\"PoW/PoS\",\"PoW\",\"PoW\",\"PoS\"],\"TotalCoinSupply\":[\"42\",\"532000000\",\"314159265359\",\"21000000\",\"0\",\"84000000\",\"22000000\",\"0\",\"210000000\",\"21000000\",\"3600570502\",\"21000000000\",\"22000000\",\"12500000\",\"21000000\",\"350000000\",\"20000000\",\"64000000\",\"16768584\",\"0\",\"2000000000\",\"384000000000\",\"169795588\",\"250000000\",\"100000000\",\"0\",\"247000000\",\"84000000\",\"48166000\",\"500000\",\"21000000 \",\"1000000\",\"13140000\",\"18000000\",\"40000000000\",\"4380000\",\"16555000000\",\"21000000000\",\"13500000000\",\"21000000 \",\"299792458\",\"32000000\",\"0\",\"0\",\"11235813\",\"336000000\",\"1420609614\",\"70000000\",\"72245700\",\"120000000\",\"0\",\"90600000000\",\"22000000\",\"21000000\",\"265420800\",\"20000000\",\"1350000\",\"100000000\",\"42000000\",\"200000000\",\"0\",\"10000000\",\"2419200000\",\"16180000\",\"0\",\"15000000000\",\"21000000\",\"337000000\",\"0\",\"3770000\",\"420000000\",\"98000000\",\"0\",\"21000000\",\"250000000\",\"51200000\",\"0\",\"1000\",\"888000000\",\"100000000\",\"47011968\",\"2300000000\",\"10000000\",\"42000000\",\"80000000\",\"250000\",\"0\",\"1600000000\",\"100000000\",\"23000000\",\"0\",\"84000000\",\"265420800\",\"5500000\",\"0\",\"45000000\",\"0\",\"1000000000\",\"184467440735\",\"10000000000\",\"2158812800\",\"500000000\",\"105120000\",\"68000000\",\"0\",\"1680000000\",\"0\",\"166386000\",\"12000000\",\"2628000\",\"500000000\",\"160000000\",\"0\",\"10000000\",\"1000000000\",\"1000000000\",\"20000000\",\"0\",\"0\",\"3371337\",\"20000000\",\"10000000000\",\"1840000000\",\"619478\",\"21000000\",\"92000000000\",\"0\",\"78000000\",\"33000000\",\"65789100\",\"53760000\",\"5060000\",\"21000000\",\"0\",\"210240000\",\"250000000\",\"100000000\",\"16906397\",\"50000000\",\"0\",\"1000000000\",\"26298000\",\"16000000\",\"21000000\",\"21000000\",\"210000000\",\"81962100\",\"22000000\",\"26550000000\",\"84000000\",\"10500000\",\"21626280000 \",\"0\",\"42000000\",\"221052632\",\"84000000\",\"30000000\",\"168351300\",\"24000000\",\"384000000\",\" 99000000000\",\"40000000\",\"2147483647\",\"20000000\",\"20000000\",\"25000000\",\"75000000\",\"222725000\",\"525000000\",\"90000000\",\"139000000\",\"616448\",\"33500000\",\"2000000000\",\"44333333\",\"100000000\",\"200000000\",\"25000000\",\"657000000\",\"200000000\",\"50000000\",\"90000000\",\"10000000\",\"21000000\",\"9736000\",\"3000000\",\"21000000\",\"1200000000\",\"0\",\"200000000\",\"0\",\"10638298\",\"3100000000\",\"30000000\",\"20000000000\",\"74000000\",\"0\",\"1500000000\",\"21400000\",\"39999898\",\"2500124\",\"100000000\",\"301000000\",\"7506000000\",\"26205539\",\"21000000\",\"125000000\",\"30000000\",\"10000000000\",\"500000000\",\"850000000\",\"3853326.77707314\",\"50000000\",\"38540000 \",\"42000000\",\"228000000\",\"20000000\",\"60000000\",\"20000000\",\"33000000\",\"76500000\",\"28000000\",\"650659833\",\"5000000\",\"21000000\",\"144000000\",\"32514916898\",\"13000000\",\"3315789\",\"15000000\",\"78835200\",\"2714286\",\"25000000\",\"9999999\",\"500000000\",\"21000000\",\"9354000\",\"20000000\",\"100000000000\",\"21933333\",\"185000000\",\"55000000\",\"110000000\",\"3360000\",\"14524851.4827\",\"1000000000\",\"17000000\",\"1000000000\",\"100000000 \",\"21000000\",\"34426423\",\"2232901\",\"100000000\",\"36900000\",\"110000000\",\"4000000000\",\"110290030\",\"100000000\",\"48252000\",\"400000000\",\"500000000\",\"21212121\",\"28600000\",\"1000000000\",\"75000000000\",\"40000000\",\"35520400\",\"2000000000\",\"2500000000\",\"30000000\",\"105000000\",\"90000000000\",\"200084200\",\"72000000\",\"100000000\",\"105000000\",\"50000000000\",\"0\",\"340282367\",\"30000000\",\"2000000000\",\"10000000\",\"100000000\",\"120000000\",\"100000000\",\"19276800\",\"30000000\",\" 75000000\",\"60000000\",\"18900000\",\"50000000000\",\"54000000\",\"18898187.6216583\",\"21000000\",\"200000000000\",\"5000000000\",\"137500000\",\"1100000000\",\"100000000\",\"21000000\",\"9507271\",\"17405891.19707116\",\"86712634466\",\"10500000000\",\"61599965\",\"0\",\"20000000\",\"84000000\",\"100000000\",\"100000000\",\"48252000\",\"4200000\",\"88888888\",\"91388946\",\"45000000000\",\"27000000\",\"21000000000\",\"400000000\",\"1800000000\",\"15733333\",\"27000000\",\"24000000\",\"21000000\",\"25000000000\",\"100000000\",\"1200000000\",\"60000000\",\"156306732.71\",\"21000000\",\"200000000\",\"100000000\",\"21000000\",\"14788275.991\",\"9000000000\",\"350000000\",\"45000000\",\"280000000\",\"31800000\",\"144000000\",\"500000000\",\"30000000000\",\"210000000\",\"660000000\",\"210000000\",\"85000000000\",\"12500000\",\"10000000000\",\"27716121\",\"20000000\",\"550000000\",\"999481516\",\"50000000000\",\"150000000\",\"4999999999\",\"50000000\",\" 90000000000\",\"19800000\",\"21000000\",\"120000000\",\"500000000\",\"64000000\",\"900000000\",\"4000000\",\"21000000\",\"23000000\",\"20166000\",\"23000000\",\"25000000\",\"1618033\",\"30000000\",\"1000000000000\",\"16600000\",\"232000000\",\"336000000\",\"10000000000\",\"100000000\",\"1100000000\",\"800000000\",\"5200000000\",\"840000000\",\"40000000\",\"18406979840\",\"500000000\",\"19340594\",\"252460800\",\"25000000\",\"60000000\",\"124000000\",\"1000000000\",\"6500000000\",\"1000000000\",\"21000000\",\"25000000\",\"50000000\",\"3000000\",\"5000000\",\"70000000\",\"500000000\",\"300000000\",\"21000000\",\"88000000\",\"30000000\",\"100000000\",\"100000000\",\"200000000\",\"80000000\",\"18400000\",\"45000000\",\"5121951220\",\"21000000\",\"26280000\",\"21000000\",\"18000000\",\"26000000\",\"10500000\",\"600000518\",\"150000000\",\"184000000000\",\"10200000000\",\"44000000\",\"168000000\",\"100000000\",\"1000000000\",\"84000000\",\"90000000\",\"92000000000\",\"650000000 \",\"100262205\",\"18081806 \",\"22075700\",\"21000000\",\"21000000\",\"82546564\",\"21000000\",\"5151000\",\"16880000000\",\"52500000\",\"100000000\",\"22105263\",\"1000000000\",\"1750000000\",\"88188888\",\"210000000\",\"184470000000\",\"55000000\",\"50000000\",\"260000000\",\"210000000\",\"2100000000\",\"366000000\",\"100000000\",\"25000000\",\"18000000000\",\"1000000000\",\"100000000\",\"1000000000\",\"7600000000\",\"50000000\",\"84000000\",\"21000000\",\"70000000000\",\"0\",\"8080000000\",\"54000000\",\"105120001.44\",\"25228800\",\"105000000\",\"21000000\",\"120000000\",\"21000000\",\"262800000\",\"19035999\",\"30886000\",\"13370000\",\"74800000000\",\"100000000\",\"19700000\",\"84000000\",\"500000000\",\"5000000000\",\"420000000\",\"64000000\",\"2100000\",\"168000000\",\"30000000\",\"1000000000\",\"35000000000\",\"98100000000\",\"0\",\"4000000000\",\"200000000\",\"7000000000\",\"54256119\",\"21000000\",\"0\",\"500000000\",\"1000000000\",\"10500000000\",\"190000000\",\"1000000000\",\"42000000\",\"15000000\",\"50000000000\",\"400000000\",\"105000000\",\"208000000\",\"160000000\",\"9000000\",\"5000000\",\"182000000\",\"16504333\",\"105000000\",\"159918400\",\"10008835635\",\"300000000\",\"60168145\",\"5000000000\",\"2800000\",\"120000\",\"2100000000\",\"0\",\"24487944\",\"0\",\"1000000000\",\"100000000\",\"8634140\",\"990000000000\",\"1000000000\",\"2000000000\",\"250000000\",\"1400222610\",\"21000000\",\"1000000\"],\"TotalCoinsMined\":{\"__ndarray__\":\"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\",\"dtype\":\"float64\",\"order\":\"little\",\"shape\":[533]},\"class\":{\"__ndarray__\":\"AAAAAAAAAAAAAAAAAQAAAAEAAAABAAAAAAAAAAEAAAABAAAAAQAAAAAAAAABAAAAAAAAAAAAAAABAAAAAAAAAAEAAAABAAAAAAAAAAAAAAABAAAAAQAAAAEAAAABAAAAAQAAAAAAAAABAAAAAQAAAAEAAAAAAAAAAQAAAAAAAAABAAAAAQAAAAAAAAAAAAAAAQAAAAEAAAABAAAAAQAAAAEAAAABAAAAAAAAAAAAAAABAAAAAQAAAAEAAAABAAAAAQAAAAAAAAAAAAAAAQAAAAAAAAABAAAAAQAAAAEAAAABAAAAAAAAAAEAAAABAAAAAAAAAAEAAAAAAAAAAAAAAAAAAAABAAAAAQAAAAEAAAAAAAAAAAAAAAAAAAAAAAAAAAAAAAEAAAABAAAAAQAAAAAAAAAAAAAAAQAAAAAAAAABAAAAAAAAAAAAAAABAAAAAQAAAAEAAAABAAAAAAAAAAAAAAABAAAAAAAAAAEAAAABAAAAAAAAAAAAAAABAAAAAAAAAAAAAAABAAAAAQAAAAAAAAAAAAAAAQAAAAAAAAAAAAAAAQAAAAAAAAABAAAAAAAAAAEAAAAAAAAAAQAAAAAAAAAAAAAAAQAAAAEAAAAAAAAAAQAAAAEAAAABAAAAAAAAAAEAAAABAAAAAQAAAAEAAAABAAAAAAAAAAAAAAABAAAAAQAAAAEAAAAAAAAAAQAAAAAAAAABAAAAAQAAAAAAAAABAAAAAAAAAAEAAAAAAAAAAAAAAAEAAAABAAAAAAAAAAEAAAABAAAAAAAAAAAAAAABAAAAAAAAAAEAAAAAAAAAAAAAAAAAAAABAAAAAQAAAAEAAAABAAAAAAAAAAAAAAAAAAAAAAAAAAAAAAABAAAAAQAAAAAAAAAAAAAAAAAAAAAAAAAAAAAAAQAAAAAAAAAAAAAAAAAAAAAAAAAAAAAAAQAAAAAAAAABAAAAAAAAAAAAAAABAAAAAAAAAAEAAAAAAAAAAAAAAAEAAAAAAAAAAQAAAAAAAAABAAAAAAAAAAEAAAAAAAAAAAAAAAAAAAAAAAAAAQAAAAAAAAAAAAAAAAAAAAAAAAAAAAAAAQAAAAEAAAAAAAAAAAAAAAEAAAABAAAAAAAAAAAAAAAAAAAAAAAAAAAAAAABAAAAAAAAAAAAAAAAAAAAAAAAAAAAAAAAAAAAAAAAAAAAAAABAAAAAAAAAAAAAAAAAAAAAAAAAAAAAAAAAAAAAQAAAAEAAAABAAAAAAAAAAAAAAAAAAAAAAAAAAEAAAAAAAAAAQAAAAAAAAAAAAAAAQAAAAAAAAABAAAAAQAAAAAAAAABAAAAAQAAAAAAAAABAAAAAAAAAAAAAAAAAAAAAQAAAAAAAAAAAAAAAQAAAAAAAAAAAAAAAAAAAAAAAAAAAAAAAAAAAAAAAAABAAAAAAAAAAEAAAAAAAAAAAAAAAAAAAAAAAAAAQAAAAAAAAABAAAAAAAAAAEAAAABAAAAAQAAAAEAAAAAAAAAAQAAAAAAAAAAAAAAAQAAAAAAAAABAAAAAQAAAAEAAAAAAAAAAQAAAAAAAAABAAAAAQAAAAEAAAAAAAAAAQAAAAAAAAABAAAAAAAAAAAAAAAAAAAAAQAAAAAAAAABAAAAAQAAAAEAAAABAAAAAQAAAAAAAAAAAAAAAQAAAAAAAAAAAAAAAAAAAAEAAAAAAAAAAQAAAAAAAAABAAAAAAAAAAEAAAAAAAAAAAAAAAAAAAAAAAAAAQAAAAAAAAAAAAAAAQAAAAAAAAAAAAAAAAAAAAEAAAABAAAAAQAAAAEAAAAAAAAAAAAAAAAAAAAAAAAAAQAAAAAAAAABAAAAAQAAAAEAAAAAAAAAAAAAAAEAAAABAAAAAAAAAAAAAAABAAAAAAAAAAEAAAABAAAAAQAAAAAAAAABAAAAAQAAAAAAAAAAAAAAAAAAAAEAAAABAAAAAQAAAAAAAAAAAAAAAAAAAAEAAAABAAAAAAAAAAEAAAABAAAAAQAAAAEAAAAAAAAAAwAAAAMAAAABAAAAAQAAAAEAAAAAAAAAAwAAAAAAAAAAAAAAAAAAAAAAAAABAAAAAQAAAAEAAAABAAAAAAAAAAAAAAAAAAAAAQAAAAAAAAABAAAAAAAAAAAAAAAAAAAAAAAAAAEAAAAAAAAAAAAAAAEAAAAAAAAAAAAAAAEAAAABAAAAAAAAAAEAAAAAAAAAAQAAAAEAAAABAAAAAQAAAAAAAAAAAAAAAQAAAAAAAAABAAAAAAAAAAAAAAAAAAAAAAAAAAAAAAAAAAAAAQAAAAEAAAABAAAAAAAAAAAAAAAAAAAAAAAAAAAAAAAAAAAAAQAAAAAAAAABAAAAAQAAAAEAAAABAAAAAAAAAAAAAAAAAAAAAAAAAAEAAAAAAAAAAAAAAAEAAAAAAAAAAAAAAAEAAAADAAAAAQAAAAAAAAABAAAAAQAAAAAAAAAAAAAAAQAAAAAAAAABAAAAAQAAAAAAAAABAAAAAQAAAAAAAAABAAAAAAAAAAEAAAAAAAAAAAAAAAEAAAAAAAAAAAAAAAAAAAAAAAAAAAAAAAEAAAABAAAAAQAAAAAAAAAAAAAAAAAAAAEAAAAAAAAAAQAAAAAAAAABAAAAAAAAAAAAAAAAAAAAAAAAAAEAAAAAAAAAAAAAAAAAAAABAAAAAAAAAAEAAAAAAAAAAQAAAAAAAAAAAAAAAAAAAAEAAAABAAAAAAAAAAAAAAAAAAAAAAAAAAAAAAAAAAAAAwAAAAEAAAAAAAAAAQAAAAAAAAABAAAAAAAAAAAAAAADAAAAAAAAAAIAAAAAAAAAAAAAAAAAAAABAAAAAQAAAAAAAAA=\",\"dtype\":\"int32\",\"order\":\"little\",\"shape\":[533]}},\"selected\":{\"id\":\"1477\"},\"selection_policy\":{\"id\":\"1512\"}},\"id\":\"1476\",\"type\":\"ColumnDataSource\"},{\"attributes\":{\"source\":{\"id\":\"1476\"}},\"id\":\"1510\",\"type\":\"CDSView\"}],\"root_ids\":[\"1474\"]},\"title\":\"Bokeh Application\",\"version\":\"2.3.2\"}};\n",
       "    var render_items = [{\"docid\":\"0bcbee1e-82c3-4e4d-a7ba-fbaeef400f1d\",\"root_ids\":[\"1474\"],\"roots\":{\"1474\":\"6a31a7d3-667e-4017-a510-3dbf2c0ca2ed\"}}];\n",
       "    root.Bokeh.embed.embed_items_notebook(docs_json, render_items);\n",
       "  }\n",
       "  if (root.Bokeh !== undefined && root.Bokeh.Panel !== undefined) {\n",
       "    embed_document(root);\n",
       "  } else {\n",
       "    var attempts = 0;\n",
       "    var timer = setInterval(function(root) {\n",
       "      if (root.Bokeh !== undefined && root.Bokeh.Panel !== undefined) {\n",
       "        clearInterval(timer);\n",
       "        embed_document(root);\n",
       "      } else if (document.readyState == \"complete\") {\n",
       "        attempts++;\n",
       "        if (attempts > 200) {\n",
       "          clearInterval(timer);\n",
       "          console.log(\"Bokeh: ERROR: Unable to run BokehJS code because BokehJS library is missing\");\n",
       "        }\n",
       "      }\n",
       "    }, 25, root)\n",
       "  }\n",
       "})(window);</script>"
      ],
      "text/plain": [
       ":Table   [CoinName,Algorithm,ProofType,TotalCoinSupply,TotalCoinsMined,class]"
      ]
     },
     "execution_count": 315,
     "metadata": {
      "application/vnd.holoviews_exec.v0+json": {
       "id": "1474"
      }
     },
     "output_type": "execute_result"
    }
   ],
   "source": [
    "# Print the total number of tradable cryptocurrencies\n",
    "df_merged.hvplot.table(columns)"
   ]
  },
  {
   "cell_type": "markdown",
   "metadata": {},
   "source": [
    "#### Scatter Plot with Tradable Cryptocurrencies"
   ]
  },
  {
   "cell_type": "code",
   "execution_count": 316,
   "metadata": {},
   "outputs": [],
   "source": [
    "# Scale data to create the scatter plot\n",
    "df_merged['TotalCoinsMined'] = df_merged['TotalCoinsMined'].astype(float) / 1000000\n",
    "df_merged['TotalCoinSupply'] = df_merged['TotalCoinSupply'].astype(float) / 1000000"
   ]
  },
  {
   "cell_type": "code",
   "execution_count": 317,
   "metadata": {},
   "outputs": [
    {
     "data": {},
     "metadata": {},
     "output_type": "display_data"
    },
    {
     "data": {
      "application/vnd.holoviews_exec.v0+json": "",
      "text/html": [
       "<div id='1527'>\n",
       "\n",
       "\n",
       "\n",
       "\n",
       "\n",
       "  <div class=\"bk-root\" id=\"82171efa-a94a-46e0-ad78-dc3676c69549\" data-root-id=\"1527\"></div>\n",
       "</div>\n",
       "<script type=\"application/javascript\">(function(root) {\n",
       "  function embed_document(root) {\n",
       "    var docs_json = {\"d2e4209a-8d1f-42dc-9383-52da6944c4c4\":{\"defs\":[{\"extends\":null,\"module\":null,\"name\":\"ReactiveHTML1\",\"overrides\":[],\"properties\":[]},{\"extends\":null,\"module\":null,\"name\":\"FlexBox1\",\"overrides\":[],\"properties\":[{\"default\":\"flex-start\",\"kind\":null,\"name\":\"align_content\"},{\"default\":\"flex-start\",\"kind\":null,\"name\":\"align_items\"},{\"default\":\"row\",\"kind\":null,\"name\":\"flex_direction\"},{\"default\":\"wrap\",\"kind\":null,\"name\":\"flex_wrap\"},{\"default\":\"flex-start\",\"kind\":null,\"name\":\"justify_content\"}]},{\"extends\":null,\"module\":null,\"name\":\"TemplateActions1\",\"overrides\":[],\"properties\":[{\"default\":0,\"kind\":null,\"name\":\"open_modal\"},{\"default\":0,\"kind\":null,\"name\":\"close_modal\"}]},{\"extends\":null,\"module\":null,\"name\":\"MaterialTemplateActions1\",\"overrides\":[],\"properties\":[{\"default\":0,\"kind\":null,\"name\":\"open_modal\"},{\"default\":0,\"kind\":null,\"name\":\"close_modal\"}]}],\"roots\":{\"references\":[{\"attributes\":{\"below\":[{\"id\":\"1541\"}],\"center\":[{\"id\":\"1544\"},{\"id\":\"1548\"}],\"height\":300,\"left\":[{\"id\":\"1545\"}],\"margin\":[5,5,5,5],\"min_border_bottom\":10,\"min_border_left\":10,\"min_border_right\":10,\"min_border_top\":10,\"renderers\":[{\"id\":\"1571\"}],\"right\":[{\"id\":\"1574\"}],\"sizing_mode\":\"fixed\",\"title\":{\"id\":\"1533\"},\"toolbar\":{\"id\":\"1555\"},\"width\":700,\"x_range\":{\"id\":\"1529\"},\"x_scale\":{\"id\":\"1537\"},\"y_range\":{\"id\":\"1530\"},\"y_scale\":{\"id\":\"1539\"}},\"id\":\"1532\",\"subtype\":\"Figure\",\"type\":\"Plot\"},{\"attributes\":{},\"id\":\"1576\",\"type\":\"AllLabels\"},{\"attributes\":{},\"id\":\"1549\",\"type\":\"SaveTool\"},{\"attributes\":{},\"id\":\"1550\",\"type\":\"PanTool\"},{\"attributes\":{\"fill_color\":{\"field\":\"color\",\"transform\":{\"id\":\"1562\"}},\"line_color\":{\"field\":\"color\",\"transform\":{\"id\":\"1562\"}},\"size\":{\"value\":5.477225575051661},\"x\":{\"field\":\"TotalCoinsMined\"},\"y\":{\"field\":\"TotalCoinSupply\"}},\"id\":\"1566\",\"type\":\"Scatter\"},{\"attributes\":{},\"id\":\"1553\",\"type\":\"ResetTool\"},{\"attributes\":{},\"id\":\"1551\",\"type\":\"WheelZoomTool\"},{\"attributes\":{\"margin\":[5,5,5,5],\"name\":\"HSpacer02464\",\"sizing_mode\":\"stretch_width\"},\"id\":\"1603\",\"type\":\"Spacer\"},{\"attributes\":{\"fill_color\":{\"field\":\"color\",\"transform\":{\"id\":\"1562\"}},\"line_color\":{\"field\":\"color\",\"transform\":{\"id\":\"1562\"}},\"size\":{\"value\":5.477225575051661},\"x\":{\"field\":\"TotalCoinsMined\"},\"y\":{\"field\":\"TotalCoinSupply\"}},\"id\":\"1569\",\"type\":\"Scatter\"},{\"attributes\":{\"overlay\":{\"id\":\"1554\"}},\"id\":\"1552\",\"type\":\"BoxZoomTool\"},{\"attributes\":{\"bar_line_color\":\"black\",\"color_mapper\":{\"id\":\"1562\"},\"label_standoff\":8,\"location\":[0,0],\"major_label_policy\":{\"id\":\"1588\"},\"major_tick_line_color\":\"black\",\"ticker\":{\"id\":\"1573\"}},\"id\":\"1574\",\"type\":\"ColorBar\"},{\"attributes\":{\"text_color\":\"black\",\"text_font_size\":\"12pt\"},\"id\":\"1533\",\"type\":\"Title\"},{\"attributes\":{},\"id\":\"1590\",\"type\":\"UnionRenderers\"},{\"attributes\":{\"source\":{\"id\":\"1563\"}},\"id\":\"1572\",\"type\":\"CDSView\"},{\"attributes\":{\"axis\":{\"id\":\"1541\"},\"grid_line_color\":null,\"ticker\":null},\"id\":\"1544\",\"type\":\"Grid\"},{\"attributes\":{},\"id\":\"1575\",\"type\":\"BasicTickFormatter\"},{\"attributes\":{},\"id\":\"1537\",\"type\":\"LinearScale\"},{\"attributes\":{},\"id\":\"1539\",\"type\":\"LinearScale\"},{\"attributes\":{\"axis\":{\"id\":\"1545\"},\"dimension\":1,\"grid_line_color\":null,\"ticker\":null},\"id\":\"1548\",\"type\":\"Grid\"},{\"attributes\":{\"data\":{\"CoinName\":[\"42 Coin\",\"404Coin\",\"EliteCoin\",\"Bitcoin\",\"Ethereum\",\"Litecoin\",\"Dash\",\"Monero\",\"Ethereum Classic\",\"ZCash\",\"Bitshares\",\"DigiByte\",\"BitcoinDark\",\"PayCoin\",\"ProsperCoin\",\"KoboCoin\",\"Spreadcoin\",\"Argentum\",\"Aurora Coin\",\"BlueCoin\",\"MyriadCoin\",\"MoonCoin\",\"ZetaCoin\",\"SexCoin\",\"Quatloo\",\"EnergyCoin\",\"QuarkCoin\",\"Riecoin\",\"Digitalcoin \",\"BitBar\",\"Catcoin\",\"CryptoBullion\",\"CannaCoin\",\"CryptCoin\",\"CasinoCoin\",\"Diamond\",\"Verge\",\"DevCoin\",\"EarthCoin\",\"E-Gulden\",\"Einsteinium\",\"Emerald\",\"Exclusive Coin\",\"FlutterCoin\",\"Franko\",\"FeatherCoin\",\"GrandCoin\",\"GlobalCoin\",\"GoldCoin\",\"HoboNickels\",\"HyperStake\",\"Infinite Coin\",\"IOCoin\",\"IXcoin\",\"KrugerCoin\",\"LuckyCoin\",\"Litebar \",\"MaxCoin\",\"MegaCoin\",\"MediterraneanCoin\",\"MintCoin\",\"MinCoin\",\"MazaCoin\",\"Nautilus Coin\",\"NavCoin\",\"NobleCoin\",\"Namecoin\",\"NyanCoin\",\"OpalCoin\",\"Orbitcoin\",\"PotCoin\",\"PhoenixCoin\",\"Reddcoin\",\"RonPaulCoin\",\"StableCoin\",\"SmartCoin\",\"SuperCoin\",\"SyncCoin\",\"SysCoin\",\"TeslaCoin\",\"TigerCoin\",\"TittieCoin\",\"TorCoin\",\"TerraCoin\",\"UnbreakableCoin\",\"Unobtanium\",\"UroCoin\",\"UnitaryStatus Dollar\",\"UltraCoin\",\"ViaCoin\",\"VeriCoin\",\"Vertcoin\",\"WorldCoin\",\"X11 Coin\",\"Crypti\",\"JouleCoin\",\"StealthCoin\",\"ZCC Coin\",\"ByteCoin\",\"DigitalNote \",\"BurstCoin\",\"StorjCoin\",\"MonaCoin\",\"Neutron\",\"FairCoin\",\"Gulden\",\"RubyCoin\",\"PesetaCoin\",\"Kore\",\"Wild Beast Coin\",\"Dnotes\",\"Flo\",\"8BIT Coin\",\"Sativa Coin\",\"ArtByte\",\"Folding Coin\",\"Ucoin\",\"Unitus\",\"CypherPunkCoin\",\"OmniCron\",\"Vtorrent\",\"GreenCoin\",\"Cryptonite\",\"MasterCoin\",\"SoonCoin\",\"1Credit\",\"IslaCoin\",\"Nexus\",\"MarsCoin \",\"Crypto\",\"Anarchists Prime\",\"Droidz\",\"BowsCoin\",\"Squall Coin\",\"Song Coin\",\"BitZeny\",\"Diggits\",\"Expanse\",\"Paycon\",\"Siacoin\",\"Emercoin\",\"EverGreenCoin\",\"MindCoin\",\"I0coin\",\"Decred\",\"Revolution VR\",\"HOdlcoin\",\"EDRCoin\",\"Hitcoin\",\"Gamecredits\",\"DubaiCoin\",\"CarpeDiemCoin\",\"PWR Coin\",\"BillaryCoin\",\"GPU Coin\",\"Adzcoin\",\"SoilCoin\",\"YoCoin\",\"SibCoin\",\"EuropeCoin\",\"ZeitCoin\",\"SwingCoin\",\"SafeExchangeCoin\",\"Nebuchadnezzar\",\"Francs\",\"BolivarCoin\",\"Ratecoin\",\"Revenu\",\"Clockcoin\",\"VIP Tokens\",\"BitSend\",\"Omni\",\"Let it Ride\",\"PutinCoin\",\"iBankCoin\",\"Frankywillcoin\",\"MudraCoin\",\"PizzaCoin\",\"Lutetium Coin\",\"Komodo\",\"GoldBlocks\",\"CarterCoin\",\"Karbo\",\"BitTokens\",\"ZayedCoin\",\"MustangCoin\",\"ZoneCoin\",\"Circuits of Value\",\"RootCoin\",\"DopeCoin\",\"BitCurrency\",\"DollarCoin\",\"Swiscoin\",\"Shilling\",\"BuzzCoin\",\"Opair\",\"PesoBit\",\"Halloween Coin\",\"ZCoin\",\"CoffeeCoin\",\"RoyalCoin\",\"GanjaCoin V2\",\"TeamUP\",\"LanaCoin\",\"Elementrem\",\"ZClassic\",\"ARK\",\"InsaneCoin\",\"KiloCoin\",\"ArtexCoin\",\"EmberCoin\",\"XenixCoin\",\"FreeCoin\",\"PLNCoin\",\"AquariusCoin\",\"Kurrent\",\"Creatio\",\"Eternity\",\"Eurocoin\",\"BitcoinFast\",\"Stakenet\",\"BitConnect Coin\",\"MoneyCoin\",\"Enigma\",\"Cannabis Industry Coin\",\"Russiacoin\",\"PandaCoin\",\"GameUnits\",\"GAKHcoin\",\"Allsafe\",\"LiteCreed\",\"OsmiumCoin\",\"Bikercoins\",\"HexxCoin\",\"Klingon Empire Darsek\",\"Internet of People\",\"KushCoin\",\"Printerium\",\"PacCoin\",\"Impeach\",\"Citadel\",\"Zilbercoin\",\"FirstCoin\",\"BeaverCoin\",\"FindCoin\",\"VaultCoin\",\"Zero\",\"OpenChat\",\"Canada eCoin\",\"Zoin\",\"RenosCoin\",\"DubaiCoin\",\"VirtacoinPlus\",\"TajCoin\",\"Impact\",\"EB3coin\",\"Atmos\",\"HappyCoin\",\"Coinonat\",\"MacronCoin\",\"Condensate\",\"Independent Money System\",\"ArgusCoin\",\"LomoCoin\",\"ProCurrency\",\"GoldReserve\",\"BenjiRolls\",\"GrowthCoin\",\"ILCoin\",\"Phreak\",\"Degas Coin\",\"HTML5 Coin\",\"Ultimate Secure Cash\",\"EquiTrader\",\"QTUM\",\"Quantum Resistant Ledger\",\"Espers\",\"Dynamic\",\"Nano\",\"ChanCoin\",\"Dinastycoin\",\"Denarius\",\"DigitalPrice\",\"Virta Unique Coin\",\"Bitcoin Planet\",\"Unify\",\"BritCoin\",\"SocialCoin\",\"ArcticCoin\",\"DAS\",\"Linda\",\"LeviarCoin\",\"DeepOnion\",\"Bitcore\",\"gCn Coin\",\"SmartCash\",\"Signatum\",\"Onix\",\"Cream\",\"Bitcoin Cash\",\"Monoeci\",\"Draftcoin\",\"Vechain\",\"Sojourn Coin\",\"Stakecoin\",\"NewYorkCoin\",\"FrazCoin\",\"Kronecoin\",\"AdCoin\",\"Linx\",\"CoinonatX\",\"Ethereum Dark\",\"Sumokoin\",\"Obsidian\",\"Cardano\",\"Regalcoin\",\"BitcoinZ\",\"TrezarCoin\",\"Elements\",\"TerraNovaCoin\",\"VIVO Coin\",\"Rupee\",\"Bitcoin Gold\",\"WomenCoin\",\"Theresa May Coin\",\"NamoCoin\",\"LUXCoin\",\"Pirl\",\"Xios\",\"Bitcloud 2.0\",\"eBoost\",\"KekCoin\",\"BlackholeCoin\",\"Infinity Economics\",\"Pura\",\"Innova\",\"Ellaism\",\"GoByte\",\"Magnet\",\"Lamden Tau\",\"Electra\",\"Bitcoin Diamond\",\"SHIELD\",\"Cash & Back Coin\",\"UltraNote\",\"BitCoal\",\"DaxxCoin\",\"Bulwark\",\"Kalkulus\",\"AC3\",\"Lethean\",\"GermanCoin\",\"LiteCoin Ultra\",\"PopularCoin\",\"PhantomX\",\"Photon\",\"Sucre\",\"SparksPay\",\"Digiwage\",\"GunCoin\",\"IrishCoin\",\"Trollcoin\",\"Litecoin Plus\",\"Monkey Project\",\"Pioneer Coin\",\"UnitedBitcoin\",\"Interzone\",\"TokenPay\",\"1717 Masonic Commemorative Token\",\"My Big Coin\",\"TurtleCoin\",\"MUNcoin\",\"Unified Society USDEX\",\"Niobio Cash\",\"ShareChain\",\"Travelflex\",\"KREDS\",\"Tokyo Coin\",\"BiblePay\",\"LitecoinCash\",\"BitFlip\",\"LottoCoin\",\"Crypto Improvement Fund\",\"Stipend\",\"Poa Network\",\"Pushi\",\"Ellerium\",\"Velox\",\"Ontology\",\"Callisto Network\",\"BitTube\",\"Poseidon\",\"Aidos Kuneen\",\"Bitspace\",\"Briacoin\",\"Ignition\",\"Bitrolium\",\"MedicCoin\",\"Alpenschillling\",\"Bitcoin Green\",\"Deviant Coin\",\"Abjcoin\",\"Semux\",\"FuturoCoin\",\"Carebit\",\"Zealium\",\"Monero Classic\",\"Proton\",\"iDealCash\",\"Jumpcoin\",\"Infinex\",\"Bitcoin Incognito\",\"KEYCO\",\"HollyWoodCoin\",\"GINcoin\",\"PlatinCoin\",\"Loki\",\"Newton Coin\",\"Swisscoin\",\"Xt3ch\",\"MassGrid\",\"TheVig\",\"PluraCoin\",\"EmaratCoin\",\"Dekado\",\"Lynx\",\"Poseidon Quark\",\"BitcoinWSpectrum\",\"Muse\",\"Motion\",\"PlusOneCoin\",\"Axe\",\"Trivechain\",\"Dystem\",\"Giant\",\"Peony Coin\",\"Absolute Coin\",\"Vitae\",\"HexCoin\",\"TPCash\",\"Webchain\",\"Ryo\",\"Urals Coin\",\"Qwertycoin\",\"ARENON\",\"EUNO\",\"MMOCoin\",\"Ketan\",\"Project Pai\",\"XDNA\",\"PAXEX\",\"Azart\",\"ThunderStake\",\"Kcash\",\"Xchange\",\"Acute Angle Cloud\",\"CrypticCoin\",\"Bettex coin\",\"Actinium\",\"Bitcoin SV\",\"BitMoney\",\"Junson Ming Chan Coin\",\"FREDEnergy\",\"HerbCoin\",\"Universal Molecule\",\"Lithium\",\"PirateCash\",\"Exosis\",\"Block-Logic\",\"Oduwa\",\"Beam\",\"Galilel\",\"Bithereum\",\"Crypto Sports\",\"Credit\",\"SLICE\",\"Dash Platinum\",\"Nasdacoin\",\"Beetle Coin\",\"Titan Coin\",\"Award\",\"BLAST\",\"Bitcoin Rhodium\",\"GlobalToken\",\"Insane Coin\",\"ALAX\",\"LiteDoge\",\"SolarCoin\",\"TruckCoin\",\"UFO Coin\",\"OrangeCoin\",\"BlakeCoin\",\"BitstarCoin\",\"NeosCoin\",\"HyperCoin\",\"PinkCoin\",\"Crypto Escudo\",\"AudioCoin\",\"IncaKoin\",\"Piggy Coin\",\"Crown Coin\",\"Genstake\",\"SmileyCoin\",\"XiaoMiCoin\",\"Groestlcoin\",\"CapriCoin\",\" ClubCoin\",\"Radium\",\"Bata\",\"Pakcoin\",\"Creditbit \",\"OKCash\",\"Lisk\",\"HiCoin\",\"WhiteCoin\",\"FriendshipCoin\",\"Fiii\",\"JoinCoin\",\"Triangles Coin\",\"Vollar\",\"EOS\",\"Reality Clash\",\"Oxycoin\",\"TigerCash\",\"Waves\",\"Particl\",\"BitTorrent\",\"Nxt\",\"ZEPHYR\",\"Gapcoin\",\"Beldex\",\"Horizen\",\"BitcoinPlus\"],\"TotalCoinSupply\":{\"__ndarray__\":\"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\",\"dtype\":\"float64\",\"order\":\"little\",\"shape\":[533]},\"TotalCoinsMined\":{\"__ndarray__\":\"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\",\"dtype\":\"float64\",\"order\":\"little\",\"shape\":[533]},\"class\":{\"__ndarray__\":\"AAAAAAAAAAAAAAAAAQAAAAEAAAABAAAAAAAAAAEAAAABAAAAAQAAAAAAAAABAAAAAAAAAAAAAAABAAAAAAAAAAEAAAABAAAAAAAAAAAAAAABAAAAAQAAAAEAAAABAAAAAQAAAAAAAAABAAAAAQAAAAEAAAAAAAAAAQAAAAAAAAABAAAAAQAAAAAAAAAAAAAAAQAAAAEAAAABAAAAAQAAAAEAAAABAAAAAAAAAAAAAAABAAAAAQAAAAEAAAABAAAAAQAAAAAAAAAAAAAAAQAAAAAAAAABAAAAAQAAAAEAAAABAAAAAAAAAAEAAAABAAAAAAAAAAEAAAAAAAAAAAAAAAAAAAABAAAAAQAAAAEAAAAAAAAAAAAAAAAAAAAAAAAAAAAAAAEAAAABAAAAAQAAAAAAAAAAAAAAAQAAAAAAAAABAAAAAAAAAAAAAAABAAAAAQAAAAEAAAABAAAAAAAAAAAAAAABAAAAAAAAAAEAAAABAAAAAAAAAAAAAAABAAAAAAAAAAAAAAABAAAAAQAAAAAAAAAAAAAAAQAAAAAAAAAAAAAAAQAAAAAAAAABAAAAAAAAAAEAAAAAAAAAAQAAAAAAAAAAAAAAAQAAAAEAAAAAAAAAAQAAAAEAAAABAAAAAAAAAAEAAAABAAAAAQAAAAEAAAABAAAAAAAAAAAAAAABAAAAAQAAAAEAAAAAAAAAAQAAAAAAAAABAAAAAQAAAAAAAAABAAAAAAAAAAEAAAAAAAAAAAAAAAEAAAABAAAAAAAAAAEAAAABAAAAAAAAAAAAAAABAAAAAAAAAAEAAAAAAAAAAAAAAAAAAAABAAAAAQAAAAEAAAABAAAAAAAAAAAAAAAAAAAAAAAAAAAAAAABAAAAAQAAAAAAAAAAAAAAAAAAAAAAAAAAAAAAAQAAAAAAAAAAAAAAAAAAAAAAAAAAAAAAAQAAAAAAAAABAAAAAAAAAAAAAAABAAAAAAAAAAEAAAAAAAAAAAAAAAEAAAAAAAAAAQAAAAAAAAABAAAAAAAAAAEAAAAAAAAAAAAAAAAAAAAAAAAAAQAAAAAAAAAAAAAAAAAAAAAAAAAAAAAAAQAAAAEAAAAAAAAAAAAAAAEAAAABAAAAAAAAAAAAAAAAAAAAAAAAAAAAAAABAAAAAAAAAAAAAAAAAAAAAAAAAAAAAAAAAAAAAAAAAAAAAAABAAAAAAAAAAAAAAAAAAAAAAAAAAAAAAAAAAAAAQAAAAEAAAABAAAAAAAAAAAAAAAAAAAAAAAAAAEAAAAAAAAAAQAAAAAAAAAAAAAAAQAAAAAAAAABAAAAAQAAAAAAAAABAAAAAQAAAAAAAAABAAAAAAAAAAAAAAAAAAAAAQAAAAAAAAAAAAAAAQAAAAAAAAAAAAAAAAAAAAAAAAAAAAAAAAAAAAAAAAABAAAAAAAAAAEAAAAAAAAAAAAAAAAAAAAAAAAAAQAAAAAAAAABAAAAAAAAAAEAAAABAAAAAQAAAAEAAAAAAAAAAQAAAAAAAAAAAAAAAQAAAAAAAAABAAAAAQAAAAEAAAAAAAAAAQAAAAAAAAABAAAAAQAAAAEAAAAAAAAAAQAAAAAAAAABAAAAAAAAAAAAAAAAAAAAAQAAAAAAAAABAAAAAQAAAAEAAAABAAAAAQAAAAAAAAAAAAAAAQAAAAAAAAAAAAAAAAAAAAEAAAAAAAAAAQAAAAAAAAABAAAAAAAAAAEAAAAAAAAAAAAAAAAAAAAAAAAAAQAAAAAAAAAAAAAAAQAAAAAAAAAAAAAAAAAAAAEAAAABAAAAAQAAAAEAAAAAAAAAAAAAAAAAAAAAAAAAAQAAAAAAAAABAAAAAQAAAAEAAAAAAAAAAAAAAAEAAAABAAAAAAAAAAAAAAABAAAAAAAAAAEAAAABAAAAAQAAAAAAAAABAAAAAQAAAAAAAAAAAAAAAAAAAAEAAAABAAAAAQAAAAAAAAAAAAAAAAAAAAEAAAABAAAAAAAAAAEAAAABAAAAAQAAAAEAAAAAAAAAAwAAAAMAAAABAAAAAQAAAAEAAAAAAAAAAwAAAAAAAAAAAAAAAAAAAAAAAAABAAAAAQAAAAEAAAABAAAAAAAAAAAAAAAAAAAAAQAAAAAAAAABAAAAAAAAAAAAAAAAAAAAAAAAAAEAAAAAAAAAAAAAAAEAAAAAAAAAAAAAAAEAAAABAAAAAAAAAAEAAAAAAAAAAQAAAAEAAAABAAAAAQAAAAAAAAAAAAAAAQAAAAAAAAABAAAAAAAAAAAAAAAAAAAAAAAAAAAAAAAAAAAAAQAAAAEAAAABAAAAAAAAAAAAAAAAAAAAAAAAAAAAAAAAAAAAAQAAAAAAAAABAAAAAQAAAAEAAAABAAAAAAAAAAAAAAAAAAAAAAAAAAEAAAAAAAAAAAAAAAEAAAAAAAAAAAAAAAEAAAADAAAAAQAAAAAAAAABAAAAAQAAAAAAAAAAAAAAAQAAAAAAAAABAAAAAQAAAAAAAAABAAAAAQAAAAAAAAABAAAAAAAAAAEAAAAAAAAAAAAAAAEAAAAAAAAAAAAAAAAAAAAAAAAAAAAAAAEAAAABAAAAAQAAAAAAAAAAAAAAAAAAAAEAAAAAAAAAAQAAAAAAAAABAAAAAAAAAAAAAAAAAAAAAAAAAAEAAAAAAAAAAAAAAAAAAAABAAAAAAAAAAEAAAAAAAAAAQAAAAAAAAAAAAAAAAAAAAEAAAABAAAAAAAAAAAAAAAAAAAAAAAAAAAAAAAAAAAAAwAAAAEAAAAAAAAAAQAAAAAAAAABAAAAAAAAAAAAAAADAAAAAAAAAAIAAAAAAAAAAAAAAAAAAAABAAAAAQAAAAAAAAA=\",\"dtype\":\"int32\",\"order\":\"little\",\"shape\":[533]},\"color\":{\"__ndarray__\":\"AAAAAAAAAAAAAAAAAQAAAAEAAAABAAAAAAAAAAEAAAABAAAAAQAAAAAAAAABAAAAAAAAAAAAAAABAAAAAAAAAAEAAAABAAAAAAAAAAAAAAABAAAAAQAAAAEAAAABAAAAAQAAAAAAAAABAAAAAQAAAAEAAAAAAAAAAQAAAAAAAAABAAAAAQAAAAAAAAAAAAAAAQAAAAEAAAABAAAAAQAAAAEAAAABAAAAAAAAAAAAAAABAAAAAQAAAAEAAAABAAAAAQAAAAAAAAAAAAAAAQAAAAAAAAABAAAAAQAAAAEAAAABAAAAAAAAAAEAAAABAAAAAAAAAAEAAAAAAAAAAAAAAAAAAAABAAAAAQAAAAEAAAAAAAAAAAAAAAAAAAAAAAAAAAAAAAEAAAABAAAAAQAAAAAAAAAAAAAAAQAAAAAAAAABAAAAAAAAAAAAAAABAAAAAQAAAAEAAAABAAAAAAAAAAAAAAABAAAAAAAAAAEAAAABAAAAAAAAAAAAAAABAAAAAAAAAAAAAAABAAAAAQAAAAAAAAAAAAAAAQAAAAAAAAAAAAAAAQAAAAAAAAABAAAAAAAAAAEAAAAAAAAAAQAAAAAAAAAAAAAAAQAAAAEAAAAAAAAAAQAAAAEAAAABAAAAAAAAAAEAAAABAAAAAQAAAAEAAAABAAAAAAAAAAAAAAABAAAAAQAAAAEAAAAAAAAAAQAAAAAAAAABAAAAAQAAAAAAAAABAAAAAAAAAAEAAAAAAAAAAAAAAAEAAAABAAAAAAAAAAEAAAABAAAAAAAAAAAAAAABAAAAAAAAAAEAAAAAAAAAAAAAAAAAAAABAAAAAQAAAAEAAAABAAAAAAAAAAAAAAAAAAAAAAAAAAAAAAABAAAAAQAAAAAAAAAAAAAAAAAAAAAAAAAAAAAAAQAAAAAAAAAAAAAAAAAAAAAAAAAAAAAAAQAAAAAAAAABAAAAAAAAAAAAAAABAAAAAAAAAAEAAAAAAAAAAAAAAAEAAAAAAAAAAQAAAAAAAAABAAAAAAAAAAEAAAAAAAAAAAAAAAAAAAAAAAAAAQAAAAAAAAAAAAAAAAAAAAAAAAAAAAAAAQAAAAEAAAAAAAAAAAAAAAEAAAABAAAAAAAAAAAAAAAAAAAAAAAAAAAAAAABAAAAAAAAAAAAAAAAAAAAAAAAAAAAAAAAAAAAAAAAAAAAAAABAAAAAAAAAAAAAAAAAAAAAAAAAAAAAAAAAAAAAQAAAAEAAAABAAAAAAAAAAAAAAAAAAAAAAAAAAEAAAAAAAAAAQAAAAAAAAAAAAAAAQAAAAAAAAABAAAAAQAAAAAAAAABAAAAAQAAAAAAAAABAAAAAAAAAAAAAAAAAAAAAQAAAAAAAAAAAAAAAQAAAAAAAAAAAAAAAAAAAAAAAAAAAAAAAAAAAAAAAAABAAAAAAAAAAEAAAAAAAAAAAAAAAAAAAAAAAAAAQAAAAAAAAABAAAAAAAAAAEAAAABAAAAAQAAAAEAAAAAAAAAAQAAAAAAAAAAAAAAAQAAAAAAAAABAAAAAQAAAAEAAAAAAAAAAQAAAAAAAAABAAAAAQAAAAEAAAAAAAAAAQAAAAAAAAABAAAAAAAAAAAAAAAAAAAAAQAAAAAAAAABAAAAAQAAAAEAAAABAAAAAQAAAAAAAAAAAAAAAQAAAAAAAAAAAAAAAAAAAAEAAAAAAAAAAQAAAAAAAAABAAAAAAAAAAEAAAAAAAAAAAAAAAAAAAAAAAAAAQAAAAAAAAAAAAAAAQAAAAAAAAAAAAAAAAAAAAEAAAABAAAAAQAAAAEAAAAAAAAAAAAAAAAAAAAAAAAAAQAAAAAAAAABAAAAAQAAAAEAAAAAAAAAAAAAAAEAAAABAAAAAAAAAAAAAAABAAAAAAAAAAEAAAABAAAAAQAAAAAAAAABAAAAAQAAAAAAAAAAAAAAAAAAAAEAAAABAAAAAQAAAAAAAAAAAAAAAAAAAAEAAAABAAAAAAAAAAEAAAABAAAAAQAAAAEAAAAAAAAAAwAAAAMAAAABAAAAAQAAAAEAAAAAAAAAAwAAAAAAAAAAAAAAAAAAAAAAAAABAAAAAQAAAAEAAAABAAAAAAAAAAAAAAAAAAAAAQAAAAAAAAABAAAAAAAAAAAAAAAAAAAAAAAAAAEAAAAAAAAAAAAAAAEAAAAAAAAAAAAAAAEAAAABAAAAAAAAAAEAAAAAAAAAAQAAAAEAAAABAAAAAQAAAAAAAAAAAAAAAQAAAAAAAAABAAAAAAAAAAAAAAAAAAAAAAAAAAAAAAAAAAAAAQAAAAEAAAABAAAAAAAAAAAAAAAAAAAAAAAAAAAAAAAAAAAAAQAAAAAAAAABAAAAAQAAAAEAAAABAAAAAAAAAAAAAAAAAAAAAAAAAAEAAAAAAAAAAAAAAAEAAAAAAAAAAAAAAAEAAAADAAAAAQAAAAAAAAABAAAAAQAAAAAAAAAAAAAAAQAAAAAAAAABAAAAAQAAAAAAAAABAAAAAQAAAAAAAAABAAAAAAAAAAEAAAAAAAAAAAAAAAEAAAAAAAAAAAAAAAAAAAAAAAAAAAAAAAEAAAABAAAAAQAAAAAAAAAAAAAAAAAAAAEAAAAAAAAAAQAAAAAAAAABAAAAAAAAAAAAAAAAAAAAAAAAAAEAAAAAAAAAAAAAAAAAAAABAAAAAAAAAAEAAAAAAAAAAQAAAAAAAAAAAAAAAAAAAAEAAAABAAAAAAAAAAAAAAAAAAAAAAAAAAAAAAAAAAAAAwAAAAEAAAAAAAAAAQAAAAAAAAABAAAAAAAAAAAAAAADAAAAAAAAAAIAAAAAAAAAAAAAAAAAAAABAAAAAQAAAAAAAAA=\",\"dtype\":\"int32\",\"order\":\"little\",\"shape\":[533]}},\"selected\":{\"id\":\"1564\"},\"selection_policy\":{\"id\":\"1590\"}},\"id\":\"1563\",\"type\":\"ColumnDataSource\"},{\"attributes\":{\"axis_label\":\"TotalCoinsMined\",\"formatter\":{\"id\":\"1575\"},\"major_label_policy\":{\"id\":\"1576\"},\"ticker\":{\"id\":\"1542\"}},\"id\":\"1541\",\"type\":\"LinearAxis\"},{\"attributes\":{},\"id\":\"1573\",\"type\":\"BasicTicker\"},{\"attributes\":{\"end\":1100000.0,\"reset_end\":1100000.0,\"reset_start\":-100000.0,\"start\":-100000.0,\"tags\":[[[\"TotalCoinSupply\",\"TotalCoinSupply\",null]]]},\"id\":\"1530\",\"type\":\"Range1d\"},{\"attributes\":{},\"id\":\"1579\",\"type\":\"AllLabels\"},{\"attributes\":{},\"id\":\"1546\",\"type\":\"BasicTicker\"},{\"attributes\":{\"axis_label\":\"TotalCoinSupply\",\"formatter\":{\"id\":\"1578\"},\"major_label_policy\":{\"id\":\"1579\"},\"ticker\":{\"id\":\"1546\"}},\"id\":\"1545\",\"type\":\"LinearAxis\"},{\"attributes\":{\"active_multi\":null,\"tools\":[{\"id\":\"1531\"},{\"id\":\"1549\"},{\"id\":\"1550\"},{\"id\":\"1551\"},{\"id\":\"1552\"},{\"id\":\"1553\"}]},\"id\":\"1555\",\"type\":\"Toolbar\"},{\"attributes\":{\"fill_color\":{\"field\":\"color\",\"transform\":{\"id\":\"1562\"}},\"line_color\":{\"field\":\"color\",\"transform\":{\"id\":\"1562\"}},\"size\":{\"value\":5.477225575051661},\"x\":{\"field\":\"TotalCoinsMined\"},\"y\":{\"field\":\"TotalCoinSupply\"}},\"id\":\"1568\",\"type\":\"Scatter\"},{\"attributes\":{\"data_source\":{\"id\":\"1563\"},\"glyph\":{\"id\":\"1566\"},\"hover_glyph\":{\"id\":\"1569\"},\"muted_glyph\":{\"id\":\"1570\"},\"nonselection_glyph\":{\"id\":\"1567\"},\"selection_glyph\":{\"id\":\"1568\"},\"view\":{\"id\":\"1572\"}},\"id\":\"1571\",\"type\":\"GlyphRenderer\"},{\"attributes\":{\"children\":[{\"id\":\"1528\"},{\"id\":\"1532\"},{\"id\":\"1603\"}],\"margin\":[0,0,0,0],\"name\":\"Row02459\",\"tags\":[\"embedded\"]},\"id\":\"1527\",\"type\":\"Row\"},{\"attributes\":{\"bottom_units\":\"screen\",\"fill_alpha\":0.5,\"fill_color\":\"lightgrey\",\"left_units\":\"screen\",\"level\":\"overlay\",\"line_alpha\":1.0,\"line_color\":\"black\",\"line_dash\":[4,4],\"line_width\":2,\"right_units\":\"screen\",\"syncable\":false,\"top_units\":\"screen\"},\"id\":\"1554\",\"type\":\"BoxAnnotation\"},{\"attributes\":{\"margin\":[5,5,5,5],\"name\":\"HSpacer02463\",\"sizing_mode\":\"stretch_width\"},\"id\":\"1528\",\"type\":\"Spacer\"},{\"attributes\":{\"fill_alpha\":{\"value\":0.1},\"fill_color\":{\"field\":\"color\",\"transform\":{\"id\":\"1562\"}},\"line_alpha\":{\"value\":0.1},\"line_color\":{\"field\":\"color\",\"transform\":{\"id\":\"1562\"}},\"size\":{\"value\":5.477225575051661},\"x\":{\"field\":\"TotalCoinsMined\"},\"y\":{\"field\":\"TotalCoinSupply\"}},\"id\":\"1567\",\"type\":\"Scatter\"},{\"attributes\":{\"callback\":null,\"renderers\":[{\"id\":\"1571\"}],\"tags\":[\"hv_created\"],\"tooltips\":[[\"TotalCoinsMined\",\"@{TotalCoinsMined}\"],[\"TotalCoinSupply\",\"@{TotalCoinSupply}\"],[\"class\",\"@{class}\"],[\"CoinName\",\"@{CoinName}\"]]},\"id\":\"1531\",\"type\":\"HoverTool\"},{\"attributes\":{},\"id\":\"1542\",\"type\":\"BasicTicker\"},{\"attributes\":{\"high\":3,\"low\":0,\"palette\":[\"#440154\",\"#440255\",\"#440357\",\"#450558\",\"#45065a\",\"#45085b\",\"#46095c\",\"#460b5e\",\"#460c5f\",\"#460e61\",\"#470f62\",\"#471163\",\"#471265\",\"#471466\",\"#471567\",\"#471669\",\"#47186a\",\"#48196b\",\"#481a6c\",\"#481c6e\",\"#481d6f\",\"#481e70\",\"#482071\",\"#482172\",\"#482273\",\"#482374\",\"#472575\",\"#472676\",\"#472777\",\"#472878\",\"#472a79\",\"#472b7a\",\"#472c7b\",\"#462d7c\",\"#462f7c\",\"#46307d\",\"#46317e\",\"#45327f\",\"#45347f\",\"#453580\",\"#453681\",\"#443781\",\"#443982\",\"#433a83\",\"#433b83\",\"#433c84\",\"#423d84\",\"#423e85\",\"#424085\",\"#414186\",\"#414286\",\"#404387\",\"#404487\",\"#3f4587\",\"#3f4788\",\"#3e4888\",\"#3e4989\",\"#3d4a89\",\"#3d4b89\",\"#3d4c89\",\"#3c4d8a\",\"#3c4e8a\",\"#3b508a\",\"#3b518a\",\"#3a528b\",\"#3a538b\",\"#39548b\",\"#39558b\",\"#38568b\",\"#38578c\",\"#37588c\",\"#37598c\",\"#365a8c\",\"#365b8c\",\"#355c8c\",\"#355d8c\",\"#345e8d\",\"#345f8d\",\"#33608d\",\"#33618d\",\"#32628d\",\"#32638d\",\"#31648d\",\"#31658d\",\"#31668d\",\"#30678d\",\"#30688d\",\"#2f698d\",\"#2f6a8d\",\"#2e6b8e\",\"#2e6c8e\",\"#2e6d8e\",\"#2d6e8e\",\"#2d6f8e\",\"#2c708e\",\"#2c718e\",\"#2c728e\",\"#2b738e\",\"#2b748e\",\"#2a758e\",\"#2a768e\",\"#2a778e\",\"#29788e\",\"#29798e\",\"#287a8e\",\"#287a8e\",\"#287b8e\",\"#277c8e\",\"#277d8e\",\"#277e8e\",\"#267f8e\",\"#26808e\",\"#26818e\",\"#25828e\",\"#25838d\",\"#24848d\",\"#24858d\",\"#24868d\",\"#23878d\",\"#23888d\",\"#23898d\",\"#22898d\",\"#228a8d\",\"#228b8d\",\"#218c8d\",\"#218d8c\",\"#218e8c\",\"#208f8c\",\"#20908c\",\"#20918c\",\"#1f928c\",\"#1f938b\",\"#1f948b\",\"#1f958b\",\"#1f968b\",\"#1e978a\",\"#1e988a\",\"#1e998a\",\"#1e998a\",\"#1e9a89\",\"#1e9b89\",\"#1e9c89\",\"#1e9d88\",\"#1e9e88\",\"#1e9f88\",\"#1ea087\",\"#1fa187\",\"#1fa286\",\"#1fa386\",\"#20a485\",\"#20a585\",\"#21a685\",\"#21a784\",\"#22a784\",\"#23a883\",\"#23a982\",\"#24aa82\",\"#25ab81\",\"#26ac81\",\"#27ad80\",\"#28ae7f\",\"#29af7f\",\"#2ab07e\",\"#2bb17d\",\"#2cb17d\",\"#2eb27c\",\"#2fb37b\",\"#30b47a\",\"#32b57a\",\"#33b679\",\"#35b778\",\"#36b877\",\"#38b976\",\"#39b976\",\"#3bba75\",\"#3dbb74\",\"#3ebc73\",\"#40bd72\",\"#42be71\",\"#44be70\",\"#45bf6f\",\"#47c06e\",\"#49c16d\",\"#4bc26c\",\"#4dc26b\",\"#4fc369\",\"#51c468\",\"#53c567\",\"#55c666\",\"#57c665\",\"#59c764\",\"#5bc862\",\"#5ec961\",\"#60c960\",\"#62ca5f\",\"#64cb5d\",\"#67cc5c\",\"#69cc5b\",\"#6bcd59\",\"#6dce58\",\"#70ce56\",\"#72cf55\",\"#74d054\",\"#77d052\",\"#79d151\",\"#7cd24f\",\"#7ed24e\",\"#81d34c\",\"#83d34b\",\"#86d449\",\"#88d547\",\"#8bd546\",\"#8dd644\",\"#90d643\",\"#92d741\",\"#95d73f\",\"#97d83e\",\"#9ad83c\",\"#9dd93a\",\"#9fd938\",\"#a2da37\",\"#a5da35\",\"#a7db33\",\"#aadb32\",\"#addc30\",\"#afdc2e\",\"#b2dd2c\",\"#b5dd2b\",\"#b7dd29\",\"#bade27\",\"#bdde26\",\"#bfdf24\",\"#c2df22\",\"#c5df21\",\"#c7e01f\",\"#cae01e\",\"#cde01d\",\"#cfe11c\",\"#d2e11b\",\"#d4e11a\",\"#d7e219\",\"#dae218\",\"#dce218\",\"#dfe318\",\"#e1e318\",\"#e4e318\",\"#e7e419\",\"#e9e419\",\"#ece41a\",\"#eee51b\",\"#f1e51c\",\"#f3e51e\",\"#f6e61f\",\"#f8e621\",\"#fae622\",\"#fde724\"]},\"id\":\"1562\",\"type\":\"LinearColorMapper\"},{\"attributes\":{},\"id\":\"1588\",\"type\":\"NoOverlap\"},{\"attributes\":{},\"id\":\"1564\",\"type\":\"Selection\"},{\"attributes\":{\"fill_alpha\":{\"value\":0.2},\"fill_color\":{\"field\":\"color\",\"transform\":{\"id\":\"1562\"}},\"line_alpha\":{\"value\":0.2},\"line_color\":{\"field\":\"color\",\"transform\":{\"id\":\"1562\"}},\"size\":{\"value\":5.477225575051661},\"x\":{\"field\":\"TotalCoinsMined\"},\"y\":{\"field\":\"TotalCoinSupply\"}},\"id\":\"1570\",\"type\":\"Scatter\"},{\"attributes\":{},\"id\":\"1578\",\"type\":\"BasicTickFormatter\"},{\"attributes\":{\"end\":1032670.4287676899,\"reset_end\":1032670.4287676899,\"reset_start\":-48599.69287600845,\"start\":-48599.69287600845,\"tags\":[[[\"TotalCoinsMined\",\"TotalCoinsMined\",null]]]},\"id\":\"1529\",\"type\":\"Range1d\"}],\"root_ids\":[\"1527\"]},\"title\":\"Bokeh Application\",\"version\":\"2.3.2\"}};\n",
       "    var render_items = [{\"docid\":\"d2e4209a-8d1f-42dc-9383-52da6944c4c4\",\"root_ids\":[\"1527\"],\"roots\":{\"1527\":\"82171efa-a94a-46e0-ad78-dc3676c69549\"}}];\n",
       "    root.Bokeh.embed.embed_items_notebook(docs_json, render_items);\n",
       "  }\n",
       "  if (root.Bokeh !== undefined && root.Bokeh.Panel !== undefined) {\n",
       "    embed_document(root);\n",
       "  } else {\n",
       "    var attempts = 0;\n",
       "    var timer = setInterval(function(root) {\n",
       "      if (root.Bokeh !== undefined && root.Bokeh.Panel !== undefined) {\n",
       "        clearInterval(timer);\n",
       "        embed_document(root);\n",
       "      } else if (document.readyState == \"complete\") {\n",
       "        attempts++;\n",
       "        if (attempts > 200) {\n",
       "          clearInterval(timer);\n",
       "          console.log(\"Bokeh: ERROR: Unable to run BokehJS code because BokehJS library is missing\");\n",
       "        }\n",
       "      }\n",
       "    }, 25, root)\n",
       "  }\n",
       "})(window);</script>"
      ],
      "text/plain": [
       ":Scatter   [TotalCoinsMined]   (TotalCoinSupply,class,CoinName)"
      ]
     },
     "execution_count": 317,
     "metadata": {
      "application/vnd.holoviews_exec.v0+json": {
       "id": "1527"
      }
     },
     "output_type": "execute_result"
    }
   ],
   "source": [
    "# Plot the scatter with x=\"TotalCoinsMined\" and y=\"TotalCoinSupply\"\n",
    "df_merged.hvplot(\n",
    "    kind=\"scatter\", \n",
    "    x=\"TotalCoinsMined\", \n",
    "    y=\"TotalCoinSupply\", \n",
    "    c='class', \n",
    "    colormap=\"viridis\", \n",
    "    hover_cols=['CoinName']\n",
    ")"
   ]
  },
  {
   "cell_type": "code",
   "execution_count": null,
   "metadata": {},
   "outputs": [],
   "source": []
  }
 ],
 "metadata": {
  "file_extension": ".py",
  "kernelspec": {
   "display_name": "Python [conda env:alpacaenv]",
   "language": "python",
   "name": "conda-env-alpacaenv-py"
  },
  "language_info": {
   "codemirror_mode": {
    "name": "ipython",
    "version": 3
   },
   "file_extension": ".py",
   "mimetype": "text/x-python",
   "name": "python",
   "nbconvert_exporter": "python",
   "pygments_lexer": "ipython3",
   "version": "3.7.10"
  },
  "mimetype": "text/x-python",
  "name": "python",
  "npconvert_exporter": "python",
  "pygments_lexer": "ipython3",
  "version": 3
 },
 "nbformat": 4,
 "nbformat_minor": 4
}
